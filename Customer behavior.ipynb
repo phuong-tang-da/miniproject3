{
 "cells": [
  {
   "cell_type": "code",
   "execution_count": 131,
   "id": "d7ec61b8",
   "metadata": {},
   "outputs": [],
   "source": [
    "import pandas as pd\n",
    "import numpy as np\n",
    "import matplotlib.pyplot as plt\n",
    "import seaborn as sns\n",
    "import scipy.stats as st\n",
    "from sklearn.preprocessing import RobustScaler,MinMaxScaler\n",
    "from sklearn.cluster import KMeans\n",
    "from sklearn.cluster import AgglomerativeClustering\n",
    "import scipy.cluster.hierarchy as sch\n",
    "import plotly.express as px\n",
    "from sklearn.decomposition import PCA\n",
    "import sklearn\n",
    "\n",
    "from sklearn.discriminant_analysis import LinearDiscriminantAnalysis as LDA"
   ]
  },
  {
   "cell_type": "markdown",
   "id": "9b7b6515",
   "metadata": {},
   "source": [
    "### account\n",
    "- number of customer\n",
    "- number of active customer (with at least 1 active account)\n",
    "- feature: number of account per customer, number of active account, number of nonactive account"
   ]
  },
  {
   "cell_type": "code",
   "execution_count": 2,
   "id": "e9e61142",
   "metadata": {},
   "outputs": [
    {
     "data": {
      "text/html": [
       "<div>\n",
       "<style scoped>\n",
       "    .dataframe tbody tr th:only-of-type {\n",
       "        vertical-align: middle;\n",
       "    }\n",
       "\n",
       "    .dataframe tbody tr th {\n",
       "        vertical-align: top;\n",
       "    }\n",
       "\n",
       "    .dataframe thead th {\n",
       "        text-align: right;\n",
       "    }\n",
       "</style>\n",
       "<table border=\"1\" class=\"dataframe\">\n",
       "  <thead>\n",
       "    <tr style=\"text-align: right;\">\n",
       "      <th></th>\n",
       "      <th>acct_nbr</th>\n",
       "      <th>cust_id</th>\n",
       "      <th>acct_type</th>\n",
       "      <th>account_active</th>\n",
       "      <th>acct_start_date</th>\n",
       "      <th>acct_end_date</th>\n",
       "      <th>starting_balance</th>\n",
       "      <th>ending_balance</th>\n",
       "    </tr>\n",
       "  </thead>\n",
       "  <tbody>\n",
       "    <tr>\n",
       "      <th>0</th>\n",
       "      <td>13628063</td>\n",
       "      <td>1362806</td>\n",
       "      <td>SV</td>\n",
       "      <td>Y</td>\n",
       "      <td>10.12.1995</td>\n",
       "      <td>NaN</td>\n",
       "      <td>1430.22</td>\n",
       "      <td>284.58</td>\n",
       "    </tr>\n",
       "    <tr>\n",
       "      <th>1</th>\n",
       "      <td>4561143213627090</td>\n",
       "      <td>1362709</td>\n",
       "      <td>CC</td>\n",
       "      <td>Y</td>\n",
       "      <td>15.3.1993</td>\n",
       "      <td>NaN</td>\n",
       "      <td>266.34</td>\n",
       "      <td>496.15</td>\n",
       "    </tr>\n",
       "    <tr>\n",
       "      <th>2</th>\n",
       "      <td>4561143213628360</td>\n",
       "      <td>1362836</td>\n",
       "      <td>CC</td>\n",
       "      <td>Y</td>\n",
       "      <td>18.3.1992</td>\n",
       "      <td>NaN</td>\n",
       "      <td>55.90</td>\n",
       "      <td>1000.00</td>\n",
       "    </tr>\n",
       "    <tr>\n",
       "      <th>3</th>\n",
       "      <td>13633112</td>\n",
       "      <td>1363311</td>\n",
       "      <td>CK</td>\n",
       "      <td>Y</td>\n",
       "      <td>6.7.1995</td>\n",
       "      <td>NaN</td>\n",
       "      <td>11017.13</td>\n",
       "      <td>968.46</td>\n",
       "    </tr>\n",
       "    <tr>\n",
       "      <th>4</th>\n",
       "      <td>4561143213633610</td>\n",
       "      <td>1363361</td>\n",
       "      <td>CC</td>\n",
       "      <td>Y</td>\n",
       "      <td>17.6.1994</td>\n",
       "      <td>NaN</td>\n",
       "      <td>849.37</td>\n",
       "      <td>462.28</td>\n",
       "    </tr>\n",
       "  </tbody>\n",
       "</table>\n",
       "</div>"
      ],
      "text/plain": [
       "           acct_nbr  cust_id acct_type account_active acct_start_date  \\\n",
       "0          13628063  1362806      SV               Y       10.12.1995   \n",
       "1  4561143213627090  1362709      CC               Y        15.3.1993   \n",
       "2  4561143213628360  1362836      CC               Y        18.3.1992   \n",
       "3          13633112  1363311      CK               Y         6.7.1995   \n",
       "4  4561143213633610  1363361      CC               Y        17.6.1994   \n",
       "\n",
       "  acct_end_date  starting_balance  ending_balance  \n",
       "0           NaN           1430.22          284.58  \n",
       "1           NaN            266.34          496.15  \n",
       "2           NaN             55.90         1000.00  \n",
       "3           NaN          11017.13          968.46  \n",
       "4           NaN            849.37          462.28  "
      ]
     },
     "execution_count": 2,
     "metadata": {},
     "output_type": "execute_result"
    }
   ],
   "source": [
    "account= pd.read_csv('mini-project-III/twm_accounts.csv',sep=\";\")\n",
    "account.head()"
   ]
  },
  {
   "cell_type": "code",
   "execution_count": 3,
   "id": "0ac36921",
   "metadata": {},
   "outputs": [
    {
     "data": {
      "text/html": [
       "<div>\n",
       "<style scoped>\n",
       "    .dataframe tbody tr th:only-of-type {\n",
       "        vertical-align: middle;\n",
       "    }\n",
       "\n",
       "    .dataframe tbody tr th {\n",
       "        vertical-align: top;\n",
       "    }\n",
       "\n",
       "    .dataframe thead th {\n",
       "        text-align: right;\n",
       "    }\n",
       "</style>\n",
       "<table border=\"1\" class=\"dataframe\">\n",
       "  <thead>\n",
       "    <tr style=\"text-align: right;\">\n",
       "      <th></th>\n",
       "      <th>cust_id</th>\n",
       "      <th>no_of_account</th>\n",
       "    </tr>\n",
       "  </thead>\n",
       "  <tbody>\n",
       "    <tr>\n",
       "      <th>0</th>\n",
       "      <td>1362480</td>\n",
       "      <td>3</td>\n",
       "    </tr>\n",
       "    <tr>\n",
       "      <th>1</th>\n",
       "      <td>1362484</td>\n",
       "      <td>3</td>\n",
       "    </tr>\n",
       "    <tr>\n",
       "      <th>2</th>\n",
       "      <td>1362485</td>\n",
       "      <td>2</td>\n",
       "    </tr>\n",
       "    <tr>\n",
       "      <th>3</th>\n",
       "      <td>1362486</td>\n",
       "      <td>2</td>\n",
       "    </tr>\n",
       "    <tr>\n",
       "      <th>4</th>\n",
       "      <td>1362487</td>\n",
       "      <td>3</td>\n",
       "    </tr>\n",
       "  </tbody>\n",
       "</table>\n",
       "</div>"
      ],
      "text/plain": [
       "   cust_id  no_of_account\n",
       "0  1362480              3\n",
       "1  1362484              3\n",
       "2  1362485              2\n",
       "3  1362486              2\n",
       "4  1362487              3"
      ]
     },
     "execution_count": 3,
     "metadata": {},
     "output_type": "execute_result"
    }
   ],
   "source": [
    "## feature: number of accounts per customer\n",
    "no_account= account.groupby('cust_id').acct_type.count().reset_index()\n",
    "no_account.columns = ['cust_id', 'no_of_account']\n",
    "no_account.head()"
   ]
  },
  {
   "cell_type": "code",
   "execution_count": 4,
   "id": "e6774d5b",
   "metadata": {},
   "outputs": [
    {
     "name": "stdout",
     "output_type": "stream",
     "text": [
      "<class 'pandas.core.frame.DataFrame'>\n",
      "RangeIndex: 665 entries, 0 to 664\n",
      "Data columns (total 2 columns):\n",
      " #   Column         Non-Null Count  Dtype\n",
      "---  ------         --------------  -----\n",
      " 0   cust_id        665 non-null    int64\n",
      " 1   no_of_account  665 non-null    int64\n",
      "dtypes: int64(2)\n",
      "memory usage: 10.5 KB\n"
     ]
    }
   ],
   "source": [
    "## number of customer : 665\n",
    "no_account.info()"
   ]
  },
  {
   "cell_type": "code",
   "execution_count": 5,
   "id": "0e7fa4de",
   "metadata": {},
   "outputs": [
    {
     "name": "stdout",
     "output_type": "stream",
     "text": [
      "<class 'pandas.core.frame.DataFrame'>\n",
      "RangeIndex: 642 entries, 0 to 641\n",
      "Data columns (total 2 columns):\n",
      " #   Column             Non-Null Count  Dtype\n",
      "---  ------             --------------  -----\n",
      " 0   cust_id            642 non-null    int64\n",
      " 1   no_active_account  642 non-null    int64\n",
      "dtypes: int64(2)\n",
      "memory usage: 10.2 KB\n"
     ]
    }
   ],
   "source": [
    "## feature: number of active account per customer\n",
    "no_active_account= account[account.account_active == \"Y \"].groupby('cust_id').acct_type.count().reset_index()\n",
    "no_active_account.columns= ['cust_id', 'no_active_account']\n",
    "no_active_account.info()\n",
    "# 642 active customer (have at least 1 active account)"
   ]
  },
  {
   "cell_type": "code",
   "execution_count": 6,
   "id": "b99619b1",
   "metadata": {},
   "outputs": [
    {
     "data": {
      "text/html": [
       "<div>\n",
       "<style scoped>\n",
       "    .dataframe tbody tr th:only-of-type {\n",
       "        vertical-align: middle;\n",
       "    }\n",
       "\n",
       "    .dataframe tbody tr th {\n",
       "        vertical-align: top;\n",
       "    }\n",
       "\n",
       "    .dataframe thead th {\n",
       "        text-align: right;\n",
       "    }\n",
       "</style>\n",
       "<table border=\"1\" class=\"dataframe\">\n",
       "  <thead>\n",
       "    <tr style=\"text-align: right;\">\n",
       "      <th></th>\n",
       "      <th>cust_id</th>\n",
       "      <th>no_of_account</th>\n",
       "      <th>no_active_account</th>\n",
       "    </tr>\n",
       "  </thead>\n",
       "  <tbody>\n",
       "    <tr>\n",
       "      <th>0</th>\n",
       "      <td>1362480</td>\n",
       "      <td>3</td>\n",
       "      <td>2.0</td>\n",
       "    </tr>\n",
       "    <tr>\n",
       "      <th>1</th>\n",
       "      <td>1362484</td>\n",
       "      <td>3</td>\n",
       "      <td>3.0</td>\n",
       "    </tr>\n",
       "    <tr>\n",
       "      <th>2</th>\n",
       "      <td>1362485</td>\n",
       "      <td>2</td>\n",
       "      <td>2.0</td>\n",
       "    </tr>\n",
       "    <tr>\n",
       "      <th>3</th>\n",
       "      <td>1362486</td>\n",
       "      <td>2</td>\n",
       "      <td>2.0</td>\n",
       "    </tr>\n",
       "    <tr>\n",
       "      <th>4</th>\n",
       "      <td>1362487</td>\n",
       "      <td>3</td>\n",
       "      <td>2.0</td>\n",
       "    </tr>\n",
       "  </tbody>\n",
       "</table>\n",
       "</div>"
      ],
      "text/plain": [
       "   cust_id  no_of_account  no_active_account\n",
       "0  1362480              3                2.0\n",
       "1  1362484              3                3.0\n",
       "2  1362485              2                2.0\n",
       "3  1362486              2                2.0\n",
       "4  1362487              3                2.0"
      ]
     },
     "execution_count": 6,
     "metadata": {},
     "output_type": "execute_result"
    }
   ],
   "source": [
    "## create new dataframe with 3 new features\n",
    "account_features= no_account.merge(no_active_account,how='outer')\n",
    "account_features.head()"
   ]
  },
  {
   "cell_type": "code",
   "execution_count": 7,
   "id": "7b709d6f",
   "metadata": {},
   "outputs": [],
   "source": [
    "# handling na value: no_active_account = na means 0 active account\n",
    "account_features.no_active_account.fillna(0,inplace= True)"
   ]
  },
  {
   "cell_type": "code",
   "execution_count": 8,
   "id": "cb43f51d",
   "metadata": {},
   "outputs": [
    {
     "data": {
      "text/plain": [
       "cust_id              0\n",
       "no_of_account        0\n",
       "no_active_account    0\n",
       "dtype: int64"
      ]
     },
     "execution_count": 8,
     "metadata": {},
     "output_type": "execute_result"
    }
   ],
   "source": [
    "account_features.isna().sum()"
   ]
  },
  {
   "cell_type": "code",
   "execution_count": 9,
   "id": "d67855c3",
   "metadata": {},
   "outputs": [],
   "source": [
    "## feature: number of non-active account per customer (unsatisfied customers, higher value means the more disatisfied )\n",
    "account_features['no_nonactive_account']=account_features.no_of_account- account_features.no_active_account"
   ]
  },
  {
   "cell_type": "code",
   "execution_count": 10,
   "id": "4b4ffc0c",
   "metadata": {},
   "outputs": [
    {
     "data": {
      "image/png": "[encoded data removed]",
      "text/plain": [
       "<Figure size 432x288 with 1 Axes>"
      ]
     },
     "metadata": {
      "needs_background": "light"
     },
     "output_type": "display_data"
    }
   ],
   "source": [
    "# data exploration\n",
    "sns.countplot(data= account_features, x='no_of_account');"
   ]
  },
  {
   "cell_type": "code",
   "execution_count": 11,
   "id": "eabba800",
   "metadata": {},
   "outputs": [
    {
     "data": {
      "image/png": "[encoded data removed]",
      "text/plain": [
       "<Figure size 432x288 with 1 Axes>"
      ]
     },
     "metadata": {
      "needs_background": "light"
     },
     "output_type": "display_data"
    }
   ],
   "source": [
    "# data exploration\n",
    "sns.countplot(data= account_features, x= 'no_active_account');\n",
    "# not significant different between number of account per cust and number of active account per cust\n",
    "# >>may consider to use only one feature in the model"
   ]
  },
  {
   "cell_type": "code",
   "execution_count": 12,
   "id": "a1d25b95",
   "metadata": {},
   "outputs": [
    {
     "data": {
      "image/png": "[encoded data removed]",
      "text/plain": [
       "<Figure size 432x288 with 1 Axes>"
      ]
     },
     "metadata": {
      "needs_background": "light"
     },
     "output_type": "display_data"
    }
   ],
   "source": [
    "# data exploration\n",
    "sns.countplot(data= account_features, x= 'no_nonactive_account');"
   ]
  },
  {
   "cell_type": "markdown",
   "id": "233a10bc",
   "metadata": {},
   "source": [
    "### checking account\n",
    "- feature: checking account_active, starting_balance, ending_balance"
   ]
  },
  {
   "cell_type": "code",
   "execution_count": 13,
   "id": "db7891c4",
   "metadata": {},
   "outputs": [
    {
     "data": {
      "text/html": [
       "<div>\n",
       "<style scoped>\n",
       "    .dataframe tbody tr th:only-of-type {\n",
       "        vertical-align: middle;\n",
       "    }\n",
       "\n",
       "    .dataframe tbody tr th {\n",
       "        vertical-align: top;\n",
       "    }\n",
       "\n",
       "    .dataframe thead th {\n",
       "        text-align: right;\n",
       "    }\n",
       "</style>\n",
       "<table border=\"1\" class=\"dataframe\">\n",
       "  <thead>\n",
       "    <tr style=\"text-align: right;\">\n",
       "      <th></th>\n",
       "      <th>cust_id</th>\n",
       "      <th>acct_nbr</th>\n",
       "      <th>minimum_balance</th>\n",
       "      <th>per_check_fee</th>\n",
       "      <th>account_active</th>\n",
       "      <th>acct_start_date</th>\n",
       "      <th>acct_end_date</th>\n",
       "      <th>starting_balance</th>\n",
       "      <th>ending_balance</th>\n",
       "    </tr>\n",
       "  </thead>\n",
       "  <tbody>\n",
       "    <tr>\n",
       "      <th>0</th>\n",
       "      <td>1362548</td>\n",
       "      <td>13625482</td>\n",
       "      <td>3000</td>\n",
       "      <td>0.00</td>\n",
       "      <td>Y</td>\n",
       "      <td>11.11.1986</td>\n",
       "      <td>NaN</td>\n",
       "      <td>6004.34</td>\n",
       "      <td>569.65</td>\n",
       "    </tr>\n",
       "    <tr>\n",
       "      <th>1</th>\n",
       "      <td>1362487</td>\n",
       "      <td>13624872</td>\n",
       "      <td>3000</td>\n",
       "      <td>0.00</td>\n",
       "      <td>Y</td>\n",
       "      <td>12.1.1995</td>\n",
       "      <td>NaN</td>\n",
       "      <td>2781.07</td>\n",
       "      <td>1401.21</td>\n",
       "    </tr>\n",
       "    <tr>\n",
       "      <th>2</th>\n",
       "      <td>1363017</td>\n",
       "      <td>13630172</td>\n",
       "      <td>3000</td>\n",
       "      <td>0.00</td>\n",
       "      <td>Y</td>\n",
       "      <td>19.3.1994</td>\n",
       "      <td>NaN</td>\n",
       "      <td>2694.91</td>\n",
       "      <td>147.15</td>\n",
       "    </tr>\n",
       "    <tr>\n",
       "      <th>3</th>\n",
       "      <td>1362752</td>\n",
       "      <td>13627522</td>\n",
       "      <td>100</td>\n",
       "      <td>0.15</td>\n",
       "      <td>Y</td>\n",
       "      <td>8.1.1994</td>\n",
       "      <td>NaN</td>\n",
       "      <td>487.69</td>\n",
       "      <td>3.76</td>\n",
       "    </tr>\n",
       "    <tr>\n",
       "      <th>4</th>\n",
       "      <td>1363282</td>\n",
       "      <td>13632822</td>\n",
       "      <td>100</td>\n",
       "      <td>0.15</td>\n",
       "      <td>Y</td>\n",
       "      <td>5.3.1988</td>\n",
       "      <td>NaN</td>\n",
       "      <td>133.90</td>\n",
       "      <td>84.18</td>\n",
       "    </tr>\n",
       "  </tbody>\n",
       "</table>\n",
       "</div>"
      ],
      "text/plain": [
       "   cust_id  acct_nbr  minimum_balance  per_check_fee account_active  \\\n",
       "0  1362548  13625482             3000           0.00             Y    \n",
       "1  1362487  13624872             3000           0.00             Y    \n",
       "2  1363017  13630172             3000           0.00             Y    \n",
       "3  1362752  13627522              100           0.15             Y    \n",
       "4  1363282  13632822              100           0.15             Y    \n",
       "\n",
       "  acct_start_date acct_end_date  starting_balance  ending_balance  \n",
       "0      11.11.1986           NaN           6004.34          569.65  \n",
       "1       12.1.1995           NaN           2781.07         1401.21  \n",
       "2       19.3.1994           NaN           2694.91          147.15  \n",
       "3        8.1.1994           NaN            487.69            3.76  \n",
       "4        5.3.1988           NaN            133.90           84.18  "
      ]
     },
     "execution_count": 13,
     "metadata": {},
     "output_type": "execute_result"
    }
   ],
   "source": [
    "checking_account= pd.read_csv('mini-project-III/twm_checking_acct.csv',sep=\";\")\n",
    "checking_account.head()"
   ]
  },
  {
   "cell_type": "code",
   "execution_count": 14,
   "id": "d9d29bc5",
   "metadata": {},
   "outputs": [
    {
     "data": {
      "text/plain": [
       "cust_id\n",
       "1362480    1\n",
       "1363199    1\n",
       "1363196    1\n",
       "1363195    1\n",
       "1363193    1\n",
       "          ..\n",
       "1362809    1\n",
       "1362808    1\n",
       "1362806    1\n",
       "1362805    1\n",
       "1363495    1\n",
       "Name: acct_nbr, Length: 520, dtype: int64"
      ]
     },
     "execution_count": 14,
     "metadata": {},
     "output_type": "execute_result"
    }
   ],
   "source": [
    "checking_account.groupby('cust_id').acct_nbr.count().sort_values(ascending= False)\n",
    "# each cust id have 1 checking account (no duplication in the data)"
   ]
  },
  {
   "cell_type": "code",
   "execution_count": 15,
   "id": "22759ddb",
   "metadata": {},
   "outputs": [
    {
     "data": {
      "text/plain": [
       "account_active\n",
       "N      52\n",
       "Y     468\n",
       "Name: acct_nbr, dtype: int64"
      ]
     },
     "execution_count": 15,
     "metadata": {},
     "output_type": "execute_result"
    },
    {
     "data": {
      "image/png": "[encoded data removed]",
      "text/plain": [
       "<Figure size 432x288 with 1 Axes>"
      ]
     },
     "metadata": {
      "needs_background": "light"
     },
     "output_type": "display_data"
    }
   ],
   "source": [
    "sns.countplot(data= checking_account, x= 'account_active');\n",
    "checking_account.groupby('account_active').acct_nbr.count()"
   ]
  },
  {
   "cell_type": "code",
   "execution_count": 16,
   "id": "23039506",
   "metadata": {},
   "outputs": [
    {
     "data": {
      "image/png": "[encoded data removed]",
      "text/plain": [
       "<Figure size 432x288 with 1 Axes>"
      ]
     },
     "metadata": {
      "needs_background": "light"
     },
     "output_type": "display_data"
    },
    {
     "name": "stdout",
     "output_type": "stream",
     "text": [
      "skewness: 3.044065669215468\n",
      "ShapiroResult(statistic=0.7128396034240723, pvalue=6.905153389114435e-29)\n"
     ]
    },
    {
     "data": {
      "image/png": "[encoded data removed]",
      "text/plain": [
       "<Figure size 432x288 with 1 Axes>"
      ]
     },
     "metadata": {
      "needs_background": "light"
     },
     "output_type": "display_data"
    },
    {
     "name": "stdout",
     "output_type": "stream",
     "text": [
      "skewness: 4.652203861727065\n",
      "ShapiroResult(statistic=0.5660349130630493, pvalue=6.2804491254950685e-34)\n"
     ]
    }
   ],
   "source": [
    "for a in ['starting_balance', 'ending_balance']:\n",
    "    sns.histplot(checking_account[a])\n",
    "    plt.show()\n",
    "    print(\"skewness:\", checking_account[a].skew())\n",
    "    print(st.shapiro(checking_account[a]))"
   ]
  },
  {
   "cell_type": "code",
   "execution_count": 17,
   "id": "f24c57e9",
   "metadata": {},
   "outputs": [
    {
     "data": {
      "text/plain": [
       "<AxesSubplot:ylabel='Count'>"
      ]
     },
     "execution_count": 17,
     "metadata": {},
     "output_type": "execute_result"
    },
    {
     "data": {
      "image/png": "[encoded data removed]",
      "text/plain": [
       "<Figure size 432x288 with 1 Axes>"
      ]
     },
     "metadata": {
      "needs_background": "light"
     },
     "output_type": "display_data"
    }
   ],
   "source": [
    "## checking_spending\n",
    "sns.histplot(checking_account.starting_balance -checking_account.ending_balance)"
   ]
  },
  {
   "cell_type": "code",
   "execution_count": 18,
   "id": "a9740f24",
   "metadata": {},
   "outputs": [
    {
     "data": {
      "text/html": [
       "<div>\n",
       "<style scoped>\n",
       "    .dataframe tbody tr th:only-of-type {\n",
       "        vertical-align: middle;\n",
       "    }\n",
       "\n",
       "    .dataframe tbody tr th {\n",
       "        vertical-align: top;\n",
       "    }\n",
       "\n",
       "    .dataframe thead th {\n",
       "        text-align: right;\n",
       "    }\n",
       "</style>\n",
       "<table border=\"1\" class=\"dataframe\">\n",
       "  <thead>\n",
       "    <tr style=\"text-align: right;\">\n",
       "      <th></th>\n",
       "      <th>cust_id</th>\n",
       "      <th>account_active</th>\n",
       "      <th>starting_balance</th>\n",
       "      <th>ending_balance</th>\n",
       "    </tr>\n",
       "  </thead>\n",
       "  <tbody>\n",
       "    <tr>\n",
       "      <th>0</th>\n",
       "      <td>1362548</td>\n",
       "      <td>Y</td>\n",
       "      <td>6004.34</td>\n",
       "      <td>569.65</td>\n",
       "    </tr>\n",
       "    <tr>\n",
       "      <th>1</th>\n",
       "      <td>1362487</td>\n",
       "      <td>Y</td>\n",
       "      <td>2781.07</td>\n",
       "      <td>1401.21</td>\n",
       "    </tr>\n",
       "    <tr>\n",
       "      <th>2</th>\n",
       "      <td>1363017</td>\n",
       "      <td>Y</td>\n",
       "      <td>2694.91</td>\n",
       "      <td>147.15</td>\n",
       "    </tr>\n",
       "    <tr>\n",
       "      <th>3</th>\n",
       "      <td>1362752</td>\n",
       "      <td>Y</td>\n",
       "      <td>487.69</td>\n",
       "      <td>3.76</td>\n",
       "    </tr>\n",
       "    <tr>\n",
       "      <th>4</th>\n",
       "      <td>1363282</td>\n",
       "      <td>Y</td>\n",
       "      <td>133.90</td>\n",
       "      <td>84.18</td>\n",
       "    </tr>\n",
       "  </tbody>\n",
       "</table>\n",
       "</div>"
      ],
      "text/plain": [
       "   cust_id account_active  starting_balance  ending_balance\n",
       "0  1362548             Y            6004.34          569.65\n",
       "1  1362487             Y            2781.07         1401.21\n",
       "2  1363017             Y            2694.91          147.15\n",
       "3  1362752             Y             487.69            3.76\n",
       "4  1363282             Y             133.90           84.18"
      ]
     },
     "execution_count": 18,
     "metadata": {},
     "output_type": "execute_result"
    }
   ],
   "source": [
    "## feature:\n",
    "checking_account_features= checking_account[['cust_id','account_active','starting_balance','ending_balance']]\n",
    "checking_account_features.head()"
   ]
  },
  {
   "cell_type": "code",
   "execution_count": 19,
   "id": "466e9846",
   "metadata": {},
   "outputs": [],
   "source": [
    "checking_account_features.columns=['cust_id', 'checking_account_active', 'checking_starting_balance', 'checking_ending_balance']"
   ]
  },
  {
   "cell_type": "code",
   "execution_count": 20,
   "id": "921167c2",
   "metadata": {},
   "outputs": [
    {
     "data": {
      "text/html": [
       "<div>\n",
       "<style scoped>\n",
       "    .dataframe tbody tr th:only-of-type {\n",
       "        vertical-align: middle;\n",
       "    }\n",
       "\n",
       "    .dataframe tbody tr th {\n",
       "        vertical-align: top;\n",
       "    }\n",
       "\n",
       "    .dataframe thead th {\n",
       "        text-align: right;\n",
       "    }\n",
       "</style>\n",
       "<table border=\"1\" class=\"dataframe\">\n",
       "  <thead>\n",
       "    <tr style=\"text-align: right;\">\n",
       "      <th></th>\n",
       "      <th>cust_id</th>\n",
       "      <th>checking_account_active</th>\n",
       "      <th>checking_starting_balance</th>\n",
       "      <th>checking_ending_balance</th>\n",
       "    </tr>\n",
       "  </thead>\n",
       "  <tbody>\n",
       "    <tr>\n",
       "      <th>515</th>\n",
       "      <td>1363467</td>\n",
       "      <td>Y</td>\n",
       "      <td>4155.98</td>\n",
       "      <td>58.47</td>\n",
       "    </tr>\n",
       "    <tr>\n",
       "      <th>516</th>\n",
       "      <td>1362855</td>\n",
       "      <td>Y</td>\n",
       "      <td>202.30</td>\n",
       "      <td>1070.87</td>\n",
       "    </tr>\n",
       "    <tr>\n",
       "      <th>517</th>\n",
       "      <td>1363324</td>\n",
       "      <td>Y</td>\n",
       "      <td>4010.41</td>\n",
       "      <td>2325.37</td>\n",
       "    </tr>\n",
       "    <tr>\n",
       "      <th>518</th>\n",
       "      <td>1362569</td>\n",
       "      <td>Y</td>\n",
       "      <td>927.07</td>\n",
       "      <td>46.48</td>\n",
       "    </tr>\n",
       "    <tr>\n",
       "      <th>519</th>\n",
       "      <td>1363303</td>\n",
       "      <td>Y</td>\n",
       "      <td>2789.57</td>\n",
       "      <td>39.22</td>\n",
       "    </tr>\n",
       "  </tbody>\n",
       "</table>\n",
       "</div>"
      ],
      "text/plain": [
       "     cust_id checking_account_active  checking_starting_balance  \\\n",
       "515  1363467                      Y                     4155.98   \n",
       "516  1362855                      Y                      202.30   \n",
       "517  1363324                      Y                     4010.41   \n",
       "518  1362569                      Y                      927.07   \n",
       "519  1363303                      Y                     2789.57   \n",
       "\n",
       "     checking_ending_balance  \n",
       "515                    58.47  \n",
       "516                  1070.87  \n",
       "517                  2325.37  \n",
       "518                    46.48  \n",
       "519                    39.22  "
      ]
     },
     "execution_count": 20,
     "metadata": {},
     "output_type": "execute_result"
    }
   ],
   "source": [
    "checking_account_features.tail()\n",
    "## starting_balanace & ending_balance seem to reflect data of one month only (not match with checking tran data)\n",
    "## >> later to decide if this feature is useful or not"
   ]
  },
  {
   "cell_type": "code",
   "execution_count": null,
   "id": "c9575068",
   "metadata": {},
   "outputs": [],
   "source": []
  },
  {
   "cell_type": "markdown",
   "id": "99d8e85f",
   "metadata": {},
   "source": [
    "### checking tran\n",
    "- features: number of checking transaction (spending+ deposit), number of spending trans, avg value of checking trans, avg spending value, avg deposit value\n",
    "- auto transaction made by system are small in value and volume so we wont take this features in our model (consumers have no control of these auto transaction anyway)"
   ]
  },
  {
   "cell_type": "markdown",
   "id": "df671186",
   "metadata": {},
   "source": [
    "***understand data***"
   ]
  },
  {
   "cell_type": "code",
   "execution_count": 21,
   "id": "01b72f25",
   "metadata": {},
   "outputs": [
    {
     "data": {
      "text/html": [
       "<div>\n",
       "<style scoped>\n",
       "    .dataframe tbody tr th:only-of-type {\n",
       "        vertical-align: middle;\n",
       "    }\n",
       "\n",
       "    .dataframe tbody tr th {\n",
       "        vertical-align: top;\n",
       "    }\n",
       "\n",
       "    .dataframe thead th {\n",
       "        text-align: right;\n",
       "    }\n",
       "</style>\n",
       "<table border=\"1\" class=\"dataframe\">\n",
       "  <thead>\n",
       "    <tr style=\"text-align: right;\">\n",
       "      <th></th>\n",
       "      <th>cust_id</th>\n",
       "      <th>tran_id</th>\n",
       "      <th>tran_amt</th>\n",
       "      <th>principal_amt</th>\n",
       "      <th>interest_amt</th>\n",
       "      <th>new_balance</th>\n",
       "      <th>tran_date</th>\n",
       "      <th>tran_time</th>\n",
       "      <th>channel</th>\n",
       "      <th>tran_code</th>\n",
       "    </tr>\n",
       "  </thead>\n",
       "  <tbody>\n",
       "    <tr>\n",
       "      <th>0</th>\n",
       "      <td>1363481</td>\n",
       "      <td>26</td>\n",
       "      <td>-0.15</td>\n",
       "      <td>-0.15</td>\n",
       "      <td>0.00</td>\n",
       "      <td>58.99</td>\n",
       "      <td>29.1.1995</td>\n",
       "      <td></td>\n",
       "      <td></td>\n",
       "      <td>FK</td>\n",
       "    </tr>\n",
       "    <tr>\n",
       "      <th>1</th>\n",
       "      <td>1362784</td>\n",
       "      <td>90</td>\n",
       "      <td>-200.00</td>\n",
       "      <td>-200.00</td>\n",
       "      <td>0.00</td>\n",
       "      <td>1380.69</td>\n",
       "      <td>2.7.1995</td>\n",
       "      <td>53313</td>\n",
       "      <td>A</td>\n",
       "      <td>WD</td>\n",
       "    </tr>\n",
       "    <tr>\n",
       "      <th>2</th>\n",
       "      <td>1363088</td>\n",
       "      <td>46</td>\n",
       "      <td>0.00</td>\n",
       "      <td>0.00</td>\n",
       "      <td>0.00</td>\n",
       "      <td>128.35</td>\n",
       "      <td>26.3.1995</td>\n",
       "      <td>834</td>\n",
       "      <td>A</td>\n",
       "      <td>IQ</td>\n",
       "    </tr>\n",
       "    <tr>\n",
       "      <th>3</th>\n",
       "      <td>1363306</td>\n",
       "      <td>32</td>\n",
       "      <td>-40.32</td>\n",
       "      <td>-40.32</td>\n",
       "      <td>0.00</td>\n",
       "      <td>433.06</td>\n",
       "      <td>29.1.1995</td>\n",
       "      <td></td>\n",
       "      <td>P</td>\n",
       "      <td>WD</td>\n",
       "    </tr>\n",
       "    <tr>\n",
       "      <th>4</th>\n",
       "      <td>1363251</td>\n",
       "      <td>11</td>\n",
       "      <td>-87.88</td>\n",
       "      <td>-87.88</td>\n",
       "      <td>0.00</td>\n",
       "      <td>1919.55</td>\n",
       "      <td>8.2.1995</td>\n",
       "      <td></td>\n",
       "      <td>P</td>\n",
       "      <td>WD</td>\n",
       "    </tr>\n",
       "    <tr>\n",
       "      <th>5</th>\n",
       "      <td>1363303</td>\n",
       "      <td>20</td>\n",
       "      <td>-58.58</td>\n",
       "      <td>-58.58</td>\n",
       "      <td>0.00</td>\n",
       "      <td>2660.59</td>\n",
       "      <td>25.2.1995</td>\n",
       "      <td></td>\n",
       "      <td>P</td>\n",
       "      <td>WD</td>\n",
       "    </tr>\n",
       "    <tr>\n",
       "      <th>6</th>\n",
       "      <td>1362981</td>\n",
       "      <td>39</td>\n",
       "      <td>-311.06</td>\n",
       "      <td>-311.06</td>\n",
       "      <td>0.00</td>\n",
       "      <td>564.99</td>\n",
       "      <td>7.9.1995</td>\n",
       "      <td>160041</td>\n",
       "      <td>A</td>\n",
       "      <td>TR</td>\n",
       "    </tr>\n",
       "    <tr>\n",
       "      <th>7</th>\n",
       "      <td>1363216</td>\n",
       "      <td>97</td>\n",
       "      <td>-45.11</td>\n",
       "      <td>-45.11</td>\n",
       "      <td>0.00</td>\n",
       "      <td>480.60</td>\n",
       "      <td>22.1.1995</td>\n",
       "      <td></td>\n",
       "      <td>P</td>\n",
       "      <td>WD</td>\n",
       "    </tr>\n",
       "    <tr>\n",
       "      <th>8</th>\n",
       "      <td>1363253</td>\n",
       "      <td>62</td>\n",
       "      <td>0.94</td>\n",
       "      <td>0.00</td>\n",
       "      <td>0.94</td>\n",
       "      <td>751.88</td>\n",
       "      <td>30.6.1995</td>\n",
       "      <td>235959</td>\n",
       "      <td></td>\n",
       "      <td>IN</td>\n",
       "    </tr>\n",
       "    <tr>\n",
       "      <th>9</th>\n",
       "      <td>1363442</td>\n",
       "      <td>16</td>\n",
       "      <td>-0.75</td>\n",
       "      <td>-0.75</td>\n",
       "      <td>0.00</td>\n",
       "      <td>4776.26</td>\n",
       "      <td>15.1.1995</td>\n",
       "      <td>115613</td>\n",
       "      <td></td>\n",
       "      <td>FU</td>\n",
       "    </tr>\n",
       "  </tbody>\n",
       "</table>\n",
       "</div>"
      ],
      "text/plain": [
       "   cust_id  tran_id  tran_amt  principal_amt  interest_amt  new_balance  \\\n",
       "0  1363481       26     -0.15          -0.15          0.00        58.99   \n",
       "1  1362784       90   -200.00        -200.00          0.00      1380.69   \n",
       "2  1363088       46      0.00           0.00          0.00       128.35   \n",
       "3  1363306       32    -40.32         -40.32          0.00       433.06   \n",
       "4  1363251       11    -87.88         -87.88          0.00      1919.55   \n",
       "5  1363303       20    -58.58         -58.58          0.00      2660.59   \n",
       "6  1362981       39   -311.06        -311.06          0.00       564.99   \n",
       "7  1363216       97    -45.11         -45.11          0.00       480.60   \n",
       "8  1363253       62      0.94           0.00          0.94       751.88   \n",
       "9  1363442       16     -0.75          -0.75          0.00      4776.26   \n",
       "\n",
       "   tran_date     tran_time channel tran_code  \n",
       "0  29.1.1995                            FK    \n",
       "1   2.7.1995         53313      A       WD    \n",
       "2  26.3.1995           834      A       IQ    \n",
       "3  29.1.1995                    P       WD    \n",
       "4   8.2.1995                    P       WD    \n",
       "5  25.2.1995                    P       WD    \n",
       "6   7.9.1995        160041      A       TR    \n",
       "7  22.1.1995                    P       WD    \n",
       "8  30.6.1995        235959              IN    \n",
       "9  15.1.1995        115613              FU    "
      ]
     },
     "execution_count": 21,
     "metadata": {},
     "output_type": "execute_result"
    }
   ],
   "source": [
    "checking_tran= pd.read_csv('mini-project-III/twm_checking_tran.csv',sep=\";\")\n",
    "checking_tran.head(10)"
   ]
  },
  {
   "cell_type": "code",
   "execution_count": 22,
   "id": "b394aa8b",
   "metadata": {},
   "outputs": [
    {
     "data": {
      "text/html": [
       "<div>\n",
       "<style scoped>\n",
       "    .dataframe tbody tr th:only-of-type {\n",
       "        vertical-align: middle;\n",
       "    }\n",
       "\n",
       "    .dataframe tbody tr th {\n",
       "        vertical-align: top;\n",
       "    }\n",
       "\n",
       "    .dataframe thead th {\n",
       "        text-align: right;\n",
       "    }\n",
       "</style>\n",
       "<table border=\"1\" class=\"dataframe\">\n",
       "  <thead>\n",
       "    <tr style=\"text-align: right;\">\n",
       "      <th></th>\n",
       "      <th>cust_id</th>\n",
       "      <th>tran_id</th>\n",
       "      <th>tran_amt</th>\n",
       "      <th>principal_amt</th>\n",
       "      <th>interest_amt</th>\n",
       "      <th>new_balance</th>\n",
       "      <th>tran_date</th>\n",
       "      <th>tran_time</th>\n",
       "      <th>channel</th>\n",
       "      <th>tran_code</th>\n",
       "    </tr>\n",
       "  </thead>\n",
       "  <tbody>\n",
       "    <tr>\n",
       "      <th>8</th>\n",
       "      <td>1363253</td>\n",
       "      <td>62</td>\n",
       "      <td>0.94</td>\n",
       "      <td>0.0</td>\n",
       "      <td>0.94</td>\n",
       "      <td>751.88</td>\n",
       "      <td>30.6.1995</td>\n",
       "      <td>235959</td>\n",
       "      <td></td>\n",
       "      <td>IN</td>\n",
       "    </tr>\n",
       "    <tr>\n",
       "      <th>31</th>\n",
       "      <td>1363168</td>\n",
       "      <td>55</td>\n",
       "      <td>2.40</td>\n",
       "      <td>0.0</td>\n",
       "      <td>2.40</td>\n",
       "      <td>1636.33</td>\n",
       "      <td>31.3.1995</td>\n",
       "      <td>235959</td>\n",
       "      <td></td>\n",
       "      <td>IN</td>\n",
       "    </tr>\n",
       "    <tr>\n",
       "      <th>40</th>\n",
       "      <td>1362905</td>\n",
       "      <td>2</td>\n",
       "      <td>3.38</td>\n",
       "      <td>0.0</td>\n",
       "      <td>3.38</td>\n",
       "      <td>2705.01</td>\n",
       "      <td>31.1.1995</td>\n",
       "      <td>235959</td>\n",
       "      <td></td>\n",
       "      <td>IN</td>\n",
       "    </tr>\n",
       "    <tr>\n",
       "      <th>66</th>\n",
       "      <td>1363235</td>\n",
       "      <td>86</td>\n",
       "      <td>0.49</td>\n",
       "      <td>0.0</td>\n",
       "      <td>0.49</td>\n",
       "      <td>391.51</td>\n",
       "      <td>28.2.1995</td>\n",
       "      <td>235959</td>\n",
       "      <td></td>\n",
       "      <td>IN</td>\n",
       "    </tr>\n",
       "    <tr>\n",
       "      <th>137</th>\n",
       "      <td>1363462</td>\n",
       "      <td>8</td>\n",
       "      <td>3.90</td>\n",
       "      <td>0.0</td>\n",
       "      <td>3.90</td>\n",
       "      <td>2476.61</td>\n",
       "      <td>30.4.1995</td>\n",
       "      <td>235959</td>\n",
       "      <td></td>\n",
       "      <td>IN</td>\n",
       "    </tr>\n",
       "    <tr>\n",
       "      <th>...</th>\n",
       "      <td>...</td>\n",
       "      <td>...</td>\n",
       "      <td>...</td>\n",
       "      <td>...</td>\n",
       "      <td>...</td>\n",
       "      <td>...</td>\n",
       "      <td>...</td>\n",
       "      <td>...</td>\n",
       "      <td>...</td>\n",
       "      <td>...</td>\n",
       "    </tr>\n",
       "    <tr>\n",
       "      <th>46039</th>\n",
       "      <td>1362594</td>\n",
       "      <td>41</td>\n",
       "      <td>14.30</td>\n",
       "      <td>0.0</td>\n",
       "      <td>14.30</td>\n",
       "      <td>11450.48</td>\n",
       "      <td>30.6.1995</td>\n",
       "      <td>235959</td>\n",
       "      <td></td>\n",
       "      <td>IN</td>\n",
       "    </tr>\n",
       "    <tr>\n",
       "      <th>46102</th>\n",
       "      <td>1362768</td>\n",
       "      <td>2</td>\n",
       "      <td>3.13</td>\n",
       "      <td>0.0</td>\n",
       "      <td>3.13</td>\n",
       "      <td>2505.93</td>\n",
       "      <td>31.1.1995</td>\n",
       "      <td>235959</td>\n",
       "      <td></td>\n",
       "      <td>IN</td>\n",
       "    </tr>\n",
       "    <tr>\n",
       "      <th>46109</th>\n",
       "      <td>1363323</td>\n",
       "      <td>52</td>\n",
       "      <td>14.40</td>\n",
       "      <td>0.0</td>\n",
       "      <td>14.40</td>\n",
       "      <td>11536.54</td>\n",
       "      <td>31.5.1995</td>\n",
       "      <td>235959</td>\n",
       "      <td></td>\n",
       "      <td>IN</td>\n",
       "    </tr>\n",
       "    <tr>\n",
       "      <th>46113</th>\n",
       "      <td>1363109</td>\n",
       "      <td>47</td>\n",
       "      <td>1.17</td>\n",
       "      <td>0.0</td>\n",
       "      <td>1.17</td>\n",
       "      <td>938.97</td>\n",
       "      <td>31.1.1995</td>\n",
       "      <td>235959</td>\n",
       "      <td></td>\n",
       "      <td>IN</td>\n",
       "    </tr>\n",
       "    <tr>\n",
       "      <th>46169</th>\n",
       "      <td>1362829</td>\n",
       "      <td>27</td>\n",
       "      <td>0.62</td>\n",
       "      <td>0.0</td>\n",
       "      <td>0.62</td>\n",
       "      <td>494.59</td>\n",
       "      <td>28.2.1995</td>\n",
       "      <td>235959</td>\n",
       "      <td></td>\n",
       "      <td>IN</td>\n",
       "    </tr>\n",
       "  </tbody>\n",
       "</table>\n",
       "<p>1885 rows × 10 columns</p>\n",
       "</div>"
      ],
      "text/plain": [
       "       cust_id  tran_id  tran_amt  principal_amt  interest_amt  new_balance  \\\n",
       "8      1363253       62      0.94            0.0          0.94       751.88   \n",
       "31     1363168       55      2.40            0.0          2.40      1636.33   \n",
       "40     1362905        2      3.38            0.0          3.38      2705.01   \n",
       "66     1363235       86      0.49            0.0          0.49       391.51   \n",
       "137    1363462        8      3.90            0.0          3.90      2476.61   \n",
       "...        ...      ...       ...            ...           ...          ...   \n",
       "46039  1362594       41     14.30            0.0         14.30     11450.48   \n",
       "46102  1362768        2      3.13            0.0          3.13      2505.93   \n",
       "46109  1363323       52     14.40            0.0         14.40     11536.54   \n",
       "46113  1363109       47      1.17            0.0          1.17       938.97   \n",
       "46169  1362829       27      0.62            0.0          0.62       494.59   \n",
       "\n",
       "       tran_date tran_time channel tran_code  \n",
       "8      30.6.1995    235959              IN    \n",
       "31     31.3.1995    235959              IN    \n",
       "40     31.1.1995    235959              IN    \n",
       "66     28.2.1995    235959              IN    \n",
       "137    30.4.1995    235959              IN    \n",
       "...          ...       ...     ...       ...  \n",
       "46039  30.6.1995    235959              IN    \n",
       "46102  31.1.1995    235959              IN    \n",
       "46109  31.5.1995    235959              IN    \n",
       "46113  31.1.1995    235959              IN    \n",
       "46169  28.2.1995    235959              IN    \n",
       "\n",
       "[1885 rows x 10 columns]"
      ]
     },
     "execution_count": 22,
     "metadata": {},
     "output_type": "execute_result"
    }
   ],
   "source": [
    "checking_tran[checking_tran.interest_amt != 0]\n",
    "## transaction with principal_amt ==0 is interest rate, auto transaction by system only"
   ]
  },
  {
   "cell_type": "code",
   "execution_count": 23,
   "id": "7bcdb851",
   "metadata": {},
   "outputs": [
    {
     "data": {
      "text/html": [
       "<div>\n",
       "<style scoped>\n",
       "    .dataframe tbody tr th:only-of-type {\n",
       "        vertical-align: middle;\n",
       "    }\n",
       "\n",
       "    .dataframe tbody tr th {\n",
       "        vertical-align: top;\n",
       "    }\n",
       "\n",
       "    .dataframe thead th {\n",
       "        text-align: right;\n",
       "    }\n",
       "</style>\n",
       "<table border=\"1\" class=\"dataframe\">\n",
       "  <thead>\n",
       "    <tr style=\"text-align: right;\">\n",
       "      <th></th>\n",
       "      <th>cust_id</th>\n",
       "      <th>tran_id</th>\n",
       "      <th>tran_amt</th>\n",
       "      <th>principal_amt</th>\n",
       "      <th>interest_amt</th>\n",
       "      <th>new_balance</th>\n",
       "    </tr>\n",
       "  </thead>\n",
       "  <tbody>\n",
       "    <tr>\n",
       "      <th>count</th>\n",
       "      <td>46204.0</td>\n",
       "      <td>46204.0</td>\n",
       "      <td>46204.0</td>\n",
       "      <td>46204.0</td>\n",
       "      <td>46204.0</td>\n",
       "      <td>46204.0</td>\n",
       "    </tr>\n",
       "    <tr>\n",
       "      <th>mean</th>\n",
       "      <td>1362998.1</td>\n",
       "      <td>47.8</td>\n",
       "      <td>-17.0</td>\n",
       "      <td>-17.2</td>\n",
       "      <td>0.1</td>\n",
       "      <td>1152.2</td>\n",
       "    </tr>\n",
       "    <tr>\n",
       "      <th>std</th>\n",
       "      <td>295.7</td>\n",
       "      <td>28.5</td>\n",
       "      <td>246.4</td>\n",
       "      <td>246.4</td>\n",
       "      <td>0.8</td>\n",
       "      <td>2009.3</td>\n",
       "    </tr>\n",
       "    <tr>\n",
       "      <th>min</th>\n",
       "      <td>1362480.0</td>\n",
       "      <td>1.0</td>\n",
       "      <td>-3312.4</td>\n",
       "      <td>-3312.4</td>\n",
       "      <td>0.0</td>\n",
       "      <td>0.0</td>\n",
       "    </tr>\n",
       "    <tr>\n",
       "      <th>25%</th>\n",
       "      <td>1362740.0</td>\n",
       "      <td>23.0</td>\n",
       "      <td>-80.0</td>\n",
       "      <td>-80.0</td>\n",
       "      <td>0.0</td>\n",
       "      <td>78.4</td>\n",
       "    </tr>\n",
       "    <tr>\n",
       "      <th>50%</th>\n",
       "      <td>1362997.0</td>\n",
       "      <td>47.0</td>\n",
       "      <td>-0.8</td>\n",
       "      <td>-0.8</td>\n",
       "      <td>0.0</td>\n",
       "      <td>407.5</td>\n",
       "    </tr>\n",
       "    <tr>\n",
       "      <th>75%</th>\n",
       "      <td>1363262.0</td>\n",
       "      <td>72.0</td>\n",
       "      <td>0.0</td>\n",
       "      <td>0.0</td>\n",
       "      <td>0.0</td>\n",
       "      <td>1522.7</td>\n",
       "    </tr>\n",
       "    <tr>\n",
       "      <th>max</th>\n",
       "      <td>1363495.0</td>\n",
       "      <td>99.0</td>\n",
       "      <td>5355.0</td>\n",
       "      <td>5355.0</td>\n",
       "      <td>27.3</td>\n",
       "      <td>29868.4</td>\n",
       "    </tr>\n",
       "  </tbody>\n",
       "</table>\n",
       "</div>"
      ],
      "text/plain": [
       "         cust_id  tran_id  tran_amt  principal_amt  interest_amt  new_balance\n",
       "count    46204.0  46204.0   46204.0        46204.0       46204.0      46204.0\n",
       "mean   1362998.1     47.8     -17.0          -17.2           0.1       1152.2\n",
       "std        295.7     28.5     246.4          246.4           0.8       2009.3\n",
       "min    1362480.0      1.0   -3312.4        -3312.4           0.0          0.0\n",
       "25%    1362740.0     23.0     -80.0          -80.0           0.0         78.4\n",
       "50%    1362997.0     47.0      -0.8           -0.8           0.0        407.5\n",
       "75%    1363262.0     72.0       0.0            0.0           0.0       1522.7\n",
       "max    1363495.0     99.0    5355.0         5355.0          27.3      29868.4"
      ]
     },
     "execution_count": 23,
     "metadata": {},
     "output_type": "execute_result"
    }
   ],
   "source": [
    "checking_tran.describe().round(1)\n",
    "# auto transaction (interest_amt) is small in value, these transaction are made by the system, not customers >> may not be a useful features\n",
    "# principal_amt are transaction made by customer, wide range of value b/t min & max \n",
    "#>> mean value may not reflect the spending of customer because it is offset by the positive deposit"
   ]
  },
  {
   "cell_type": "markdown",
   "id": "60c879c2",
   "metadata": {},
   "source": [
    "***features: transaction made by customers***"
   ]
  },
  {
   "cell_type": "code",
   "execution_count": 24,
   "id": "68be08f9",
   "metadata": {},
   "outputs": [
    {
     "data": {
      "text/html": [
       "<div>\n",
       "<style scoped>\n",
       "    .dataframe tbody tr th:only-of-type {\n",
       "        vertical-align: middle;\n",
       "    }\n",
       "\n",
       "    .dataframe tbody tr th {\n",
       "        vertical-align: top;\n",
       "    }\n",
       "\n",
       "    .dataframe thead th {\n",
       "        text-align: right;\n",
       "    }\n",
       "</style>\n",
       "<table border=\"1\" class=\"dataframe\">\n",
       "  <thead>\n",
       "    <tr style=\"text-align: right;\">\n",
       "      <th></th>\n",
       "      <th>cust_id</th>\n",
       "      <th>number_checking_tran</th>\n",
       "    </tr>\n",
       "  </thead>\n",
       "  <tbody>\n",
       "    <tr>\n",
       "      <th>0</th>\n",
       "      <td>1362480</td>\n",
       "      <td>83</td>\n",
       "    </tr>\n",
       "    <tr>\n",
       "      <th>1</th>\n",
       "      <td>1362484</td>\n",
       "      <td>85</td>\n",
       "    </tr>\n",
       "    <tr>\n",
       "      <th>2</th>\n",
       "      <td>1362485</td>\n",
       "      <td>83</td>\n",
       "    </tr>\n",
       "    <tr>\n",
       "      <th>3</th>\n",
       "      <td>1362486</td>\n",
       "      <td>10</td>\n",
       "    </tr>\n",
       "    <tr>\n",
       "      <th>4</th>\n",
       "      <td>1362487</td>\n",
       "      <td>34</td>\n",
       "    </tr>\n",
       "  </tbody>\n",
       "</table>\n",
       "</div>"
      ],
      "text/plain": [
       "   cust_id  number_checking_tran\n",
       "0  1362480                    83\n",
       "1  1362484                    85\n",
       "2  1362485                    83\n",
       "3  1362486                    10\n",
       "4  1362487                    34"
      ]
     },
     "execution_count": 24,
     "metadata": {},
     "output_type": "execute_result"
    }
   ],
   "source": [
    "## feature: number of checking transaction MADE by customer (spending + deposit)\n",
    "number_checking_tran= checking_tran[checking_tran.principal_amt != 0].groupby('cust_id').tran_id.count().reset_index()\n",
    "number_checking_tran.columns= ['cust_id','number_checking_tran']\n",
    "number_checking_tran.head()"
   ]
  },
  {
   "cell_type": "code",
   "execution_count": 25,
   "id": "f26d4771",
   "metadata": {},
   "outputs": [
    {
     "data": {
      "image/png": "[encoded data removed]",
      "text/plain": [
       "<Figure size 432x288 with 1 Axes>"
      ]
     },
     "metadata": {
      "needs_background": "light"
     },
     "output_type": "display_data"
    }
   ],
   "source": [
    "## feature exploration\n",
    "sns.histplot(data= number_checking_tran, x= 'number_checking_tran');"
   ]
  },
  {
   "cell_type": "code",
   "execution_count": 26,
   "id": "397c0427",
   "metadata": {},
   "outputs": [
    {
     "data": {
      "text/html": [
       "<div>\n",
       "<style scoped>\n",
       "    .dataframe tbody tr th:only-of-type {\n",
       "        vertical-align: middle;\n",
       "    }\n",
       "\n",
       "    .dataframe tbody tr th {\n",
       "        vertical-align: top;\n",
       "    }\n",
       "\n",
       "    .dataframe thead th {\n",
       "        text-align: right;\n",
       "    }\n",
       "</style>\n",
       "<table border=\"1\" class=\"dataframe\">\n",
       "  <thead>\n",
       "    <tr style=\"text-align: right;\">\n",
       "      <th></th>\n",
       "      <th>cust_id</th>\n",
       "      <th>number_checking_spending</th>\n",
       "    </tr>\n",
       "  </thead>\n",
       "  <tbody>\n",
       "    <tr>\n",
       "      <th>0</th>\n",
       "      <td>1362480</td>\n",
       "      <td>69</td>\n",
       "    </tr>\n",
       "    <tr>\n",
       "      <th>1</th>\n",
       "      <td>1362484</td>\n",
       "      <td>72</td>\n",
       "    </tr>\n",
       "    <tr>\n",
       "      <th>2</th>\n",
       "      <td>1362485</td>\n",
       "      <td>67</td>\n",
       "    </tr>\n",
       "    <tr>\n",
       "      <th>3</th>\n",
       "      <td>1362486</td>\n",
       "      <td>9</td>\n",
       "    </tr>\n",
       "    <tr>\n",
       "      <th>4</th>\n",
       "      <td>1362487</td>\n",
       "      <td>32</td>\n",
       "    </tr>\n",
       "  </tbody>\n",
       "</table>\n",
       "</div>"
      ],
      "text/plain": [
       "   cust_id  number_checking_spending\n",
       "0  1362480                        69\n",
       "1  1362484                        72\n",
       "2  1362485                        67\n",
       "3  1362486                         9\n",
       "4  1362487                        32"
      ]
     },
     "execution_count": 26,
     "metadata": {},
     "output_type": "execute_result"
    }
   ],
   "source": [
    "## feature: number of spending transaction MADE by customer\n",
    "number_checking_spending= checking_tran[checking_tran.principal_amt < 0].groupby('cust_id').tran_id.count().reset_index()\n",
    "number_checking_spending.columns= ['cust_id','number_checking_spending']\n",
    "number_checking_spending.head()"
   ]
  },
  {
   "cell_type": "code",
   "execution_count": 27,
   "id": "cfd381b8",
   "metadata": {},
   "outputs": [
    {
     "data": {
      "image/png": "[encoded data removed]",
      "text/plain": [
       "<Figure size 432x288 with 1 Axes>"
      ]
     },
     "metadata": {
      "needs_background": "light"
     },
     "output_type": "display_data"
    }
   ],
   "source": [
    "## feature exploration\n",
    "sns.histplot(data= number_checking_spending, x= 'number_checking_spending');"
   ]
  },
  {
   "cell_type": "code",
   "execution_count": 28,
   "id": "a3c72259",
   "metadata": {},
   "outputs": [
    {
     "data": {
      "text/html": [
       "<div>\n",
       "<style scoped>\n",
       "    .dataframe tbody tr th:only-of-type {\n",
       "        vertical-align: middle;\n",
       "    }\n",
       "\n",
       "    .dataframe tbody tr th {\n",
       "        vertical-align: top;\n",
       "    }\n",
       "\n",
       "    .dataframe thead th {\n",
       "        text-align: right;\n",
       "    }\n",
       "</style>\n",
       "<table border=\"1\" class=\"dataframe\">\n",
       "  <thead>\n",
       "    <tr style=\"text-align: right;\">\n",
       "      <th></th>\n",
       "      <th>cust_id</th>\n",
       "      <th>value_checking_tran</th>\n",
       "    </tr>\n",
       "  </thead>\n",
       "  <tbody>\n",
       "    <tr>\n",
       "      <th>111</th>\n",
       "      <td>1362700</td>\n",
       "      <td>143.086667</td>\n",
       "    </tr>\n",
       "    <tr>\n",
       "      <th>276</th>\n",
       "      <td>1363022</td>\n",
       "      <td>72.715000</td>\n",
       "    </tr>\n",
       "    <tr>\n",
       "      <th>431</th>\n",
       "      <td>1363326</td>\n",
       "      <td>51.159487</td>\n",
       "    </tr>\n",
       "    <tr>\n",
       "      <th>236</th>\n",
       "      <td>1362959</td>\n",
       "      <td>43.769167</td>\n",
       "    </tr>\n",
       "    <tr>\n",
       "      <th>9</th>\n",
       "      <td>1362500</td>\n",
       "      <td>36.749375</td>\n",
       "    </tr>\n",
       "  </tbody>\n",
       "</table>\n",
       "</div>"
      ],
      "text/plain": [
       "     cust_id  value_checking_tran\n",
       "111  1362700           143.086667\n",
       "276  1363022            72.715000\n",
       "431  1363326            51.159487\n",
       "236  1362959            43.769167\n",
       "9    1362500            36.749375"
      ]
     },
     "execution_count": 28,
     "metadata": {},
     "output_type": "execute_result"
    }
   ],
   "source": [
    "## feature: average value per transaction made by customers\n",
    "value_checking_tran= checking_tran[checking_tran.principal_amt != 0].groupby('cust_id').tran_amt.mean().reset_index()\n",
    "value_checking_tran.columns= ['cust_id','value_checking_tran']\n",
    "value_checking_tran.sort_values('value_checking_tran', ascending= False).head()"
   ]
  },
  {
   "cell_type": "code",
   "execution_count": 29,
   "id": "ef9aaa94",
   "metadata": {},
   "outputs": [
    {
     "data": {
      "image/png": "[encoded data removed]",
      "text/plain": [
       "<Figure size 432x288 with 1 Axes>"
      ]
     },
     "metadata": {
      "needs_background": "light"
     },
     "output_type": "display_data"
    }
   ],
   "source": [
    "## feature exploration\n",
    "sns.histplot(data= value_checking_tran, x= 'value_checking_tran');\n",
    "# A lot of data center around 0, again, mean value may not reflect the average spending value (spending power) of customers "
   ]
  },
  {
   "cell_type": "code",
   "execution_count": 30,
   "id": "a7d1ab98",
   "metadata": {},
   "outputs": [
    {
     "data": {
      "text/html": [
       "<div>\n",
       "<style scoped>\n",
       "    .dataframe tbody tr th:only-of-type {\n",
       "        vertical-align: middle;\n",
       "    }\n",
       "\n",
       "    .dataframe tbody tr th {\n",
       "        vertical-align: top;\n",
       "    }\n",
       "\n",
       "    .dataframe thead th {\n",
       "        text-align: right;\n",
       "    }\n",
       "</style>\n",
       "<table border=\"1\" class=\"dataframe\">\n",
       "  <thead>\n",
       "    <tr style=\"text-align: right;\">\n",
       "      <th></th>\n",
       "      <th>cust_id</th>\n",
       "      <th>totalvalue_checking_tran</th>\n",
       "    </tr>\n",
       "  </thead>\n",
       "  <tbody>\n",
       "    <tr>\n",
       "      <th>236</th>\n",
       "      <td>1362959</td>\n",
       "      <td>3676.61</td>\n",
       "    </tr>\n",
       "    <tr>\n",
       "      <th>428</th>\n",
       "      <td>1363321</td>\n",
       "      <td>2539.24</td>\n",
       "    </tr>\n",
       "    <tr>\n",
       "      <th>164</th>\n",
       "      <td>1362806</td>\n",
       "      <td>2342.77</td>\n",
       "    </tr>\n",
       "    <tr>\n",
       "      <th>299</th>\n",
       "      <td>1363083</td>\n",
       "      <td>2038.95</td>\n",
       "    </tr>\n",
       "    <tr>\n",
       "      <th>442</th>\n",
       "      <td>1363345</td>\n",
       "      <td>2032.35</td>\n",
       "    </tr>\n",
       "  </tbody>\n",
       "</table>\n",
       "</div>"
      ],
      "text/plain": [
       "     cust_id  totalvalue_checking_tran\n",
       "236  1362959                   3676.61\n",
       "428  1363321                   2539.24\n",
       "164  1362806                   2342.77\n",
       "299  1363083                   2038.95\n",
       "442  1363345                   2032.35"
      ]
     },
     "execution_count": 30,
     "metadata": {},
     "output_type": "execute_result"
    }
   ],
   "source": [
    "## feature: total value per transaction made by customers\n",
    "totalvalue_checking_tran= checking_tran[checking_tran.principal_amt != 0].groupby('cust_id').tran_amt.sum().reset_index()\n",
    "totalvalue_checking_tran.columns= ['cust_id','totalvalue_checking_tran']\n",
    "totalvalue_checking_tran.sort_values('totalvalue_checking_tran', ascending= False).head()"
   ]
  },
  {
   "cell_type": "code",
   "execution_count": 31,
   "id": "2652ea54",
   "metadata": {},
   "outputs": [
    {
     "data": {
      "image/png": "[encoded data removed]",
      "text/plain": [
       "<Figure size 432x288 with 1 Axes>"
      ]
     },
     "metadata": {
      "needs_background": "light"
     },
     "output_type": "display_data"
    }
   ],
   "source": [
    "sns.histplot(data= totalvalue_checking_tran, x= 'totalvalue_checking_tran');"
   ]
  },
  {
   "cell_type": "code",
   "execution_count": 32,
   "id": "d5317389",
   "metadata": {},
   "outputs": [
    {
     "data": {
      "text/html": [
       "<div>\n",
       "<style scoped>\n",
       "    .dataframe tbody tr th:only-of-type {\n",
       "        vertical-align: middle;\n",
       "    }\n",
       "\n",
       "    .dataframe tbody tr th {\n",
       "        vertical-align: top;\n",
       "    }\n",
       "\n",
       "    .dataframe thead th {\n",
       "        text-align: right;\n",
       "    }\n",
       "</style>\n",
       "<table border=\"1\" class=\"dataframe\">\n",
       "  <thead>\n",
       "    <tr style=\"text-align: right;\">\n",
       "      <th></th>\n",
       "      <th>cust_id</th>\n",
       "      <th>value_checking_spending</th>\n",
       "    </tr>\n",
       "  </thead>\n",
       "  <tbody>\n",
       "    <tr>\n",
       "      <th>312</th>\n",
       "      <td>1363108</td>\n",
       "      <td>-0.750000</td>\n",
       "    </tr>\n",
       "    <tr>\n",
       "      <th>67</th>\n",
       "      <td>1362611</td>\n",
       "      <td>-0.750000</td>\n",
       "    </tr>\n",
       "    <tr>\n",
       "      <th>421</th>\n",
       "      <td>1363308</td>\n",
       "      <td>-0.750000</td>\n",
       "    </tr>\n",
       "    <tr>\n",
       "      <th>233</th>\n",
       "      <td>1362950</td>\n",
       "      <td>-0.750000</td>\n",
       "    </tr>\n",
       "    <tr>\n",
       "      <th>133</th>\n",
       "      <td>1362742</td>\n",
       "      <td>-7.279412</td>\n",
       "    </tr>\n",
       "  </tbody>\n",
       "</table>\n",
       "</div>"
      ],
      "text/plain": [
       "     cust_id  value_checking_spending\n",
       "312  1363108                -0.750000\n",
       "67   1362611                -0.750000\n",
       "421  1363308                -0.750000\n",
       "233  1362950                -0.750000\n",
       "133  1362742                -7.279412"
      ]
     },
     "execution_count": 32,
     "metadata": {},
     "output_type": "execute_result"
    }
   ],
   "source": [
    "## feature: average value per SPENDING transaction \n",
    "value_checking_spending= checking_tran[checking_tran.principal_amt < 0].groupby('cust_id').tran_amt.mean().reset_index()\n",
    "value_checking_spending.columns= ['cust_id','value_checking_spending']\n",
    "value_checking_spending.sort_values('value_checking_spending', ascending= False).head()"
   ]
  },
  {
   "cell_type": "code",
   "execution_count": 33,
   "id": "9d3fc6c3",
   "metadata": {},
   "outputs": [],
   "source": [
    "# convert to positive number\n",
    "value_checking_spending.value_checking_spending= abs(value_checking_spending.value_checking_spending)"
   ]
  },
  {
   "cell_type": "code",
   "execution_count": 34,
   "id": "6b219105",
   "metadata": {},
   "outputs": [
    {
     "data": {
      "image/png": "[encoded data removed]",
      "text/plain": [
       "<Figure size 432x288 with 1 Axes>"
      ]
     },
     "metadata": {
      "needs_background": "light"
     },
     "output_type": "display_data"
    }
   ],
   "source": [
    "## feature exploration\n",
    "sns.histplot(data= value_checking_spending, x= 'value_checking_spending');"
   ]
  },
  {
   "cell_type": "code",
   "execution_count": 35,
   "id": "0fd46723",
   "metadata": {},
   "outputs": [
    {
     "data": {
      "text/html": [
       "<div>\n",
       "<style scoped>\n",
       "    .dataframe tbody tr th:only-of-type {\n",
       "        vertical-align: middle;\n",
       "    }\n",
       "\n",
       "    .dataframe tbody tr th {\n",
       "        vertical-align: top;\n",
       "    }\n",
       "\n",
       "    .dataframe thead th {\n",
       "        text-align: right;\n",
       "    }\n",
       "</style>\n",
       "<table border=\"1\" class=\"dataframe\">\n",
       "  <thead>\n",
       "    <tr style=\"text-align: right;\">\n",
       "      <th></th>\n",
       "      <th>cust_id</th>\n",
       "      <th>value_checking_deposit</th>\n",
       "    </tr>\n",
       "  </thead>\n",
       "  <tbody>\n",
       "    <tr>\n",
       "      <th>506</th>\n",
       "      <td>1363492</td>\n",
       "      <td>2005.706667</td>\n",
       "    </tr>\n",
       "    <tr>\n",
       "      <th>169</th>\n",
       "      <td>1362820</td>\n",
       "      <td>1434.821176</td>\n",
       "    </tr>\n",
       "    <tr>\n",
       "      <th>9</th>\n",
       "      <td>1362500</td>\n",
       "      <td>1413.275000</td>\n",
       "    </tr>\n",
       "    <tr>\n",
       "      <th>492</th>\n",
       "      <td>1363457</td>\n",
       "      <td>1390.324545</td>\n",
       "    </tr>\n",
       "    <tr>\n",
       "      <th>231</th>\n",
       "      <td>1362959</td>\n",
       "      <td>1304.853571</td>\n",
       "    </tr>\n",
       "  </tbody>\n",
       "</table>\n",
       "</div>"
      ],
      "text/plain": [
       "     cust_id  value_checking_deposit\n",
       "506  1363492             2005.706667\n",
       "169  1362820             1434.821176\n",
       "9    1362500             1413.275000\n",
       "492  1363457             1390.324545\n",
       "231  1362959             1304.853571"
      ]
     },
     "execution_count": 35,
     "metadata": {},
     "output_type": "execute_result"
    }
   ],
   "source": [
    "## feature: average value per deposit transaction \n",
    "value_checking_deposit= checking_tran[checking_tran.principal_amt > 0].groupby('cust_id').tran_amt.mean().reset_index()\n",
    "value_checking_deposit.columns= ['cust_id','value_checking_deposit']\n",
    "value_checking_deposit.sort_values('value_checking_deposit', ascending= False).head()"
   ]
  },
  {
   "cell_type": "code",
   "execution_count": 36,
   "id": "a22a7a1e",
   "metadata": {},
   "outputs": [
    {
     "data": {
      "image/png": "[encoded data removed]",
      "text/plain": [
       "<Figure size 432x288 with 1 Axes>"
      ]
     },
     "metadata": {
      "needs_background": "light"
     },
     "output_type": "display_data"
    }
   ],
   "source": [
    "## feature exploration\n",
    "sns.histplot(data= value_checking_deposit, x= 'value_checking_deposit');"
   ]
  },
  {
   "cell_type": "markdown",
   "id": "27c6bfe7",
   "metadata": {},
   "source": [
    "***create a dataframe of all features***"
   ]
  },
  {
   "cell_type": "code",
   "execution_count": 37,
   "id": "12683049",
   "metadata": {},
   "outputs": [],
   "source": [
    "checking_tran_features= number_checking_tran.merge(number_checking_spending, how='outer').merge(value_checking_tran,how='outer').merge(totalvalue_checking_tran,how='outer').merge(value_checking_spending,how='outer').merge(\n",
    "value_checking_deposit, how='outer'    \n",
    ")"
   ]
  },
  {
   "cell_type": "code",
   "execution_count": 38,
   "id": "0870a599",
   "metadata": {},
   "outputs": [
    {
     "data": {
      "text/plain": [
       "cust_id                     0\n",
       "number_checking_tran        0\n",
       "number_checking_spending    0\n",
       "value_checking_tran         0\n",
       "totalvalue_checking_tran    0\n",
       "value_checking_spending     0\n",
       "value_checking_deposit      8\n",
       "dtype: int64"
      ]
     },
     "execution_count": 38,
     "metadata": {},
     "output_type": "execute_result"
    }
   ],
   "source": [
    "checking_tran_features.isna().sum()"
   ]
  },
  {
   "cell_type": "code",
   "execution_count": 39,
   "id": "ed55e7ab",
   "metadata": {},
   "outputs": [
    {
     "data": {
      "text/html": [
       "<div>\n",
       "<style scoped>\n",
       "    .dataframe tbody tr th:only-of-type {\n",
       "        vertical-align: middle;\n",
       "    }\n",
       "\n",
       "    .dataframe tbody tr th {\n",
       "        vertical-align: top;\n",
       "    }\n",
       "\n",
       "    .dataframe thead th {\n",
       "        text-align: right;\n",
       "    }\n",
       "</style>\n",
       "<table border=\"1\" class=\"dataframe\">\n",
       "  <thead>\n",
       "    <tr style=\"text-align: right;\">\n",
       "      <th></th>\n",
       "      <th>cust_id</th>\n",
       "      <th>number_checking_tran</th>\n",
       "      <th>number_checking_spending</th>\n",
       "      <th>value_checking_tran</th>\n",
       "      <th>totalvalue_checking_tran</th>\n",
       "      <th>value_checking_spending</th>\n",
       "      <th>value_checking_deposit</th>\n",
       "    </tr>\n",
       "  </thead>\n",
       "  <tbody>\n",
       "    <tr>\n",
       "      <th>67</th>\n",
       "      <td>1362611</td>\n",
       "      <td>2</td>\n",
       "      <td>2</td>\n",
       "      <td>-0.750000</td>\n",
       "      <td>-1.50</td>\n",
       "      <td>0.750000</td>\n",
       "      <td>NaN</td>\n",
       "    </tr>\n",
       "    <tr>\n",
       "      <th>128</th>\n",
       "      <td>1362734</td>\n",
       "      <td>2</td>\n",
       "      <td>2</td>\n",
       "      <td>-10.000000</td>\n",
       "      <td>-20.00</td>\n",
       "      <td>10.000000</td>\n",
       "      <td>NaN</td>\n",
       "    </tr>\n",
       "    <tr>\n",
       "      <th>133</th>\n",
       "      <td>1362742</td>\n",
       "      <td>17</td>\n",
       "      <td>17</td>\n",
       "      <td>-7.279412</td>\n",
       "      <td>-123.75</td>\n",
       "      <td>7.279412</td>\n",
       "      <td>NaN</td>\n",
       "    </tr>\n",
       "    <tr>\n",
       "      <th>150</th>\n",
       "      <td>1362768</td>\n",
       "      <td>12</td>\n",
       "      <td>12</td>\n",
       "      <td>-10.000000</td>\n",
       "      <td>-120.00</td>\n",
       "      <td>10.000000</td>\n",
       "      <td>NaN</td>\n",
       "    </tr>\n",
       "    <tr>\n",
       "      <th>233</th>\n",
       "      <td>1362950</td>\n",
       "      <td>1</td>\n",
       "      <td>1</td>\n",
       "      <td>-0.750000</td>\n",
       "      <td>-0.75</td>\n",
       "      <td>0.750000</td>\n",
       "      <td>NaN</td>\n",
       "    </tr>\n",
       "    <tr>\n",
       "      <th>312</th>\n",
       "      <td>1363108</td>\n",
       "      <td>5</td>\n",
       "      <td>5</td>\n",
       "      <td>-0.750000</td>\n",
       "      <td>-3.75</td>\n",
       "      <td>0.750000</td>\n",
       "      <td>NaN</td>\n",
       "    </tr>\n",
       "    <tr>\n",
       "      <th>421</th>\n",
       "      <td>1363308</td>\n",
       "      <td>1</td>\n",
       "      <td>1</td>\n",
       "      <td>-0.750000</td>\n",
       "      <td>-0.75</td>\n",
       "      <td>0.750000</td>\n",
       "      <td>NaN</td>\n",
       "    </tr>\n",
       "    <tr>\n",
       "      <th>502</th>\n",
       "      <td>1363462</td>\n",
       "      <td>12</td>\n",
       "      <td>12</td>\n",
       "      <td>-10.000000</td>\n",
       "      <td>-120.00</td>\n",
       "      <td>10.000000</td>\n",
       "      <td>NaN</td>\n",
       "    </tr>\n",
       "  </tbody>\n",
       "</table>\n",
       "</div>"
      ],
      "text/plain": [
       "     cust_id  number_checking_tran  number_checking_spending  \\\n",
       "67   1362611                     2                         2   \n",
       "128  1362734                     2                         2   \n",
       "133  1362742                    17                        17   \n",
       "150  1362768                    12                        12   \n",
       "233  1362950                     1                         1   \n",
       "312  1363108                     5                         5   \n",
       "421  1363308                     1                         1   \n",
       "502  1363462                    12                        12   \n",
       "\n",
       "     value_checking_tran  totalvalue_checking_tran  value_checking_spending  \\\n",
       "67             -0.750000                     -1.50                 0.750000   \n",
       "128           -10.000000                    -20.00                10.000000   \n",
       "133            -7.279412                   -123.75                 7.279412   \n",
       "150           -10.000000                   -120.00                10.000000   \n",
       "233            -0.750000                     -0.75                 0.750000   \n",
       "312            -0.750000                     -3.75                 0.750000   \n",
       "421            -0.750000                     -0.75                 0.750000   \n",
       "502           -10.000000                   -120.00                10.000000   \n",
       "\n",
       "     value_checking_deposit  \n",
       "67                      NaN  \n",
       "128                     NaN  \n",
       "133                     NaN  \n",
       "150                     NaN  \n",
       "233                     NaN  \n",
       "312                     NaN  \n",
       "421                     NaN  \n",
       "502                     NaN  "
      ]
     },
     "execution_count": 39,
     "metadata": {},
     "output_type": "execute_result"
    }
   ],
   "source": [
    "checking_tran_features[checking_tran_features.value_checking_deposit.isna()]\n",
    "# customer who never deposit money (deposit =0 )"
   ]
  },
  {
   "cell_type": "code",
   "execution_count": 40,
   "id": "63bc993e",
   "metadata": {},
   "outputs": [],
   "source": [
    "checking_tran_features.value_checking_deposit.fillna(0,inplace=True)"
   ]
  },
  {
   "cell_type": "markdown",
   "id": "0afd3e9a",
   "metadata": {},
   "source": [
    "***auto transaction made by system***"
   ]
  },
  {
   "cell_type": "code",
   "execution_count": 41,
   "id": "220a5607",
   "metadata": {},
   "outputs": [
    {
     "data": {
      "text/html": [
       "<div>\n",
       "<style scoped>\n",
       "    .dataframe tbody tr th:only-of-type {\n",
       "        vertical-align: middle;\n",
       "    }\n",
       "\n",
       "    .dataframe tbody tr th {\n",
       "        vertical-align: top;\n",
       "    }\n",
       "\n",
       "    .dataframe thead th {\n",
       "        text-align: right;\n",
       "    }\n",
       "</style>\n",
       "<table border=\"1\" class=\"dataframe\">\n",
       "  <thead>\n",
       "    <tr style=\"text-align: right;\">\n",
       "      <th></th>\n",
       "      <th>cust_id</th>\n",
       "      <th>checking_autotran</th>\n",
       "    </tr>\n",
       "  </thead>\n",
       "  <tbody>\n",
       "    <tr>\n",
       "      <th>318</th>\n",
       "      <td>1363129</td>\n",
       "      <td>38</td>\n",
       "    </tr>\n",
       "    <tr>\n",
       "      <th>59</th>\n",
       "      <td>1362595</td>\n",
       "      <td>37</td>\n",
       "    </tr>\n",
       "    <tr>\n",
       "      <th>26</th>\n",
       "      <td>1362530</td>\n",
       "      <td>35</td>\n",
       "    </tr>\n",
       "    <tr>\n",
       "      <th>134</th>\n",
       "      <td>1362743</td>\n",
       "      <td>34</td>\n",
       "    </tr>\n",
       "    <tr>\n",
       "      <th>462</th>\n",
       "      <td>1363393</td>\n",
       "      <td>34</td>\n",
       "    </tr>\n",
       "  </tbody>\n",
       "</table>\n",
       "</div>"
      ],
      "text/plain": [
       "     cust_id  checking_autotran\n",
       "318  1363129                 38\n",
       "59   1362595                 37\n",
       "26   1362530                 35\n",
       "134  1362743                 34\n",
       "462  1363393                 34"
      ]
     },
     "execution_count": 41,
     "metadata": {},
     "output_type": "execute_result"
    }
   ],
   "source": [
    "## feature:  number of AUTO checking transaction (made by system, not customer)\n",
    "checking_tran_auto= checking_tran[checking_tran.principal_amt ==0].groupby('cust_id').tran_id.count().reset_index()\n",
    "checking_tran_auto.columns= ['cust_id', 'checking_autotran']\n",
    "checking_tran_auto.sort_values('checking_autotran',ascending= False).head()"
   ]
  },
  {
   "cell_type": "code",
   "execution_count": 42,
   "id": "1851328d",
   "metadata": {},
   "outputs": [
    {
     "data": {
      "image/png": "[encoded data removed]",
      "text/plain": [
       "<Figure size 432x288 with 1 Axes>"
      ]
     },
     "metadata": {
      "needs_background": "light"
     },
     "output_type": "display_data"
    }
   ],
   "source": [
    "## feature exploration\n",
    "sns.histplot(data= checking_tran_auto, x= 'checking_autotran');"
   ]
  },
  {
   "cell_type": "code",
   "execution_count": 43,
   "id": "5bfdd608",
   "metadata": {},
   "outputs": [
    {
     "data": {
      "text/html": [
       "<div>\n",
       "<style scoped>\n",
       "    .dataframe tbody tr th:only-of-type {\n",
       "        vertical-align: middle;\n",
       "    }\n",
       "\n",
       "    .dataframe tbody tr th {\n",
       "        vertical-align: top;\n",
       "    }\n",
       "\n",
       "    .dataframe thead th {\n",
       "        text-align: right;\n",
       "    }\n",
       "</style>\n",
       "<table border=\"1\" class=\"dataframe\">\n",
       "  <thead>\n",
       "    <tr style=\"text-align: right;\">\n",
       "      <th></th>\n",
       "      <th>cust_id</th>\n",
       "      <th>checking_autotran_value</th>\n",
       "    </tr>\n",
       "  </thead>\n",
       "  <tbody>\n",
       "    <tr>\n",
       "      <th>268</th>\n",
       "      <td>1363009</td>\n",
       "      <td>10.028667</td>\n",
       "    </tr>\n",
       "    <tr>\n",
       "      <th>420</th>\n",
       "      <td>1363308</td>\n",
       "      <td>7.165833</td>\n",
       "    </tr>\n",
       "    <tr>\n",
       "      <th>148</th>\n",
       "      <td>1362766</td>\n",
       "      <td>5.993684</td>\n",
       "    </tr>\n",
       "    <tr>\n",
       "      <th>364</th>\n",
       "      <td>1363215</td>\n",
       "      <td>5.890625</td>\n",
       "    </tr>\n",
       "    <tr>\n",
       "      <th>90</th>\n",
       "      <td>1362658</td>\n",
       "      <td>5.584667</td>\n",
       "    </tr>\n",
       "  </tbody>\n",
       "</table>\n",
       "</div>"
      ],
      "text/plain": [
       "     cust_id  checking_autotran_value\n",
       "268  1363009                10.028667\n",
       "420  1363308                 7.165833\n",
       "148  1362766                 5.993684\n",
       "364  1363215                 5.890625\n",
       "90   1362658                 5.584667"
      ]
     },
     "execution_count": 43,
     "metadata": {},
     "output_type": "execute_result"
    }
   ],
   "source": [
    "## feature:  avg value of AUTO checking transaction (made by system, not customer)\n",
    "checking_tran_auto_value= checking_tran[checking_tran.principal_amt ==0].groupby('cust_id').tran_amt.mean().reset_index()\n",
    "checking_tran_auto_value.columns= ['cust_id', 'checking_autotran_value']\n",
    "checking_tran_auto_value.sort_values('checking_autotran_value',ascending= False).head()\n",
    "# auto transaction is small in value"
   ]
  },
  {
   "cell_type": "code",
   "execution_count": 44,
   "id": "5643e29b",
   "metadata": {},
   "outputs": [
    {
     "data": {
      "image/png": "[encoded data removed]",
      "text/plain": [
       "<Figure size 432x288 with 1 Axes>"
      ]
     },
     "metadata": {
      "needs_background": "light"
     },
     "output_type": "display_data"
    }
   ],
   "source": [
    "## feature exploration\n",
    "sns.histplot(data= checking_tran_auto_value, x= 'checking_autotran_value');"
   ]
  },
  {
   "cell_type": "markdown",
   "id": "3d372795",
   "metadata": {},
   "source": [
    "### credit account\n",
    "- feature: create account active"
   ]
  },
  {
   "cell_type": "code",
   "execution_count": 45,
   "id": "95128cd6",
   "metadata": {},
   "outputs": [
    {
     "data": {
      "text/html": [
       "<div>\n",
       "<style scoped>\n",
       "    .dataframe tbody tr th:only-of-type {\n",
       "        vertical-align: middle;\n",
       "    }\n",
       "\n",
       "    .dataframe tbody tr th {\n",
       "        vertical-align: top;\n",
       "    }\n",
       "\n",
       "    .dataframe thead th {\n",
       "        text-align: right;\n",
       "    }\n",
       "</style>\n",
       "<table border=\"1\" class=\"dataframe\">\n",
       "  <thead>\n",
       "    <tr style=\"text-align: right;\">\n",
       "      <th></th>\n",
       "      <th>cust_id</th>\n",
       "      <th>acct_nbr</th>\n",
       "      <th>credit_limit</th>\n",
       "      <th>credit_rating</th>\n",
       "      <th>account_active</th>\n",
       "      <th>acct_start_date</th>\n",
       "      <th>acct_end_date</th>\n",
       "      <th>starting_balance</th>\n",
       "      <th>ending_balance</th>\n",
       "    </tr>\n",
       "  </thead>\n",
       "  <tbody>\n",
       "    <tr>\n",
       "      <th>0</th>\n",
       "      <td>1363160</td>\n",
       "      <td>4561143213631600</td>\n",
       "      <td>1000</td>\n",
       "      <td>0</td>\n",
       "      <td>Y</td>\n",
       "      <td>12.10.1988</td>\n",
       "      <td>NaN</td>\n",
       "      <td>657.46</td>\n",
       "      <td>286.69</td>\n",
       "    </tr>\n",
       "    <tr>\n",
       "      <th>1</th>\n",
       "      <td>1362487</td>\n",
       "      <td>4561143213624870</td>\n",
       "      <td>3000</td>\n",
       "      <td>0</td>\n",
       "      <td>Y</td>\n",
       "      <td>8.8.1995</td>\n",
       "      <td>NaN</td>\n",
       "      <td>0.00</td>\n",
       "      <td>1548.23</td>\n",
       "    </tr>\n",
       "    <tr>\n",
       "      <th>2</th>\n",
       "      <td>1362548</td>\n",
       "      <td>4561143213625480</td>\n",
       "      <td>6700</td>\n",
       "      <td>0</td>\n",
       "      <td>Y</td>\n",
       "      <td>11.11.1986</td>\n",
       "      <td>NaN</td>\n",
       "      <td>6965.25</td>\n",
       "      <td>68.68</td>\n",
       "    </tr>\n",
       "    <tr>\n",
       "      <th>3</th>\n",
       "      <td>1362752</td>\n",
       "      <td>4561143213627520</td>\n",
       "      <td>2400</td>\n",
       "      <td>0</td>\n",
       "      <td>N</td>\n",
       "      <td>9.10.1994</td>\n",
       "      <td>2.4.1995</td>\n",
       "      <td>2302.14</td>\n",
       "      <td>0.00</td>\n",
       "    </tr>\n",
       "    <tr>\n",
       "      <th>4</th>\n",
       "      <td>1363017</td>\n",
       "      <td>4561143213630170</td>\n",
       "      <td>1000</td>\n",
       "      <td>0</td>\n",
       "      <td>Y</td>\n",
       "      <td>8.2.1995</td>\n",
       "      <td>NaN</td>\n",
       "      <td>0.00</td>\n",
       "      <td>1000.00</td>\n",
       "    </tr>\n",
       "  </tbody>\n",
       "</table>\n",
       "</div>"
      ],
      "text/plain": [
       "   cust_id          acct_nbr  credit_limit  credit_rating account_active  \\\n",
       "0  1363160  4561143213631600          1000              0             Y    \n",
       "1  1362487  4561143213624870          3000              0             Y    \n",
       "2  1362548  4561143213625480          6700              0             Y    \n",
       "3  1362752  4561143213627520          2400              0             N    \n",
       "4  1363017  4561143213630170          1000              0             Y    \n",
       "\n",
       "  acct_start_date acct_end_date  starting_balance  ending_balance  \n",
       "0      12.10.1988           NaN            657.46          286.69  \n",
       "1        8.8.1995           NaN              0.00         1548.23  \n",
       "2      11.11.1986           NaN           6965.25           68.68  \n",
       "3       9.10.1994      2.4.1995           2302.14            0.00  \n",
       "4        8.2.1995           NaN              0.00         1000.00  "
      ]
     },
     "execution_count": 45,
     "metadata": {},
     "output_type": "execute_result"
    }
   ],
   "source": [
    "credit_account= pd.read_csv('mini-project-III/twm_credit_acct.csv',sep=\";\")\n",
    "credit_account.head()"
   ]
  },
  {
   "cell_type": "code",
   "execution_count": 46,
   "id": "fb576b0a",
   "metadata": {},
   "outputs": [
    {
     "data": {
      "text/plain": [
       "cust_id\n",
       "1362480    1\n",
       "1363160    1\n",
       "1363192    1\n",
       "1363187    1\n",
       "1363185    1\n",
       "          ..\n",
       "1362808    1\n",
       "1362806    1\n",
       "1362805    1\n",
       "1362804    1\n",
       "1363493    1\n",
       "Name: acct_nbr, Length: 468, dtype: int64"
      ]
     },
     "execution_count": 46,
     "metadata": {},
     "output_type": "execute_result"
    }
   ],
   "source": [
    "credit_account.groupby('cust_id').acct_nbr.count().sort_values(ascending= False)\n",
    "# no duplicated data for cust_id"
   ]
  },
  {
   "cell_type": "code",
   "execution_count": 47,
   "id": "02cac459",
   "metadata": {},
   "outputs": [
    {
     "data": {
      "text/plain": [
       "(23, 9)"
      ]
     },
     "execution_count": 47,
     "metadata": {},
     "output_type": "execute_result"
    }
   ],
   "source": [
    "credit_account[credit_account.credit_limit < credit_account.starting_balance].shape\n",
    "# out of 468 credit users, only 23 users have starting balance > credit limit \n",
    "##>> small number, niche group, will not include this feature in model"
   ]
  },
  {
   "cell_type": "code",
   "execution_count": 48,
   "id": "2f873873",
   "metadata": {},
   "outputs": [
    {
     "data": {
      "image/png": "[encoded data removed]",
      "text/plain": [
       "<Figure size 432x288 with 1 Axes>"
      ]
     },
     "metadata": {
      "needs_background": "light"
     },
     "output_type": "display_data"
    }
   ],
   "source": [
    "sns.histplot(data= credit_account, x= 'ending_balance');"
   ]
  },
  {
   "cell_type": "code",
   "execution_count": 49,
   "id": "357c0e24",
   "metadata": {},
   "outputs": [],
   "source": [
    "#features\n",
    "credit_account_features= credit_account[['cust_id','account_active','starting_balance','ending_balance']]\n",
    "credit_account_features.columns=['cust_id', 'credit_account_active', 'credit_starting_balance', 'credit_ending_balance']"
   ]
  },
  {
   "cell_type": "markdown",
   "id": "1bbc4cf2",
   "metadata": {},
   "source": [
    "### credit transaction"
   ]
  },
  {
   "cell_type": "code",
   "execution_count": 50,
   "id": "4c93e426",
   "metadata": {},
   "outputs": [
    {
     "data": {
      "text/html": [
       "<div>\n",
       "<style scoped>\n",
       "    .dataframe tbody tr th:only-of-type {\n",
       "        vertical-align: middle;\n",
       "    }\n",
       "\n",
       "    .dataframe tbody tr th {\n",
       "        vertical-align: top;\n",
       "    }\n",
       "\n",
       "    .dataframe thead th {\n",
       "        text-align: right;\n",
       "    }\n",
       "</style>\n",
       "<table border=\"1\" class=\"dataframe\">\n",
       "  <thead>\n",
       "    <tr style=\"text-align: right;\">\n",
       "      <th></th>\n",
       "      <th>cust_id</th>\n",
       "      <th>tran_id</th>\n",
       "      <th>tran_amt</th>\n",
       "      <th>principal_amt</th>\n",
       "      <th>interest_amt</th>\n",
       "      <th>new_balance</th>\n",
       "      <th>tran_date</th>\n",
       "      <th>tran_time</th>\n",
       "      <th>channel</th>\n",
       "      <th>tran_code</th>\n",
       "    </tr>\n",
       "  </thead>\n",
       "  <tbody>\n",
       "    <tr>\n",
       "      <th>0</th>\n",
       "      <td>1363088</td>\n",
       "      <td>46</td>\n",
       "      <td>-121.49</td>\n",
       "      <td>-121.49</td>\n",
       "      <td>0.00</td>\n",
       "      <td>-141.00</td>\n",
       "      <td>20.10.1995</td>\n",
       "      <td>101144</td>\n",
       "      <td>E</td>\n",
       "      <td>CG</td>\n",
       "    </tr>\n",
       "    <tr>\n",
       "      <th>1</th>\n",
       "      <td>1363306</td>\n",
       "      <td>32</td>\n",
       "      <td>-220.64</td>\n",
       "      <td>-220.64</td>\n",
       "      <td>0.00</td>\n",
       "      <td>-520.13</td>\n",
       "      <td>13.10.1995</td>\n",
       "      <td>83115</td>\n",
       "      <td>E</td>\n",
       "      <td>CG</td>\n",
       "    </tr>\n",
       "    <tr>\n",
       "      <th>2</th>\n",
       "      <td>1362959</td>\n",
       "      <td>10</td>\n",
       "      <td>0.00</td>\n",
       "      <td>0.00</td>\n",
       "      <td>0.00</td>\n",
       "      <td>-3900.00</td>\n",
       "      <td>26.2.1995</td>\n",
       "      <td>84129</td>\n",
       "      <td>K</td>\n",
       "      <td>IQ</td>\n",
       "    </tr>\n",
       "    <tr>\n",
       "      <th>3</th>\n",
       "      <td>1363429</td>\n",
       "      <td>13</td>\n",
       "      <td>-195.27</td>\n",
       "      <td>-195.27</td>\n",
       "      <td>0.00</td>\n",
       "      <td>-1739.74</td>\n",
       "      <td>3.1.1995</td>\n",
       "      <td>191815</td>\n",
       "      <td>E</td>\n",
       "      <td>CG</td>\n",
       "    </tr>\n",
       "    <tr>\n",
       "      <th>4</th>\n",
       "      <td>1363393</td>\n",
       "      <td>14</td>\n",
       "      <td>-37.32</td>\n",
       "      <td>-37.32</td>\n",
       "      <td>0.00</td>\n",
       "      <td>-198.98</td>\n",
       "      <td>4.7.1995</td>\n",
       "      <td>100811</td>\n",
       "      <td>E</td>\n",
       "      <td>CG</td>\n",
       "    </tr>\n",
       "    <tr>\n",
       "      <th>5</th>\n",
       "      <td>1363303</td>\n",
       "      <td>20</td>\n",
       "      <td>-180.00</td>\n",
       "      <td>-180.00</td>\n",
       "      <td>0.00</td>\n",
       "      <td>-180.00</td>\n",
       "      <td>8.8.1995</td>\n",
       "      <td>203528</td>\n",
       "      <td>A</td>\n",
       "      <td>CA</td>\n",
       "    </tr>\n",
       "    <tr>\n",
       "      <th>6</th>\n",
       "      <td>1363008</td>\n",
       "      <td>28</td>\n",
       "      <td>-102.28</td>\n",
       "      <td>-102.28</td>\n",
       "      <td>0.00</td>\n",
       "      <td>-740.23</td>\n",
       "      <td>13.8.1995</td>\n",
       "      <td>122055</td>\n",
       "      <td>E</td>\n",
       "      <td>CG</td>\n",
       "    </tr>\n",
       "    <tr>\n",
       "      <th>7</th>\n",
       "      <td>1362928</td>\n",
       "      <td>41</td>\n",
       "      <td>-25.14</td>\n",
       "      <td>-25.14</td>\n",
       "      <td>0.00</td>\n",
       "      <td>-843.42</td>\n",
       "      <td>26.6.1995</td>\n",
       "      <td>200337</td>\n",
       "      <td>E</td>\n",
       "      <td>CG</td>\n",
       "    </tr>\n",
       "    <tr>\n",
       "      <th>8</th>\n",
       "      <td>1363107</td>\n",
       "      <td>9</td>\n",
       "      <td>-72.06</td>\n",
       "      <td>-72.06</td>\n",
       "      <td>0.00</td>\n",
       "      <td>-72.06</td>\n",
       "      <td>14.4.1995</td>\n",
       "      <td>181619</td>\n",
       "      <td>E</td>\n",
       "      <td>CG</td>\n",
       "    </tr>\n",
       "    <tr>\n",
       "      <th>9</th>\n",
       "      <td>1362746</td>\n",
       "      <td>1</td>\n",
       "      <td>558.73</td>\n",
       "      <td>544.12</td>\n",
       "      <td>14.61</td>\n",
       "      <td>-492.99</td>\n",
       "      <td>7.1.1995</td>\n",
       "      <td></td>\n",
       "      <td>M</td>\n",
       "      <td>PM</td>\n",
       "    </tr>\n",
       "  </tbody>\n",
       "</table>\n",
       "</div>"
      ],
      "text/plain": [
       "   cust_id  tran_id  tran_amt  principal_amt  interest_amt  new_balance  \\\n",
       "0  1363088       46   -121.49        -121.49          0.00      -141.00   \n",
       "1  1363306       32   -220.64        -220.64          0.00      -520.13   \n",
       "2  1362959       10      0.00           0.00          0.00     -3900.00   \n",
       "3  1363429       13   -195.27        -195.27          0.00     -1739.74   \n",
       "4  1363393       14    -37.32         -37.32          0.00      -198.98   \n",
       "5  1363303       20   -180.00        -180.00          0.00      -180.00   \n",
       "6  1363008       28   -102.28        -102.28          0.00      -740.23   \n",
       "7  1362928       41    -25.14         -25.14          0.00      -843.42   \n",
       "8  1363107        9    -72.06         -72.06          0.00       -72.06   \n",
       "9  1362746        1    558.73         544.12         14.61      -492.99   \n",
       "\n",
       "    tran_date     tran_time channel tran_code  \n",
       "0  20.10.1995        101144      E       CG    \n",
       "1  13.10.1995         83115      E       CG    \n",
       "2   26.2.1995         84129      K       IQ    \n",
       "3    3.1.1995        191815      E       CG    \n",
       "4    4.7.1995        100811      E       CG    \n",
       "5    8.8.1995        203528      A       CA    \n",
       "6   13.8.1995        122055      E       CG    \n",
       "7   26.6.1995        200337      E       CG    \n",
       "8   14.4.1995        181619      E       CG    \n",
       "9    7.1.1995                    M       PM    "
      ]
     },
     "execution_count": 50,
     "metadata": {},
     "output_type": "execute_result"
    }
   ],
   "source": [
    "credit_tran= pd.read_csv('mini-project-III/twm_credit_tran.csv',sep=\";\")\n",
    "credit_tran.head(10)"
   ]
  },
  {
   "cell_type": "markdown",
   "id": "f0c67a1c",
   "metadata": {},
   "source": [
    "***understand dataset***"
   ]
  },
  {
   "cell_type": "code",
   "execution_count": 51,
   "id": "a94f659f",
   "metadata": {},
   "outputs": [
    {
     "data": {
      "text/html": [
       "<div>\n",
       "<style scoped>\n",
       "    .dataframe tbody tr th:only-of-type {\n",
       "        vertical-align: middle;\n",
       "    }\n",
       "\n",
       "    .dataframe tbody tr th {\n",
       "        vertical-align: top;\n",
       "    }\n",
       "\n",
       "    .dataframe thead th {\n",
       "        text-align: right;\n",
       "    }\n",
       "</style>\n",
       "<table border=\"1\" class=\"dataframe\">\n",
       "  <thead>\n",
       "    <tr style=\"text-align: right;\">\n",
       "      <th></th>\n",
       "      <th>cust_id</th>\n",
       "      <th>tran_id</th>\n",
       "      <th>tran_amt</th>\n",
       "      <th>principal_amt</th>\n",
       "      <th>interest_amt</th>\n",
       "      <th>new_balance</th>\n",
       "    </tr>\n",
       "  </thead>\n",
       "  <tbody>\n",
       "    <tr>\n",
       "      <th>count</th>\n",
       "      <td>20167.0</td>\n",
       "      <td>20167.0</td>\n",
       "      <td>20167.0</td>\n",
       "      <td>20167.0</td>\n",
       "      <td>20167.0</td>\n",
       "      <td>20167.0</td>\n",
       "    </tr>\n",
       "    <tr>\n",
       "      <th>mean</th>\n",
       "      <td>1362987.0</td>\n",
       "      <td>29.0</td>\n",
       "      <td>1.0</td>\n",
       "      <td>-1.0</td>\n",
       "      <td>2.0</td>\n",
       "      <td>-1130.0</td>\n",
       "    </tr>\n",
       "    <tr>\n",
       "      <th>std</th>\n",
       "      <td>293.0</td>\n",
       "      <td>22.0</td>\n",
       "      <td>456.0</td>\n",
       "      <td>452.0</td>\n",
       "      <td>8.0</td>\n",
       "      <td>1378.0</td>\n",
       "    </tr>\n",
       "    <tr>\n",
       "      <th>min</th>\n",
       "      <td>1362480.0</td>\n",
       "      <td>1.0</td>\n",
       "      <td>-1566.0</td>\n",
       "      <td>-1566.0</td>\n",
       "      <td>0.0</td>\n",
       "      <td>-17300.0</td>\n",
       "    </tr>\n",
       "    <tr>\n",
       "      <th>25%</th>\n",
       "      <td>1362730.0</td>\n",
       "      <td>12.0</td>\n",
       "      <td>-167.0</td>\n",
       "      <td>-167.0</td>\n",
       "      <td>0.0</td>\n",
       "      <td>-1411.0</td>\n",
       "    </tr>\n",
       "    <tr>\n",
       "      <th>50%</th>\n",
       "      <td>1362980.0</td>\n",
       "      <td>24.0</td>\n",
       "      <td>-68.0</td>\n",
       "      <td>-68.0</td>\n",
       "      <td>0.0</td>\n",
       "      <td>-766.0</td>\n",
       "    </tr>\n",
       "    <tr>\n",
       "      <th>75%</th>\n",
       "      <td>1363249.0</td>\n",
       "      <td>40.0</td>\n",
       "      <td>0.0</td>\n",
       "      <td>0.0</td>\n",
       "      <td>0.0</td>\n",
       "      <td>-334.0</td>\n",
       "    </tr>\n",
       "    <tr>\n",
       "      <th>max</th>\n",
       "      <td>1363492.0</td>\n",
       "      <td>155.0</td>\n",
       "      <td>17465.0</td>\n",
       "      <td>17300.0</td>\n",
       "      <td>165.0</td>\n",
       "      <td>0.0</td>\n",
       "    </tr>\n",
       "  </tbody>\n",
       "</table>\n",
       "</div>"
      ],
      "text/plain": [
       "         cust_id  tran_id  tran_amt  principal_amt  interest_amt  new_balance\n",
       "count    20167.0  20167.0   20167.0        20167.0       20167.0      20167.0\n",
       "mean   1362987.0     29.0       1.0           -1.0           2.0      -1130.0\n",
       "std        293.0     22.0     456.0          452.0           8.0       1378.0\n",
       "min    1362480.0      1.0   -1566.0        -1566.0           0.0     -17300.0\n",
       "25%    1362730.0     12.0    -167.0         -167.0           0.0      -1411.0\n",
       "50%    1362980.0     24.0     -68.0          -68.0           0.0       -766.0\n",
       "75%    1363249.0     40.0       0.0            0.0           0.0       -334.0\n",
       "max    1363492.0    155.0   17465.0        17300.0         165.0          0.0"
      ]
     },
     "execution_count": 51,
     "metadata": {},
     "output_type": "execute_result"
    }
   ],
   "source": [
    "credit_tran.describe().round()\n",
    "# interest have small value >> principal_amt ~ tran_amt >> we can focus on tran_amt feature "
   ]
  },
  {
   "cell_type": "code",
   "execution_count": 52,
   "id": "399e3f4a",
   "metadata": {},
   "outputs": [
    {
     "data": {
      "image/png": "[encoded data removed]",
      "text/plain": [
       "<Figure size 432x288 with 1 Axes>"
      ]
     },
     "metadata": {
      "needs_background": "light"
     },
     "output_type": "display_data"
    }
   ],
   "source": [
    "sns.histplot(data= credit_tran, x= 'interest_amt');"
   ]
  },
  {
   "cell_type": "code",
   "execution_count": 53,
   "id": "47bcf7cf",
   "metadata": {},
   "outputs": [
    {
     "data": {
      "image/png": "[encoded data removed]",
      "text/plain": [
       "<Figure size 1440x432 with 1 Axes>"
      ]
     },
     "metadata": {
      "needs_background": "light"
     },
     "output_type": "display_data"
    }
   ],
   "source": [
    "plt.figure(figsize=(20,6))\n",
    "sns.histplot(data= credit_tran, x= 'tran_amt');\n",
    "## tran_amt seems to have outlier with high value>> data scaling "
   ]
  },
  {
   "cell_type": "markdown",
   "id": "790a1d3f",
   "metadata": {},
   "source": [
    "***features***"
   ]
  },
  {
   "cell_type": "code",
   "execution_count": 54,
   "id": "8f08519c",
   "metadata": {},
   "outputs": [
    {
     "data": {
      "text/html": [
       "<div>\n",
       "<style scoped>\n",
       "    .dataframe tbody tr th:only-of-type {\n",
       "        vertical-align: middle;\n",
       "    }\n",
       "\n",
       "    .dataframe tbody tr th {\n",
       "        vertical-align: top;\n",
       "    }\n",
       "\n",
       "    .dataframe thead th {\n",
       "        text-align: right;\n",
       "    }\n",
       "</style>\n",
       "<table border=\"1\" class=\"dataframe\">\n",
       "  <thead>\n",
       "    <tr style=\"text-align: right;\">\n",
       "      <th></th>\n",
       "      <th>cust_id</th>\n",
       "      <th>tran_id</th>\n",
       "      <th>tran_amt</th>\n",
       "      <th>principal_amt</th>\n",
       "      <th>interest_amt</th>\n",
       "      <th>new_balance</th>\n",
       "      <th>tran_date</th>\n",
       "      <th>tran_time</th>\n",
       "      <th>channel</th>\n",
       "      <th>tran_code</th>\n",
       "    </tr>\n",
       "  </thead>\n",
       "  <tbody>\n",
       "    <tr>\n",
       "      <th>0</th>\n",
       "      <td>1363088</td>\n",
       "      <td>46</td>\n",
       "      <td>-121.49</td>\n",
       "      <td>-121.49</td>\n",
       "      <td>0.00</td>\n",
       "      <td>-141.00</td>\n",
       "      <td>20.10.1995</td>\n",
       "      <td>101144</td>\n",
       "      <td>E</td>\n",
       "      <td>CG</td>\n",
       "    </tr>\n",
       "    <tr>\n",
       "      <th>1</th>\n",
       "      <td>1363306</td>\n",
       "      <td>32</td>\n",
       "      <td>-220.64</td>\n",
       "      <td>-220.64</td>\n",
       "      <td>0.00</td>\n",
       "      <td>-520.13</td>\n",
       "      <td>13.10.1995</td>\n",
       "      <td>83115</td>\n",
       "      <td>E</td>\n",
       "      <td>CG</td>\n",
       "    </tr>\n",
       "    <tr>\n",
       "      <th>2</th>\n",
       "      <td>1362959</td>\n",
       "      <td>10</td>\n",
       "      <td>0.00</td>\n",
       "      <td>0.00</td>\n",
       "      <td>0.00</td>\n",
       "      <td>-3900.00</td>\n",
       "      <td>26.2.1995</td>\n",
       "      <td>84129</td>\n",
       "      <td>K</td>\n",
       "      <td>IQ</td>\n",
       "    </tr>\n",
       "    <tr>\n",
       "      <th>3</th>\n",
       "      <td>1363429</td>\n",
       "      <td>13</td>\n",
       "      <td>-195.27</td>\n",
       "      <td>-195.27</td>\n",
       "      <td>0.00</td>\n",
       "      <td>-1739.74</td>\n",
       "      <td>3.1.1995</td>\n",
       "      <td>191815</td>\n",
       "      <td>E</td>\n",
       "      <td>CG</td>\n",
       "    </tr>\n",
       "    <tr>\n",
       "      <th>4</th>\n",
       "      <td>1363393</td>\n",
       "      <td>14</td>\n",
       "      <td>-37.32</td>\n",
       "      <td>-37.32</td>\n",
       "      <td>0.00</td>\n",
       "      <td>-198.98</td>\n",
       "      <td>4.7.1995</td>\n",
       "      <td>100811</td>\n",
       "      <td>E</td>\n",
       "      <td>CG</td>\n",
       "    </tr>\n",
       "    <tr>\n",
       "      <th>5</th>\n",
       "      <td>1363303</td>\n",
       "      <td>20</td>\n",
       "      <td>-180.00</td>\n",
       "      <td>-180.00</td>\n",
       "      <td>0.00</td>\n",
       "      <td>-180.00</td>\n",
       "      <td>8.8.1995</td>\n",
       "      <td>203528</td>\n",
       "      <td>A</td>\n",
       "      <td>CA</td>\n",
       "    </tr>\n",
       "    <tr>\n",
       "      <th>6</th>\n",
       "      <td>1363008</td>\n",
       "      <td>28</td>\n",
       "      <td>-102.28</td>\n",
       "      <td>-102.28</td>\n",
       "      <td>0.00</td>\n",
       "      <td>-740.23</td>\n",
       "      <td>13.8.1995</td>\n",
       "      <td>122055</td>\n",
       "      <td>E</td>\n",
       "      <td>CG</td>\n",
       "    </tr>\n",
       "    <tr>\n",
       "      <th>7</th>\n",
       "      <td>1362928</td>\n",
       "      <td>41</td>\n",
       "      <td>-25.14</td>\n",
       "      <td>-25.14</td>\n",
       "      <td>0.00</td>\n",
       "      <td>-843.42</td>\n",
       "      <td>26.6.1995</td>\n",
       "      <td>200337</td>\n",
       "      <td>E</td>\n",
       "      <td>CG</td>\n",
       "    </tr>\n",
       "    <tr>\n",
       "      <th>8</th>\n",
       "      <td>1363107</td>\n",
       "      <td>9</td>\n",
       "      <td>-72.06</td>\n",
       "      <td>-72.06</td>\n",
       "      <td>0.00</td>\n",
       "      <td>-72.06</td>\n",
       "      <td>14.4.1995</td>\n",
       "      <td>181619</td>\n",
       "      <td>E</td>\n",
       "      <td>CG</td>\n",
       "    </tr>\n",
       "    <tr>\n",
       "      <th>9</th>\n",
       "      <td>1362746</td>\n",
       "      <td>1</td>\n",
       "      <td>558.73</td>\n",
       "      <td>544.12</td>\n",
       "      <td>14.61</td>\n",
       "      <td>-492.99</td>\n",
       "      <td>7.1.1995</td>\n",
       "      <td></td>\n",
       "      <td>M</td>\n",
       "      <td>PM</td>\n",
       "    </tr>\n",
       "  </tbody>\n",
       "</table>\n",
       "</div>"
      ],
      "text/plain": [
       "   cust_id  tran_id  tran_amt  principal_amt  interest_amt  new_balance  \\\n",
       "0  1363088       46   -121.49        -121.49          0.00      -141.00   \n",
       "1  1363306       32   -220.64        -220.64          0.00      -520.13   \n",
       "2  1362959       10      0.00           0.00          0.00     -3900.00   \n",
       "3  1363429       13   -195.27        -195.27          0.00     -1739.74   \n",
       "4  1363393       14    -37.32         -37.32          0.00      -198.98   \n",
       "5  1363303       20   -180.00        -180.00          0.00      -180.00   \n",
       "6  1363008       28   -102.28        -102.28          0.00      -740.23   \n",
       "7  1362928       41    -25.14         -25.14          0.00      -843.42   \n",
       "8  1363107        9    -72.06         -72.06          0.00       -72.06   \n",
       "9  1362746        1    558.73         544.12         14.61      -492.99   \n",
       "\n",
       "    tran_date     tran_time channel tran_code  \n",
       "0  20.10.1995        101144      E       CG    \n",
       "1  13.10.1995         83115      E       CG    \n",
       "2   26.2.1995         84129      K       IQ    \n",
       "3    3.1.1995        191815      E       CG    \n",
       "4    4.7.1995        100811      E       CG    \n",
       "5    8.8.1995        203528      A       CA    \n",
       "6   13.8.1995        122055      E       CG    \n",
       "7   26.6.1995        200337      E       CG    \n",
       "8   14.4.1995        181619      E       CG    \n",
       "9    7.1.1995                    M       PM    "
      ]
     },
     "execution_count": 54,
     "metadata": {},
     "output_type": "execute_result"
    }
   ],
   "source": [
    "credit_tran.head(10)"
   ]
  },
  {
   "cell_type": "code",
   "execution_count": 55,
   "id": "49d133c5",
   "metadata": {},
   "outputs": [
    {
     "data": {
      "text/html": [
       "<div>\n",
       "<style scoped>\n",
       "    .dataframe tbody tr th:only-of-type {\n",
       "        vertical-align: middle;\n",
       "    }\n",
       "\n",
       "    .dataframe tbody tr th {\n",
       "        vertical-align: top;\n",
       "    }\n",
       "\n",
       "    .dataframe thead th {\n",
       "        text-align: right;\n",
       "    }\n",
       "</style>\n",
       "<table border=\"1\" class=\"dataframe\">\n",
       "  <thead>\n",
       "    <tr style=\"text-align: right;\">\n",
       "      <th></th>\n",
       "      <th>cust_id</th>\n",
       "      <th>number_credit_tran</th>\n",
       "    </tr>\n",
       "  </thead>\n",
       "  <tbody>\n",
       "    <tr>\n",
       "      <th>0</th>\n",
       "      <td>1362480</td>\n",
       "      <td>32</td>\n",
       "    </tr>\n",
       "    <tr>\n",
       "      <th>1</th>\n",
       "      <td>1362484</td>\n",
       "      <td>55</td>\n",
       "    </tr>\n",
       "    <tr>\n",
       "      <th>2</th>\n",
       "      <td>1362485</td>\n",
       "      <td>72</td>\n",
       "    </tr>\n",
       "    <tr>\n",
       "      <th>3</th>\n",
       "      <td>1362487</td>\n",
       "      <td>32</td>\n",
       "    </tr>\n",
       "    <tr>\n",
       "      <th>4</th>\n",
       "      <td>1362489</td>\n",
       "      <td>35</td>\n",
       "    </tr>\n",
       "  </tbody>\n",
       "</table>\n",
       "</div>"
      ],
      "text/plain": [
       "   cust_id  number_credit_tran\n",
       "0  1362480                  32\n",
       "1  1362484                  55\n",
       "2  1362485                  72\n",
       "3  1362487                  32\n",
       "4  1362489                  35"
      ]
     },
     "execution_count": 55,
     "metadata": {},
     "output_type": "execute_result"
    }
   ],
   "source": [
    "## feature: number of credit transaction (spending + deposit)\n",
    "number_credit_tran= credit_tran.groupby('cust_id').tran_id.count().reset_index()\n",
    "number_credit_tran.columns= ['cust_id','number_credit_tran']\n",
    "number_credit_tran.head()"
   ]
  },
  {
   "cell_type": "code",
   "execution_count": 56,
   "id": "03910102",
   "metadata": {},
   "outputs": [
    {
     "data": {
      "image/png": "[encoded data removed]",
      "text/plain": [
       "<Figure size 432x288 with 1 Axes>"
      ]
     },
     "metadata": {
      "needs_background": "light"
     },
     "output_type": "display_data"
    }
   ],
   "source": [
    "#feature exploration\n",
    "sns.histplot(data= number_credit_tran, x= 'number_credit_tran');"
   ]
  },
  {
   "cell_type": "code",
   "execution_count": 57,
   "id": "9aa311b4",
   "metadata": {},
   "outputs": [
    {
     "data": {
      "text/html": [
       "<div>\n",
       "<style scoped>\n",
       "    .dataframe tbody tr th:only-of-type {\n",
       "        vertical-align: middle;\n",
       "    }\n",
       "\n",
       "    .dataframe tbody tr th {\n",
       "        vertical-align: top;\n",
       "    }\n",
       "\n",
       "    .dataframe thead th {\n",
       "        text-align: right;\n",
       "    }\n",
       "</style>\n",
       "<table border=\"1\" class=\"dataframe\">\n",
       "  <thead>\n",
       "    <tr style=\"text-align: right;\">\n",
       "      <th></th>\n",
       "      <th>cust_id</th>\n",
       "      <th>number_credit_negative</th>\n",
       "    </tr>\n",
       "  </thead>\n",
       "  <tbody>\n",
       "    <tr>\n",
       "      <th>0</th>\n",
       "      <td>1362480</td>\n",
       "      <td>17</td>\n",
       "    </tr>\n",
       "    <tr>\n",
       "      <th>1</th>\n",
       "      <td>1362484</td>\n",
       "      <td>39</td>\n",
       "    </tr>\n",
       "    <tr>\n",
       "      <th>2</th>\n",
       "      <td>1362485</td>\n",
       "      <td>57</td>\n",
       "    </tr>\n",
       "    <tr>\n",
       "      <th>3</th>\n",
       "      <td>1362487</td>\n",
       "      <td>26</td>\n",
       "    </tr>\n",
       "    <tr>\n",
       "      <th>4</th>\n",
       "      <td>1362489</td>\n",
       "      <td>25</td>\n",
       "    </tr>\n",
       "  </tbody>\n",
       "</table>\n",
       "</div>"
      ],
      "text/plain": [
       "   cust_id  number_credit_negative\n",
       "0  1362480                      17\n",
       "1  1362484                      39\n",
       "2  1362485                      57\n",
       "3  1362487                      26\n",
       "4  1362489                      25"
      ]
     },
     "execution_count": 57,
     "metadata": {},
     "output_type": "execute_result"
    }
   ],
   "source": [
    "## feature: number of negative transaction \n",
    "number_credit_negative= credit_tran[credit_tran.tran_amt<0].groupby('cust_id').tran_id.count().reset_index()\n",
    "number_credit_negative.columns= ['cust_id','number_credit_negative']\n",
    "number_credit_negative.head()"
   ]
  },
  {
   "cell_type": "code",
   "execution_count": 58,
   "id": "4dd4e865",
   "metadata": {},
   "outputs": [
    {
     "data": {
      "image/png": "[encoded data removed]",
      "text/plain": [
       "<Figure size 432x288 with 1 Axes>"
      ]
     },
     "metadata": {
      "needs_background": "light"
     },
     "output_type": "display_data"
    }
   ],
   "source": [
    "sns.histplot(data= number_credit_negative, x= 'number_credit_negative');"
   ]
  },
  {
   "cell_type": "code",
   "execution_count": 59,
   "id": "00827ce7",
   "metadata": {},
   "outputs": [
    {
     "data": {
      "text/html": [
       "<div>\n",
       "<style scoped>\n",
       "    .dataframe tbody tr th:only-of-type {\n",
       "        vertical-align: middle;\n",
       "    }\n",
       "\n",
       "    .dataframe tbody tr th {\n",
       "        vertical-align: top;\n",
       "    }\n",
       "\n",
       "    .dataframe thead th {\n",
       "        text-align: right;\n",
       "    }\n",
       "</style>\n",
       "<table border=\"1\" class=\"dataframe\">\n",
       "  <thead>\n",
       "    <tr style=\"text-align: right;\">\n",
       "      <th></th>\n",
       "      <th>cust_id</th>\n",
       "      <th>number_credit_0</th>\n",
       "    </tr>\n",
       "  </thead>\n",
       "  <tbody>\n",
       "    <tr>\n",
       "      <th>0</th>\n",
       "      <td>1362480</td>\n",
       "      <td>3</td>\n",
       "    </tr>\n",
       "    <tr>\n",
       "      <th>1</th>\n",
       "      <td>1362484</td>\n",
       "      <td>4</td>\n",
       "    </tr>\n",
       "    <tr>\n",
       "      <th>2</th>\n",
       "      <td>1362485</td>\n",
       "      <td>3</td>\n",
       "    </tr>\n",
       "    <tr>\n",
       "      <th>3</th>\n",
       "      <td>1362487</td>\n",
       "      <td>2</td>\n",
       "    </tr>\n",
       "    <tr>\n",
       "      <th>4</th>\n",
       "      <td>1362489</td>\n",
       "      <td>1</td>\n",
       "    </tr>\n",
       "  </tbody>\n",
       "</table>\n",
       "</div>"
      ],
      "text/plain": [
       "   cust_id  number_credit_0\n",
       "0  1362480                3\n",
       "1  1362484                4\n",
       "2  1362485                3\n",
       "3  1362487                2\n",
       "4  1362489                1"
      ]
     },
     "execution_count": 59,
     "metadata": {},
     "output_type": "execute_result"
    }
   ],
   "source": [
    "## feature: number of transaction equal 0\n",
    "number_credit_0= credit_tran[credit_tran.tran_amt==0].groupby('cust_id').tran_id.count().reset_index()\n",
    "number_credit_0.columns= ['cust_id','number_credit_0']\n",
    "number_credit_0.head()"
   ]
  },
  {
   "cell_type": "code",
   "execution_count": 60,
   "id": "7529f53b",
   "metadata": {},
   "outputs": [
    {
     "data": {
      "image/png": "[encoded data removed]",
      "text/plain": [
       "<Figure size 432x288 with 1 Axes>"
      ]
     },
     "metadata": {
      "needs_background": "light"
     },
     "output_type": "display_data"
    }
   ],
   "source": [
    "sns.histplot(data= number_credit_0, x= 'number_credit_0');"
   ]
  },
  {
   "cell_type": "code",
   "execution_count": 61,
   "id": "0ca5dd8c",
   "metadata": {},
   "outputs": [
    {
     "data": {
      "text/html": [
       "<div>\n",
       "<style scoped>\n",
       "    .dataframe tbody tr th:only-of-type {\n",
       "        vertical-align: middle;\n",
       "    }\n",
       "\n",
       "    .dataframe tbody tr th {\n",
       "        vertical-align: top;\n",
       "    }\n",
       "\n",
       "    .dataframe thead th {\n",
       "        text-align: right;\n",
       "    }\n",
       "</style>\n",
       "<table border=\"1\" class=\"dataframe\">\n",
       "  <thead>\n",
       "    <tr style=\"text-align: right;\">\n",
       "      <th></th>\n",
       "      <th>cust_id</th>\n",
       "      <th>number_credit_positive</th>\n",
       "    </tr>\n",
       "  </thead>\n",
       "  <tbody>\n",
       "    <tr>\n",
       "      <th>0</th>\n",
       "      <td>1362480</td>\n",
       "      <td>12</td>\n",
       "    </tr>\n",
       "    <tr>\n",
       "      <th>1</th>\n",
       "      <td>1362484</td>\n",
       "      <td>12</td>\n",
       "    </tr>\n",
       "    <tr>\n",
       "      <th>2</th>\n",
       "      <td>1362485</td>\n",
       "      <td>12</td>\n",
       "    </tr>\n",
       "    <tr>\n",
       "      <th>3</th>\n",
       "      <td>1362487</td>\n",
       "      <td>4</td>\n",
       "    </tr>\n",
       "    <tr>\n",
       "      <th>4</th>\n",
       "      <td>1362489</td>\n",
       "      <td>9</td>\n",
       "    </tr>\n",
       "  </tbody>\n",
       "</table>\n",
       "</div>"
      ],
      "text/plain": [
       "   cust_id  number_credit_positive\n",
       "0  1362480                      12\n",
       "1  1362484                      12\n",
       "2  1362485                      12\n",
       "3  1362487                       4\n",
       "4  1362489                       9"
      ]
     },
     "execution_count": 61,
     "metadata": {},
     "output_type": "execute_result"
    }
   ],
   "source": [
    "## feature: number of positive transaction \n",
    "number_credit_positive= credit_tran[credit_tran.tran_amt>0].groupby('cust_id').tran_id.count().reset_index()\n",
    "number_credit_positive.columns= ['cust_id','number_credit_positive']\n",
    "number_credit_positive.head()"
   ]
  },
  {
   "cell_type": "code",
   "execution_count": 62,
   "id": "9fdc5abf",
   "metadata": {},
   "outputs": [
    {
     "data": {
      "image/png": "[encoded data removed]",
      "text/plain": [
       "<Figure size 432x288 with 1 Axes>"
      ]
     },
     "metadata": {
      "needs_background": "light"
     },
     "output_type": "display_data"
    }
   ],
   "source": [
    "sns.histplot(data= number_credit_positive, x= 'number_credit_positive');"
   ]
  },
  {
   "cell_type": "code",
   "execution_count": 63,
   "id": "a209ea3b",
   "metadata": {},
   "outputs": [
    {
     "data": {
      "text/html": [
       "<div>\n",
       "<style scoped>\n",
       "    .dataframe tbody tr th:only-of-type {\n",
       "        vertical-align: middle;\n",
       "    }\n",
       "\n",
       "    .dataframe tbody tr th {\n",
       "        vertical-align: top;\n",
       "    }\n",
       "\n",
       "    .dataframe thead th {\n",
       "        text-align: right;\n",
       "    }\n",
       "</style>\n",
       "<table border=\"1\" class=\"dataframe\">\n",
       "  <thead>\n",
       "    <tr style=\"text-align: right;\">\n",
       "      <th></th>\n",
       "      <th>cust_id</th>\n",
       "      <th>value_credit_tran</th>\n",
       "    </tr>\n",
       "  </thead>\n",
       "  <tbody>\n",
       "    <tr>\n",
       "      <th>343</th>\n",
       "      <td>1363237</td>\n",
       "      <td>8735.14</td>\n",
       "    </tr>\n",
       "    <tr>\n",
       "      <th>62</th>\n",
       "      <td>1362619</td>\n",
       "      <td>3905.04</td>\n",
       "    </tr>\n",
       "    <tr>\n",
       "      <th>297</th>\n",
       "      <td>1363146</td>\n",
       "      <td>2814.61</td>\n",
       "    </tr>\n",
       "    <tr>\n",
       "      <th>304</th>\n",
       "      <td>1363169</td>\n",
       "      <td>1749.60</td>\n",
       "    </tr>\n",
       "    <tr>\n",
       "      <th>292</th>\n",
       "      <td>1363133</td>\n",
       "      <td>1675.89</td>\n",
       "    </tr>\n",
       "  </tbody>\n",
       "</table>\n",
       "</div>"
      ],
      "text/plain": [
       "     cust_id  value_credit_tran\n",
       "343  1363237            8735.14\n",
       "62   1362619            3905.04\n",
       "297  1363146            2814.61\n",
       "304  1363169            1749.60\n",
       "292  1363133            1675.89"
      ]
     },
     "execution_count": 63,
     "metadata": {},
     "output_type": "execute_result"
    }
   ],
   "source": [
    "## feature: avg value credit tran\n",
    "value_credit_tran= credit_tran.groupby('cust_id').tran_amt.mean().reset_index()\n",
    "value_credit_tran.columns= ['cust_id','value_credit_tran']\n",
    "value_credit_tran.sort_values('value_credit_tran', ascending= False).head()"
   ]
  },
  {
   "cell_type": "code",
   "execution_count": 64,
   "id": "fa344bdb",
   "metadata": {},
   "outputs": [
    {
     "data": {
      "image/png": "[encoded data removed]",
      "text/plain": [
       "<Figure size 432x288 with 1 Axes>"
      ]
     },
     "metadata": {
      "needs_background": "light"
     },
     "output_type": "display_data"
    }
   ],
   "source": [
    "sns.histplot(data= value_credit_tran, x= 'value_credit_tran');"
   ]
  },
  {
   "cell_type": "code",
   "execution_count": 65,
   "id": "cfdc5541",
   "metadata": {},
   "outputs": [
    {
     "data": {
      "text/html": [
       "<div>\n",
       "<style scoped>\n",
       "    .dataframe tbody tr th:only-of-type {\n",
       "        vertical-align: middle;\n",
       "    }\n",
       "\n",
       "    .dataframe tbody tr th {\n",
       "        vertical-align: top;\n",
       "    }\n",
       "\n",
       "    .dataframe thead th {\n",
       "        text-align: right;\n",
       "    }\n",
       "</style>\n",
       "<table border=\"1\" class=\"dataframe\">\n",
       "  <thead>\n",
       "    <tr style=\"text-align: right;\">\n",
       "      <th></th>\n",
       "      <th>cust_id</th>\n",
       "      <th>value_credit_spending</th>\n",
       "    </tr>\n",
       "  </thead>\n",
       "  <tbody>\n",
       "    <tr>\n",
       "      <th>283</th>\n",
       "      <td>1363159</td>\n",
       "      <td>-10.000000</td>\n",
       "    </tr>\n",
       "    <tr>\n",
       "      <th>49</th>\n",
       "      <td>1362598</td>\n",
       "      <td>-20.000000</td>\n",
       "    </tr>\n",
       "    <tr>\n",
       "      <th>162</th>\n",
       "      <td>1362845</td>\n",
       "      <td>-20.000000</td>\n",
       "    </tr>\n",
       "    <tr>\n",
       "      <th>20</th>\n",
       "      <td>1362542</td>\n",
       "      <td>-20.000000</td>\n",
       "    </tr>\n",
       "    <tr>\n",
       "      <th>82</th>\n",
       "      <td>1362672</td>\n",
       "      <td>-52.728462</td>\n",
       "    </tr>\n",
       "  </tbody>\n",
       "</table>\n",
       "</div>"
      ],
      "text/plain": [
       "     cust_id  value_credit_spending\n",
       "283  1363159             -10.000000\n",
       "49   1362598             -20.000000\n",
       "162  1362845             -20.000000\n",
       "20   1362542             -20.000000\n",
       "82   1362672             -52.728462"
      ]
     },
     "execution_count": 65,
     "metadata": {},
     "output_type": "execute_result"
    }
   ],
   "source": [
    "## feature: avg negative value credit tran (spending?!)\n",
    "value_credit_spending= credit_tran[credit_tran.tran_amt <0].groupby('cust_id').tran_amt.mean().reset_index()\n",
    "value_credit_spending.columns= ['cust_id','value_credit_spending']\n",
    "value_credit_spending.sort_values('value_credit_spending', ascending= False).head()"
   ]
  },
  {
   "cell_type": "code",
   "execution_count": 66,
   "id": "889d194f",
   "metadata": {},
   "outputs": [],
   "source": [
    "value_credit_spending.value_credit_spending= abs(value_credit_spending.value_credit_spending)"
   ]
  },
  {
   "cell_type": "code",
   "execution_count": 67,
   "id": "c848aa6a",
   "metadata": {},
   "outputs": [
    {
     "data": {
      "image/png": "[encoded data removed]",
      "text/plain": [
       "<Figure size 432x288 with 1 Axes>"
      ]
     },
     "metadata": {
      "needs_background": "light"
     },
     "output_type": "display_data"
    }
   ],
   "source": [
    "sns.histplot(data= value_credit_spending, x= 'value_credit_spending');"
   ]
  },
  {
   "cell_type": "code",
   "execution_count": 68,
   "id": "d461c7a0",
   "metadata": {},
   "outputs": [
    {
     "data": {
      "text/html": [
       "<div>\n",
       "<style scoped>\n",
       "    .dataframe tbody tr th:only-of-type {\n",
       "        vertical-align: middle;\n",
       "    }\n",
       "\n",
       "    .dataframe tbody tr th {\n",
       "        vertical-align: top;\n",
       "    }\n",
       "\n",
       "    .dataframe thead th {\n",
       "        text-align: right;\n",
       "    }\n",
       "</style>\n",
       "<table border=\"1\" class=\"dataframe\">\n",
       "  <thead>\n",
       "    <tr style=\"text-align: right;\">\n",
       "      <th></th>\n",
       "      <th>cust_id</th>\n",
       "      <th>value_credit_deposit</th>\n",
       "    </tr>\n",
       "  </thead>\n",
       "  <tbody>\n",
       "    <tr>\n",
       "      <th>339</th>\n",
       "      <td>1363237</td>\n",
       "      <td>8735.140000</td>\n",
       "    </tr>\n",
       "    <tr>\n",
       "      <th>115</th>\n",
       "      <td>1362737</td>\n",
       "      <td>4595.880000</td>\n",
       "    </tr>\n",
       "    <tr>\n",
       "      <th>61</th>\n",
       "      <td>1362619</td>\n",
       "      <td>3905.040000</td>\n",
       "    </tr>\n",
       "    <tr>\n",
       "      <th>49</th>\n",
       "      <td>1362594</td>\n",
       "      <td>3092.602857</td>\n",
       "    </tr>\n",
       "    <tr>\n",
       "      <th>182</th>\n",
       "      <td>1362888</td>\n",
       "      <td>2981.025833</td>\n",
       "    </tr>\n",
       "  </tbody>\n",
       "</table>\n",
       "</div>"
      ],
      "text/plain": [
       "     cust_id  value_credit_deposit\n",
       "339  1363237           8735.140000\n",
       "115  1362737           4595.880000\n",
       "61   1362619           3905.040000\n",
       "49   1362594           3092.602857\n",
       "182  1362888           2981.025833"
      ]
     },
     "execution_count": 68,
     "metadata": {},
     "output_type": "execute_result"
    }
   ],
   "source": [
    "## feature: avg positive value credit tran (deposit?!)\n",
    "value_credit_deposit= credit_tran[credit_tran.tran_amt >0].groupby('cust_id').tran_amt.mean().reset_index()\n",
    "value_credit_deposit.columns= ['cust_id','value_credit_deposit']\n",
    "value_credit_deposit.sort_values('value_credit_deposit', ascending= False).head()"
   ]
  },
  {
   "cell_type": "code",
   "execution_count": 69,
   "id": "2d7c15bc",
   "metadata": {},
   "outputs": [
    {
     "data": {
      "image/png": "[encoded data removed]",
      "text/plain": [
       "<Figure size 432x288 with 1 Axes>"
      ]
     },
     "metadata": {
      "needs_background": "light"
     },
     "output_type": "display_data"
    }
   ],
   "source": [
    "sns.histplot(data= value_credit_deposit, x= 'value_credit_deposit');"
   ]
  },
  {
   "cell_type": "markdown",
   "id": "2f91b471",
   "metadata": {},
   "source": [
    "***create a dataframe of all features***"
   ]
  },
  {
   "cell_type": "code",
   "execution_count": 70,
   "id": "2504988c",
   "metadata": {},
   "outputs": [],
   "source": [
    "credit_tran_features= number_credit_tran.merge(number_credit_negative,how='outer').merge(number_credit_0,how='outer').merge(number_credit_positive,how='outer').merge(\n",
    "value_credit_tran, how='outer').merge(value_credit_spending,how='outer').merge(value_credit_deposit,how='outer')"
   ]
  },
  {
   "cell_type": "code",
   "execution_count": 71,
   "id": "1118791a",
   "metadata": {},
   "outputs": [
    {
     "data": {
      "text/plain": [
       "cust_id                    0\n",
       "number_credit_tran         0\n",
       "number_credit_negative    22\n",
       "number_credit_0           70\n",
       "number_credit_positive     7\n",
       "value_credit_tran          0\n",
       "value_credit_spending     22\n",
       "value_credit_deposit       7\n",
       "dtype: int64"
      ]
     },
     "execution_count": 71,
     "metadata": {},
     "output_type": "execute_result"
    }
   ],
   "source": [
    "credit_tran_features.isna().sum()"
   ]
  },
  {
   "cell_type": "code",
   "execution_count": 72,
   "id": "1aa00ca4",
   "metadata": {},
   "outputs": [],
   "source": [
    "credit_tran_features.fillna(0,inplace= True)"
   ]
  },
  {
   "cell_type": "markdown",
   "id": "a1b90706",
   "metadata": {},
   "source": [
    "### Saving account"
   ]
  },
  {
   "cell_type": "code",
   "execution_count": 73,
   "id": "e13b2604",
   "metadata": {},
   "outputs": [
    {
     "data": {
      "text/html": [
       "<div>\n",
       "<style scoped>\n",
       "    .dataframe tbody tr th:only-of-type {\n",
       "        vertical-align: middle;\n",
       "    }\n",
       "\n",
       "    .dataframe tbody tr th {\n",
       "        vertical-align: top;\n",
       "    }\n",
       "\n",
       "    .dataframe thead th {\n",
       "        text-align: right;\n",
       "    }\n",
       "</style>\n",
       "<table border=\"1\" class=\"dataframe\">\n",
       "  <thead>\n",
       "    <tr style=\"text-align: right;\">\n",
       "      <th></th>\n",
       "      <th>cust_id</th>\n",
       "      <th>acct_nbr</th>\n",
       "      <th>minimum_balance</th>\n",
       "      <th>acct_type</th>\n",
       "      <th>account_active</th>\n",
       "      <th>acct_start_date</th>\n",
       "      <th>acct_end_date</th>\n",
       "      <th>starting_balance</th>\n",
       "      <th>ending_balance</th>\n",
       "    </tr>\n",
       "  </thead>\n",
       "  <tbody>\n",
       "    <tr>\n",
       "      <th>0</th>\n",
       "      <td>1363160</td>\n",
       "      <td>13631603</td>\n",
       "      <td>100</td>\n",
       "      <td>BS</td>\n",
       "      <td>Y</td>\n",
       "      <td>9.5.1988</td>\n",
       "      <td>NaN</td>\n",
       "      <td>113.04</td>\n",
       "      <td>122.54</td>\n",
       "    </tr>\n",
       "    <tr>\n",
       "      <th>1</th>\n",
       "      <td>1362487</td>\n",
       "      <td>13624873</td>\n",
       "      <td>500</td>\n",
       "      <td>MM</td>\n",
       "      <td>N</td>\n",
       "      <td>27.6.1994</td>\n",
       "      <td>25.8.1995</td>\n",
       "      <td>651.73</td>\n",
       "      <td>12.89</td>\n",
       "    </tr>\n",
       "    <tr>\n",
       "      <th>2</th>\n",
       "      <td>1362548</td>\n",
       "      <td>13625483</td>\n",
       "      <td>100</td>\n",
       "      <td>BS</td>\n",
       "      <td>Y</td>\n",
       "      <td>11.11.1986</td>\n",
       "      <td>NaN</td>\n",
       "      <td>250.24</td>\n",
       "      <td>254.02</td>\n",
       "    </tr>\n",
       "    <tr>\n",
       "      <th>3</th>\n",
       "      <td>1362752</td>\n",
       "      <td>13627523</td>\n",
       "      <td>100</td>\n",
       "      <td>BS</td>\n",
       "      <td>Y</td>\n",
       "      <td>20.2.1995</td>\n",
       "      <td>NaN</td>\n",
       "      <td>600.26</td>\n",
       "      <td>609.33</td>\n",
       "    </tr>\n",
       "    <tr>\n",
       "      <th>4</th>\n",
       "      <td>1363017</td>\n",
       "      <td>13630173</td>\n",
       "      <td>100</td>\n",
       "      <td>BS</td>\n",
       "      <td>N</td>\n",
       "      <td>27.4.1994</td>\n",
       "      <td>31.10.1995</td>\n",
       "      <td>2011.02</td>\n",
       "      <td>2901.35</td>\n",
       "    </tr>\n",
       "  </tbody>\n",
       "</table>\n",
       "</div>"
      ],
      "text/plain": [
       "   cust_id  acct_nbr  minimum_balance acct_type account_active  \\\n",
       "0  1363160  13631603              100      BS               Y    \n",
       "1  1362487  13624873              500      MM               N    \n",
       "2  1362548  13625483              100      BS               Y    \n",
       "3  1362752  13627523              100      BS               Y    \n",
       "4  1363017  13630173              100      BS               N    \n",
       "\n",
       "  acct_start_date acct_end_date  starting_balance  ending_balance  \n",
       "0        9.5.1988           NaN            113.04          122.54  \n",
       "1       27.6.1994     25.8.1995            651.73           12.89  \n",
       "2      11.11.1986           NaN            250.24          254.02  \n",
       "3       20.2.1995           NaN            600.26          609.33  \n",
       "4       27.4.1994    31.10.1995           2011.02         2901.35  "
      ]
     },
     "execution_count": 73,
     "metadata": {},
     "output_type": "execute_result"
    }
   ],
   "source": [
    "saving_account= pd.read_csv('mini-project-III/twm_savings_acct.csv',sep=\";\")\n",
    "saving_account.head()"
   ]
  },
  {
   "cell_type": "markdown",
   "id": "41dd787e",
   "metadata": {},
   "source": [
    "***understand data***"
   ]
  },
  {
   "cell_type": "code",
   "execution_count": 74,
   "id": "7649837c",
   "metadata": {},
   "outputs": [
    {
     "data": {
      "text/plain": [
       "Y     375\n",
       "N      46\n",
       "Name: account_active, dtype: int64"
      ]
     },
     "execution_count": 74,
     "metadata": {},
     "output_type": "execute_result"
    }
   ],
   "source": [
    "saving_account.account_active.value_counts()"
   ]
  },
  {
   "cell_type": "code",
   "execution_count": 75,
   "id": "be1592e4",
   "metadata": {},
   "outputs": [
    {
     "data": {
      "text/html": [
       "<div>\n",
       "<style scoped>\n",
       "    .dataframe tbody tr th:only-of-type {\n",
       "        vertical-align: middle;\n",
       "    }\n",
       "\n",
       "    .dataframe tbody tr th {\n",
       "        vertical-align: top;\n",
       "    }\n",
       "\n",
       "    .dataframe thead th {\n",
       "        text-align: right;\n",
       "    }\n",
       "</style>\n",
       "<table border=\"1\" class=\"dataframe\">\n",
       "  <thead>\n",
       "    <tr style=\"text-align: right;\">\n",
       "      <th></th>\n",
       "      <th>cust_id</th>\n",
       "      <th>acct_nbr</th>\n",
       "      <th>minimum_balance</th>\n",
       "      <th>starting_balance</th>\n",
       "      <th>ending_balance</th>\n",
       "    </tr>\n",
       "  </thead>\n",
       "  <tbody>\n",
       "    <tr>\n",
       "      <th>count</th>\n",
       "      <td>421.0</td>\n",
       "      <td>421.0</td>\n",
       "      <td>421.0</td>\n",
       "      <td>421.0</td>\n",
       "      <td>421.0</td>\n",
       "    </tr>\n",
       "    <tr>\n",
       "      <th>mean</th>\n",
       "      <td>1362987.0</td>\n",
       "      <td>13629876.0</td>\n",
       "      <td>194.0</td>\n",
       "      <td>874.0</td>\n",
       "      <td>1258.0</td>\n",
       "    </tr>\n",
       "    <tr>\n",
       "      <th>std</th>\n",
       "      <td>295.0</td>\n",
       "      <td>2952.0</td>\n",
       "      <td>170.0</td>\n",
       "      <td>1704.0</td>\n",
       "      <td>2055.0</td>\n",
       "    </tr>\n",
       "    <tr>\n",
       "      <th>min</th>\n",
       "      <td>1362480.0</td>\n",
       "      <td>13624803.0</td>\n",
       "      <td>100.0</td>\n",
       "      <td>100.0</td>\n",
       "      <td>3.0</td>\n",
       "    </tr>\n",
       "    <tr>\n",
       "      <th>25%</th>\n",
       "      <td>1362722.0</td>\n",
       "      <td>13627223.0</td>\n",
       "      <td>100.0</td>\n",
       "      <td>180.0</td>\n",
       "      <td>254.0</td>\n",
       "    </tr>\n",
       "    <tr>\n",
       "      <th>50%</th>\n",
       "      <td>1362980.0</td>\n",
       "      <td>13629803.0</td>\n",
       "      <td>100.0</td>\n",
       "      <td>311.0</td>\n",
       "      <td>619.0</td>\n",
       "    </tr>\n",
       "    <tr>\n",
       "      <th>75%</th>\n",
       "      <td>1363253.0</td>\n",
       "      <td>13632533.0</td>\n",
       "      <td>100.0</td>\n",
       "      <td>742.0</td>\n",
       "      <td>1536.0</td>\n",
       "    </tr>\n",
       "    <tr>\n",
       "      <th>max</th>\n",
       "      <td>1363495.0</td>\n",
       "      <td>13634953.0</td>\n",
       "      <td>500.0</td>\n",
       "      <td>17303.0</td>\n",
       "      <td>22433.0</td>\n",
       "    </tr>\n",
       "  </tbody>\n",
       "</table>\n",
       "</div>"
      ],
      "text/plain": [
       "         cust_id    acct_nbr  minimum_balance  starting_balance  \\\n",
       "count      421.0       421.0            421.0             421.0   \n",
       "mean   1362987.0  13629876.0            194.0             874.0   \n",
       "std        295.0      2952.0            170.0            1704.0   \n",
       "min    1362480.0  13624803.0            100.0             100.0   \n",
       "25%    1362722.0  13627223.0            100.0             180.0   \n",
       "50%    1362980.0  13629803.0            100.0             311.0   \n",
       "75%    1363253.0  13632533.0            100.0             742.0   \n",
       "max    1363495.0  13634953.0            500.0           17303.0   \n",
       "\n",
       "       ending_balance  \n",
       "count           421.0  \n",
       "mean           1258.0  \n",
       "std            2055.0  \n",
       "min               3.0  \n",
       "25%             254.0  \n",
       "50%             619.0  \n",
       "75%            1536.0  \n",
       "max           22433.0  "
      ]
     },
     "execution_count": 75,
     "metadata": {},
     "output_type": "execute_result"
    }
   ],
   "source": [
    "saving_account.describe().round()"
   ]
  },
  {
   "cell_type": "code",
   "execution_count": 76,
   "id": "82538edf",
   "metadata": {},
   "outputs": [],
   "source": [
    "saving_account_features= saving_account[['cust_id','account_active','starting_balance','ending_balance']]\n",
    "saving_account_features.columns= ['cust_id', 'saving_account_active','saving_starting_balance','saving_ending_balance']"
   ]
  },
  {
   "cell_type": "code",
   "execution_count": 77,
   "id": "bd6b182a",
   "metadata": {},
   "outputs": [
    {
     "data": {
      "text/html": [
       "<div>\n",
       "<style scoped>\n",
       "    .dataframe tbody tr th:only-of-type {\n",
       "        vertical-align: middle;\n",
       "    }\n",
       "\n",
       "    .dataframe tbody tr th {\n",
       "        vertical-align: top;\n",
       "    }\n",
       "\n",
       "    .dataframe thead th {\n",
       "        text-align: right;\n",
       "    }\n",
       "</style>\n",
       "<table border=\"1\" class=\"dataframe\">\n",
       "  <thead>\n",
       "    <tr style=\"text-align: right;\">\n",
       "      <th></th>\n",
       "      <th>cust_id</th>\n",
       "      <th>saving_account_active</th>\n",
       "      <th>saving_starting_balance</th>\n",
       "      <th>saving_ending_balance</th>\n",
       "    </tr>\n",
       "  </thead>\n",
       "  <tbody>\n",
       "    <tr>\n",
       "      <th>0</th>\n",
       "      <td>1363160</td>\n",
       "      <td>Y</td>\n",
       "      <td>113.04</td>\n",
       "      <td>122.54</td>\n",
       "    </tr>\n",
       "    <tr>\n",
       "      <th>1</th>\n",
       "      <td>1362487</td>\n",
       "      <td>N</td>\n",
       "      <td>651.73</td>\n",
       "      <td>12.89</td>\n",
       "    </tr>\n",
       "    <tr>\n",
       "      <th>2</th>\n",
       "      <td>1362548</td>\n",
       "      <td>Y</td>\n",
       "      <td>250.24</td>\n",
       "      <td>254.02</td>\n",
       "    </tr>\n",
       "    <tr>\n",
       "      <th>3</th>\n",
       "      <td>1362752</td>\n",
       "      <td>Y</td>\n",
       "      <td>600.26</td>\n",
       "      <td>609.33</td>\n",
       "    </tr>\n",
       "    <tr>\n",
       "      <th>4</th>\n",
       "      <td>1363017</td>\n",
       "      <td>N</td>\n",
       "      <td>2011.02</td>\n",
       "      <td>2901.35</td>\n",
       "    </tr>\n",
       "  </tbody>\n",
       "</table>\n",
       "</div>"
      ],
      "text/plain": [
       "   cust_id saving_account_active  saving_starting_balance  \\\n",
       "0  1363160                    Y                    113.04   \n",
       "1  1362487                    N                    651.73   \n",
       "2  1362548                    Y                    250.24   \n",
       "3  1362752                    Y                    600.26   \n",
       "4  1363017                    N                   2011.02   \n",
       "\n",
       "   saving_ending_balance  \n",
       "0                 122.54  \n",
       "1                  12.89  \n",
       "2                 254.02  \n",
       "3                 609.33  \n",
       "4                2901.35  "
      ]
     },
     "execution_count": 77,
     "metadata": {},
     "output_type": "execute_result"
    }
   ],
   "source": [
    "saving_account_features.head()"
   ]
  },
  {
   "cell_type": "markdown",
   "id": "2f147f8d",
   "metadata": {},
   "source": [
    "### Saving transaction"
   ]
  },
  {
   "cell_type": "code",
   "execution_count": 78,
   "id": "953eead9",
   "metadata": {},
   "outputs": [
    {
     "data": {
      "text/html": [
       "<div>\n",
       "<style scoped>\n",
       "    .dataframe tbody tr th:only-of-type {\n",
       "        vertical-align: middle;\n",
       "    }\n",
       "\n",
       "    .dataframe tbody tr th {\n",
       "        vertical-align: top;\n",
       "    }\n",
       "\n",
       "    .dataframe thead th {\n",
       "        text-align: right;\n",
       "    }\n",
       "</style>\n",
       "<table border=\"1\" class=\"dataframe\">\n",
       "  <thead>\n",
       "    <tr style=\"text-align: right;\">\n",
       "      <th></th>\n",
       "      <th>cust_id</th>\n",
       "      <th>tran_id</th>\n",
       "      <th>tran_amt</th>\n",
       "      <th>principal_amt</th>\n",
       "      <th>interest_amt</th>\n",
       "      <th>new_balance</th>\n",
       "      <th>tran_date</th>\n",
       "      <th>tran_time</th>\n",
       "      <th>channel</th>\n",
       "      <th>tran_code</th>\n",
       "    </tr>\n",
       "  </thead>\n",
       "  <tbody>\n",
       "    <tr>\n",
       "      <th>0</th>\n",
       "      <td>1363481</td>\n",
       "      <td>26</td>\n",
       "      <td>136.03</td>\n",
       "      <td>136.03</td>\n",
       "      <td>0.00</td>\n",
       "      <td>1521.57</td>\n",
       "      <td>26.10.1995</td>\n",
       "      <td>84111</td>\n",
       "      <td>A</td>\n",
       "      <td>DP</td>\n",
       "    </tr>\n",
       "    <tr>\n",
       "      <th>1</th>\n",
       "      <td>1362746</td>\n",
       "      <td>1</td>\n",
       "      <td>2.83</td>\n",
       "      <td>0.00</td>\n",
       "      <td>2.83</td>\n",
       "      <td>2265.90</td>\n",
       "      <td>31.1.1995</td>\n",
       "      <td>235959</td>\n",
       "      <td></td>\n",
       "      <td>IN</td>\n",
       "    </tr>\n",
       "    <tr>\n",
       "      <th>2</th>\n",
       "      <td>1363251</td>\n",
       "      <td>11</td>\n",
       "      <td>13.56</td>\n",
       "      <td>0.00</td>\n",
       "      <td>13.56</td>\n",
       "      <td>5438.90</td>\n",
       "      <td>30.4.1995</td>\n",
       "      <td>235959</td>\n",
       "      <td></td>\n",
       "      <td>IN</td>\n",
       "    </tr>\n",
       "    <tr>\n",
       "      <th>3</th>\n",
       "      <td>1362542</td>\n",
       "      <td>4</td>\n",
       "      <td>0.76</td>\n",
       "      <td>0.00</td>\n",
       "      <td>0.76</td>\n",
       "      <td>610.92</td>\n",
       "      <td>30.4.1995</td>\n",
       "      <td>235959</td>\n",
       "      <td></td>\n",
       "      <td>IN</td>\n",
       "    </tr>\n",
       "    <tr>\n",
       "      <th>4</th>\n",
       "      <td>1363387</td>\n",
       "      <td>11</td>\n",
       "      <td>148.69</td>\n",
       "      <td>148.69</td>\n",
       "      <td>0.00</td>\n",
       "      <td>470.05</td>\n",
       "      <td>21.5.1995</td>\n",
       "      <td>144736</td>\n",
       "      <td>E</td>\n",
       "      <td>DP</td>\n",
       "    </tr>\n",
       "  </tbody>\n",
       "</table>\n",
       "</div>"
      ],
      "text/plain": [
       "   cust_id  tran_id  tran_amt  principal_amt  interest_amt  new_balance  \\\n",
       "0  1363481       26    136.03         136.03          0.00      1521.57   \n",
       "1  1362746        1      2.83           0.00          2.83      2265.90   \n",
       "2  1363251       11     13.56           0.00         13.56      5438.90   \n",
       "3  1362542        4      0.76           0.00          0.76       610.92   \n",
       "4  1363387       11    148.69         148.69          0.00       470.05   \n",
       "\n",
       "    tran_date tran_time channel tran_code  \n",
       "0  26.10.1995     84111      A       DP    \n",
       "1   31.1.1995    235959              IN    \n",
       "2   30.4.1995    235959              IN    \n",
       "3   30.4.1995    235959              IN    \n",
       "4   21.5.1995    144736      E       DP    "
      ]
     },
     "execution_count": 78,
     "metadata": {},
     "output_type": "execute_result"
    }
   ],
   "source": [
    "saving_tran= pd.read_csv('mini-project-III/twm_savings_tran.csv',sep=\";\")\n",
    "saving_tran.head()"
   ]
  },
  {
   "cell_type": "markdown",
   "id": "d9ef0c10",
   "metadata": {},
   "source": [
    "***understanding data***"
   ]
  },
  {
   "cell_type": "code",
   "execution_count": 79,
   "id": "f0b56138",
   "metadata": {},
   "outputs": [
    {
     "data": {
      "text/html": [
       "<div>\n",
       "<style scoped>\n",
       "    .dataframe tbody tr th:only-of-type {\n",
       "        vertical-align: middle;\n",
       "    }\n",
       "\n",
       "    .dataframe tbody tr th {\n",
       "        vertical-align: top;\n",
       "    }\n",
       "\n",
       "    .dataframe thead th {\n",
       "        text-align: right;\n",
       "    }\n",
       "</style>\n",
       "<table border=\"1\" class=\"dataframe\">\n",
       "  <thead>\n",
       "    <tr style=\"text-align: right;\">\n",
       "      <th></th>\n",
       "      <th>cust_id</th>\n",
       "      <th>tran_id</th>\n",
       "      <th>tran_amt</th>\n",
       "      <th>principal_amt</th>\n",
       "      <th>interest_amt</th>\n",
       "      <th>new_balance</th>\n",
       "    </tr>\n",
       "  </thead>\n",
       "  <tbody>\n",
       "    <tr>\n",
       "      <th>count</th>\n",
       "      <td>11189.0</td>\n",
       "      <td>11189.0</td>\n",
       "      <td>11189.0</td>\n",
       "      <td>11189.0</td>\n",
       "      <td>11189.0</td>\n",
       "      <td>11189.0</td>\n",
       "    </tr>\n",
       "    <tr>\n",
       "      <th>mean</th>\n",
       "      <td>1362988.0</td>\n",
       "      <td>16.0</td>\n",
       "      <td>14.0</td>\n",
       "      <td>14.0</td>\n",
       "      <td>1.0</td>\n",
       "      <td>1229.0</td>\n",
       "    </tr>\n",
       "    <tr>\n",
       "      <th>std</th>\n",
       "      <td>298.0</td>\n",
       "      <td>11.0</td>\n",
       "      <td>222.0</td>\n",
       "      <td>222.0</td>\n",
       "      <td>3.0</td>\n",
       "      <td>2257.0</td>\n",
       "    </tr>\n",
       "    <tr>\n",
       "      <th>min</th>\n",
       "      <td>1362480.0</td>\n",
       "      <td>1.0</td>\n",
       "      <td>-2496.0</td>\n",
       "      <td>-2496.0</td>\n",
       "      <td>0.0</td>\n",
       "      <td>0.0</td>\n",
       "    </tr>\n",
       "    <tr>\n",
       "      <th>25%</th>\n",
       "      <td>1362720.0</td>\n",
       "      <td>7.0</td>\n",
       "      <td>-1.0</td>\n",
       "      <td>-1.0</td>\n",
       "      <td>0.0</td>\n",
       "      <td>238.0</td>\n",
       "    </tr>\n",
       "    <tr>\n",
       "      <th>50%</th>\n",
       "      <td>1362978.0</td>\n",
       "      <td>14.0</td>\n",
       "      <td>0.0</td>\n",
       "      <td>0.0</td>\n",
       "      <td>0.0</td>\n",
       "      <td>562.0</td>\n",
       "    </tr>\n",
       "    <tr>\n",
       "      <th>75%</th>\n",
       "      <td>1363262.0</td>\n",
       "      <td>23.0</td>\n",
       "      <td>7.0</td>\n",
       "      <td>0.0</td>\n",
       "      <td>0.0</td>\n",
       "      <td>1247.0</td>\n",
       "    </tr>\n",
       "    <tr>\n",
       "      <th>max</th>\n",
       "      <td>1363495.0</td>\n",
       "      <td>62.0</td>\n",
       "      <td>4479.0</td>\n",
       "      <td>4479.0</td>\n",
       "      <td>45.0</td>\n",
       "      <td>26017.0</td>\n",
       "    </tr>\n",
       "  </tbody>\n",
       "</table>\n",
       "</div>"
      ],
      "text/plain": [
       "         cust_id  tran_id  tran_amt  principal_amt  interest_amt  new_balance\n",
       "count    11189.0  11189.0   11189.0        11189.0       11189.0      11189.0\n",
       "mean   1362988.0     16.0      14.0           14.0           1.0       1229.0\n",
       "std        298.0     11.0     222.0          222.0           3.0       2257.0\n",
       "min    1362480.0      1.0   -2496.0        -2496.0           0.0          0.0\n",
       "25%    1362720.0      7.0      -1.0           -1.0           0.0        238.0\n",
       "50%    1362978.0     14.0       0.0            0.0           0.0        562.0\n",
       "75%    1363262.0     23.0       7.0            0.0           0.0       1247.0\n",
       "max    1363495.0     62.0    4479.0         4479.0          45.0      26017.0"
      ]
     },
     "execution_count": 79,
     "metadata": {},
     "output_type": "execute_result"
    }
   ],
   "source": [
    "saving_tran.describe().round()"
   ]
  },
  {
   "cell_type": "markdown",
   "id": "66502590",
   "metadata": {},
   "source": [
    "***feature***"
   ]
  },
  {
   "cell_type": "code",
   "execution_count": 80,
   "id": "68ec3548",
   "metadata": {},
   "outputs": [
    {
     "data": {
      "text/html": [
       "<div>\n",
       "<style scoped>\n",
       "    .dataframe tbody tr th:only-of-type {\n",
       "        vertical-align: middle;\n",
       "    }\n",
       "\n",
       "    .dataframe tbody tr th {\n",
       "        vertical-align: top;\n",
       "    }\n",
       "\n",
       "    .dataframe thead th {\n",
       "        text-align: right;\n",
       "    }\n",
       "</style>\n",
       "<table border=\"1\" class=\"dataframe\">\n",
       "  <thead>\n",
       "    <tr style=\"text-align: right;\">\n",
       "      <th></th>\n",
       "      <th>cust_id</th>\n",
       "      <th>number_saving_tran</th>\n",
       "    </tr>\n",
       "  </thead>\n",
       "  <tbody>\n",
       "    <tr>\n",
       "      <th>0</th>\n",
       "      <td>1362480</td>\n",
       "      <td>26</td>\n",
       "    </tr>\n",
       "    <tr>\n",
       "      <th>1</th>\n",
       "      <td>1362484</td>\n",
       "      <td>33</td>\n",
       "    </tr>\n",
       "    <tr>\n",
       "      <th>2</th>\n",
       "      <td>1362486</td>\n",
       "      <td>25</td>\n",
       "    </tr>\n",
       "    <tr>\n",
       "      <th>3</th>\n",
       "      <td>1362487</td>\n",
       "      <td>19</td>\n",
       "    </tr>\n",
       "    <tr>\n",
       "      <th>4</th>\n",
       "      <td>1362489</td>\n",
       "      <td>22</td>\n",
       "    </tr>\n",
       "  </tbody>\n",
       "</table>\n",
       "</div>"
      ],
      "text/plain": [
       "   cust_id  number_saving_tran\n",
       "0  1362480                  26\n",
       "1  1362484                  33\n",
       "2  1362486                  25\n",
       "3  1362487                  19\n",
       "4  1362489                  22"
      ]
     },
     "execution_count": 80,
     "metadata": {},
     "output_type": "execute_result"
    }
   ],
   "source": [
    "## feature: number of saving transaction (spending + deposit)\n",
    "number_saving_tran= saving_tran.groupby('cust_id').tran_id.count().reset_index()\n",
    "number_saving_tran.columns= ['cust_id','number_saving_tran']\n",
    "number_saving_tran.head()"
   ]
  },
  {
   "cell_type": "code",
   "execution_count": 81,
   "id": "c37da8a2",
   "metadata": {},
   "outputs": [
    {
     "data": {
      "image/png": "[encoded data removed]",
      "text/plain": [
       "<Figure size 432x288 with 1 Axes>"
      ]
     },
     "metadata": {
      "needs_background": "light"
     },
     "output_type": "display_data"
    }
   ],
   "source": [
    "sns.histplot(data= number_saving_tran, x= 'number_saving_tran');"
   ]
  },
  {
   "cell_type": "code",
   "execution_count": 82,
   "id": "671d4c65",
   "metadata": {},
   "outputs": [
    {
     "data": {
      "text/html": [
       "<div>\n",
       "<style scoped>\n",
       "    .dataframe tbody tr th:only-of-type {\n",
       "        vertical-align: middle;\n",
       "    }\n",
       "\n",
       "    .dataframe tbody tr th {\n",
       "        vertical-align: top;\n",
       "    }\n",
       "\n",
       "    .dataframe thead th {\n",
       "        text-align: right;\n",
       "    }\n",
       "</style>\n",
       "<table border=\"1\" class=\"dataframe\">\n",
       "  <thead>\n",
       "    <tr style=\"text-align: right;\">\n",
       "      <th></th>\n",
       "      <th>cust_id</th>\n",
       "      <th>number_withdrawing_saving</th>\n",
       "    </tr>\n",
       "  </thead>\n",
       "  <tbody>\n",
       "    <tr>\n",
       "      <th>0</th>\n",
       "      <td>1362480</td>\n",
       "      <td>4</td>\n",
       "    </tr>\n",
       "    <tr>\n",
       "      <th>1</th>\n",
       "      <td>1362484</td>\n",
       "      <td>4</td>\n",
       "    </tr>\n",
       "    <tr>\n",
       "      <th>2</th>\n",
       "      <td>1362486</td>\n",
       "      <td>9</td>\n",
       "    </tr>\n",
       "    <tr>\n",
       "      <th>3</th>\n",
       "      <td>1362487</td>\n",
       "      <td>7</td>\n",
       "    </tr>\n",
       "    <tr>\n",
       "      <th>4</th>\n",
       "      <td>1362489</td>\n",
       "      <td>4</td>\n",
       "    </tr>\n",
       "  </tbody>\n",
       "</table>\n",
       "</div>"
      ],
      "text/plain": [
       "   cust_id  number_withdrawing_saving\n",
       "0  1362480                          4\n",
       "1  1362484                          4\n",
       "2  1362486                          9\n",
       "3  1362487                          7\n",
       "4  1362489                          4"
      ]
     },
     "execution_count": 82,
     "metadata": {},
     "output_type": "execute_result"
    }
   ],
   "source": [
    "## feature: number of saving transaction (withdrawing)\n",
    "number_withdrawing_saving= saving_tran[saving_tran.tran_amt<0].groupby('cust_id').tran_id.count().reset_index()\n",
    "number_withdrawing_saving.columns= ['cust_id','number_withdrawing_saving']\n",
    "number_withdrawing_saving.head()"
   ]
  },
  {
   "cell_type": "code",
   "execution_count": 83,
   "id": "aa341498",
   "metadata": {},
   "outputs": [
    {
     "data": {
      "image/png": "[encoded data removed]",
      "text/plain": [
       "<Figure size 432x288 with 1 Axes>"
      ]
     },
     "metadata": {
      "needs_background": "light"
     },
     "output_type": "display_data"
    }
   ],
   "source": [
    "sns.histplot(data= number_withdrawing_saving, x= 'number_withdrawing_saving');"
   ]
  },
  {
   "cell_type": "code",
   "execution_count": 84,
   "id": "fe9c90ba",
   "metadata": {},
   "outputs": [
    {
     "data": {
      "text/html": [
       "<div>\n",
       "<style scoped>\n",
       "    .dataframe tbody tr th:only-of-type {\n",
       "        vertical-align: middle;\n",
       "    }\n",
       "\n",
       "    .dataframe tbody tr th {\n",
       "        vertical-align: top;\n",
       "    }\n",
       "\n",
       "    .dataframe thead th {\n",
       "        text-align: right;\n",
       "    }\n",
       "</style>\n",
       "<table border=\"1\" class=\"dataframe\">\n",
       "  <thead>\n",
       "    <tr style=\"text-align: right;\">\n",
       "      <th></th>\n",
       "      <th>cust_id</th>\n",
       "      <th>number_deposit_saving</th>\n",
       "    </tr>\n",
       "  </thead>\n",
       "  <tbody>\n",
       "    <tr>\n",
       "      <th>0</th>\n",
       "      <td>1362480</td>\n",
       "      <td>18</td>\n",
       "    </tr>\n",
       "    <tr>\n",
       "      <th>1</th>\n",
       "      <td>1362484</td>\n",
       "      <td>29</td>\n",
       "    </tr>\n",
       "    <tr>\n",
       "      <th>2</th>\n",
       "      <td>1362486</td>\n",
       "      <td>16</td>\n",
       "    </tr>\n",
       "    <tr>\n",
       "      <th>3</th>\n",
       "      <td>1362487</td>\n",
       "      <td>8</td>\n",
       "    </tr>\n",
       "    <tr>\n",
       "      <th>4</th>\n",
       "      <td>1362489</td>\n",
       "      <td>15</td>\n",
       "    </tr>\n",
       "  </tbody>\n",
       "</table>\n",
       "</div>"
      ],
      "text/plain": [
       "   cust_id  number_deposit_saving\n",
       "0  1362480                     18\n",
       "1  1362484                     29\n",
       "2  1362486                     16\n",
       "3  1362487                      8\n",
       "4  1362489                     15"
      ]
     },
     "execution_count": 84,
     "metadata": {},
     "output_type": "execute_result"
    }
   ],
   "source": [
    "## feature: number of saving transaction (deposit)\n",
    "number_deposit_saving= saving_tran[saving_tran.tran_amt>0].groupby('cust_id').tran_id.count().reset_index()\n",
    "number_deposit_saving.columns= ['cust_id','number_deposit_saving']\n",
    "number_deposit_saving.head()"
   ]
  },
  {
   "cell_type": "code",
   "execution_count": 85,
   "id": "dd0c582d",
   "metadata": {},
   "outputs": [
    {
     "data": {
      "image/png": "[encoded data removed]",
      "text/plain": [
       "<Figure size 432x288 with 1 Axes>"
      ]
     },
     "metadata": {
      "needs_background": "light"
     },
     "output_type": "display_data"
    }
   ],
   "source": [
    "sns.histplot(data= number_deposit_saving, x= 'number_deposit_saving');"
   ]
  },
  {
   "cell_type": "code",
   "execution_count": 86,
   "id": "70063b55",
   "metadata": {},
   "outputs": [
    {
     "data": {
      "text/html": [
       "<div>\n",
       "<style scoped>\n",
       "    .dataframe tbody tr th:only-of-type {\n",
       "        vertical-align: middle;\n",
       "    }\n",
       "\n",
       "    .dataframe tbody tr th {\n",
       "        vertical-align: top;\n",
       "    }\n",
       "\n",
       "    .dataframe thead th {\n",
       "        text-align: right;\n",
       "    }\n",
       "</style>\n",
       "<table border=\"1\" class=\"dataframe\">\n",
       "  <thead>\n",
       "    <tr style=\"text-align: right;\">\n",
       "      <th></th>\n",
       "      <th>cust_id</th>\n",
       "      <th>value_saving_tran</th>\n",
       "    </tr>\n",
       "  </thead>\n",
       "  <tbody>\n",
       "    <tr>\n",
       "      <th>0</th>\n",
       "      <td>1362480</td>\n",
       "      <td>18.550769</td>\n",
       "    </tr>\n",
       "    <tr>\n",
       "      <th>1</th>\n",
       "      <td>1362484</td>\n",
       "      <td>58.474545</td>\n",
       "    </tr>\n",
       "    <tr>\n",
       "      <th>2</th>\n",
       "      <td>1362486</td>\n",
       "      <td>-6.729600</td>\n",
       "    </tr>\n",
       "    <tr>\n",
       "      <th>3</th>\n",
       "      <td>1362487</td>\n",
       "      <td>-33.623158</td>\n",
       "    </tr>\n",
       "    <tr>\n",
       "      <th>4</th>\n",
       "      <td>1362489</td>\n",
       "      <td>-17.572273</td>\n",
       "    </tr>\n",
       "  </tbody>\n",
       "</table>\n",
       "</div>"
      ],
      "text/plain": [
       "   cust_id  value_saving_tran\n",
       "0  1362480          18.550769\n",
       "1  1362484          58.474545\n",
       "2  1362486          -6.729600\n",
       "3  1362487         -33.623158\n",
       "4  1362489         -17.572273"
      ]
     },
     "execution_count": 86,
     "metadata": {},
     "output_type": "execute_result"
    }
   ],
   "source": [
    "## feature: avg value of of saving transaction (spending + deposit)\n",
    "value_saving_tran= saving_tran.groupby('cust_id').tran_amt.mean().reset_index()\n",
    "value_saving_tran.columns= ['cust_id','value_saving_tran']\n",
    "value_saving_tran.head()"
   ]
  },
  {
   "cell_type": "code",
   "execution_count": 87,
   "id": "d52218a3",
   "metadata": {},
   "outputs": [
    {
     "data": {
      "image/png": "[encoded data removed]",
      "text/plain": [
       "<Figure size 432x288 with 1 Axes>"
      ]
     },
     "metadata": {
      "needs_background": "light"
     },
     "output_type": "display_data"
    }
   ],
   "source": [
    "sns.histplot(data= value_saving_tran, x= 'value_saving_tran');"
   ]
  },
  {
   "cell_type": "code",
   "execution_count": 88,
   "id": "b7d61991",
   "metadata": {},
   "outputs": [
    {
     "data": {
      "text/html": [
       "<div>\n",
       "<style scoped>\n",
       "    .dataframe tbody tr th:only-of-type {\n",
       "        vertical-align: middle;\n",
       "    }\n",
       "\n",
       "    .dataframe tbody tr th {\n",
       "        vertical-align: top;\n",
       "    }\n",
       "\n",
       "    .dataframe thead th {\n",
       "        text-align: right;\n",
       "    }\n",
       "</style>\n",
       "<table border=\"1\" class=\"dataframe\">\n",
       "  <thead>\n",
       "    <tr style=\"text-align: right;\">\n",
       "      <th></th>\n",
       "      <th>cust_id</th>\n",
       "      <th>value_withdrawing_saving</th>\n",
       "    </tr>\n",
       "  </thead>\n",
       "  <tbody>\n",
       "    <tr>\n",
       "      <th>0</th>\n",
       "      <td>1362480</td>\n",
       "      <td>-358.210000</td>\n",
       "    </tr>\n",
       "    <tr>\n",
       "      <th>1</th>\n",
       "      <td>1362484</td>\n",
       "      <td>-257.342500</td>\n",
       "    </tr>\n",
       "    <tr>\n",
       "      <th>2</th>\n",
       "      <td>1362486</td>\n",
       "      <td>-85.782222</td>\n",
       "    </tr>\n",
       "    <tr>\n",
       "      <th>3</th>\n",
       "      <td>1362487</td>\n",
       "      <td>-109.025714</td>\n",
       "    </tr>\n",
       "    <tr>\n",
       "      <th>4</th>\n",
       "      <td>1362489</td>\n",
       "      <td>-315.612500</td>\n",
       "    </tr>\n",
       "  </tbody>\n",
       "</table>\n",
       "</div>"
      ],
      "text/plain": [
       "   cust_id  value_withdrawing_saving\n",
       "0  1362480               -358.210000\n",
       "1  1362484               -257.342500\n",
       "2  1362486                -85.782222\n",
       "3  1362487               -109.025714\n",
       "4  1362489               -315.612500"
      ]
     },
     "execution_count": 88,
     "metadata": {},
     "output_type": "execute_result"
    }
   ],
   "source": [
    "## feature: avg value of of withdrawing transaction \n",
    "value_withdrawing_saving= saving_tran[saving_tran.tran_amt<0].groupby('cust_id').tran_amt.mean().reset_index()\n",
    "value_withdrawing_saving.columns= ['cust_id','value_withdrawing_saving']\n",
    "value_withdrawing_saving.head()"
   ]
  },
  {
   "cell_type": "code",
   "execution_count": 89,
   "id": "5b57c1d3",
   "metadata": {},
   "outputs": [],
   "source": [
    "value_withdrawing_saving.value_withdrawing_saving= abs(value_withdrawing_saving.value_withdrawing_saving)"
   ]
  },
  {
   "cell_type": "code",
   "execution_count": 90,
   "id": "7447e507",
   "metadata": {},
   "outputs": [
    {
     "data": {
      "image/png": "[encoded data removed]",
      "text/plain": [
       "<Figure size 432x288 with 1 Axes>"
      ]
     },
     "metadata": {
      "needs_background": "light"
     },
     "output_type": "display_data"
    }
   ],
   "source": [
    "sns.histplot(data= value_withdrawing_saving, x= 'value_withdrawing_saving');"
   ]
  },
  {
   "cell_type": "code",
   "execution_count": 91,
   "id": "549e71b8",
   "metadata": {},
   "outputs": [
    {
     "data": {
      "text/html": [
       "<div>\n",
       "<style scoped>\n",
       "    .dataframe tbody tr th:only-of-type {\n",
       "        vertical-align: middle;\n",
       "    }\n",
       "\n",
       "    .dataframe tbody tr th {\n",
       "        vertical-align: top;\n",
       "    }\n",
       "\n",
       "    .dataframe thead th {\n",
       "        text-align: right;\n",
       "    }\n",
       "</style>\n",
       "<table border=\"1\" class=\"dataframe\">\n",
       "  <thead>\n",
       "    <tr style=\"text-align: right;\">\n",
       "      <th></th>\n",
       "      <th>cust_id</th>\n",
       "      <th>value_deposit_saving</th>\n",
       "    </tr>\n",
       "  </thead>\n",
       "  <tbody>\n",
       "    <tr>\n",
       "      <th>0</th>\n",
       "      <td>1362480</td>\n",
       "      <td>106.397778</td>\n",
       "    </tr>\n",
       "    <tr>\n",
       "      <th>1</th>\n",
       "      <td>1362484</td>\n",
       "      <td>102.035517</td>\n",
       "    </tr>\n",
       "    <tr>\n",
       "      <th>2</th>\n",
       "      <td>1362486</td>\n",
       "      <td>37.737500</td>\n",
       "    </tr>\n",
       "    <tr>\n",
       "      <th>3</th>\n",
       "      <td>1362487</td>\n",
       "      <td>15.542500</td>\n",
       "    </tr>\n",
       "    <tr>\n",
       "      <th>4</th>\n",
       "      <td>1362489</td>\n",
       "      <td>58.390667</td>\n",
       "    </tr>\n",
       "  </tbody>\n",
       "</table>\n",
       "</div>"
      ],
      "text/plain": [
       "   cust_id  value_deposit_saving\n",
       "0  1362480            106.397778\n",
       "1  1362484            102.035517\n",
       "2  1362486             37.737500\n",
       "3  1362487             15.542500\n",
       "4  1362489             58.390667"
      ]
     },
     "execution_count": 91,
     "metadata": {},
     "output_type": "execute_result"
    }
   ],
   "source": [
    "## feature: avg value of of deposit transaction \n",
    "value_deposit_saving= saving_tran[saving_tran.tran_amt>0].groupby('cust_id').tran_amt.mean().reset_index()\n",
    "value_deposit_saving.columns= ['cust_id','value_deposit_saving']\n",
    "value_deposit_saving.head()"
   ]
  },
  {
   "cell_type": "code",
   "execution_count": 92,
   "id": "efeedc67",
   "metadata": {},
   "outputs": [
    {
     "data": {
      "image/png": "[encoded data removed]",
      "text/plain": [
       "<Figure size 432x288 with 1 Axes>"
      ]
     },
     "metadata": {
      "needs_background": "light"
     },
     "output_type": "display_data"
    }
   ],
   "source": [
    "sns.histplot(data= value_deposit_saving, x= 'value_deposit_saving');"
   ]
  },
  {
   "cell_type": "markdown",
   "id": "b638d47c",
   "metadata": {},
   "source": [
    "***combine features***"
   ]
  },
  {
   "cell_type": "code",
   "execution_count": 93,
   "id": "13e072dc",
   "metadata": {},
   "outputs": [],
   "source": [
    "saving_tran_features= number_saving_tran.merge(number_withdrawing_saving,how='outer').merge(number_deposit_saving,how='outer').merge(\n",
    "value_saving_tran,how='outer').merge(value_withdrawing_saving,how='outer').merge(value_deposit_saving,how='outer')"
   ]
  },
  {
   "cell_type": "code",
   "execution_count": 94,
   "id": "d8e0fea0",
   "metadata": {},
   "outputs": [
    {
     "data": {
      "text/plain": [
       "cust_id                       0\n",
       "number_saving_tran            0\n",
       "number_withdrawing_saving    77\n",
       "number_deposit_saving         0\n",
       "value_saving_tran             0\n",
       "value_withdrawing_saving     77\n",
       "value_deposit_saving          0\n",
       "dtype: int64"
      ]
     },
     "execution_count": 94,
     "metadata": {},
     "output_type": "execute_result"
    }
   ],
   "source": [
    "saving_tran_features.isna().sum()"
   ]
  },
  {
   "cell_type": "code",
   "execution_count": 95,
   "id": "b9c0468b",
   "metadata": {},
   "outputs": [],
   "source": [
    "saving_tran_features.fillna(0, inplace= True)"
   ]
  },
  {
   "cell_type": "markdown",
   "id": "130d2fba",
   "metadata": {},
   "source": [
    "### FINAL DATAFRAME"
   ]
  },
  {
   "cell_type": "code",
   "execution_count": 96,
   "id": "4659399e",
   "metadata": {},
   "outputs": [
    {
     "data": {
      "text/html": [
       "<div>\n",
       "<style scoped>\n",
       "    .dataframe tbody tr th:only-of-type {\n",
       "        vertical-align: middle;\n",
       "    }\n",
       "\n",
       "    .dataframe tbody tr th {\n",
       "        vertical-align: top;\n",
       "    }\n",
       "\n",
       "    .dataframe thead th {\n",
       "        text-align: right;\n",
       "    }\n",
       "</style>\n",
       "<table border=\"1\" class=\"dataframe\">\n",
       "  <thead>\n",
       "    <tr style=\"text-align: right;\">\n",
       "      <th></th>\n",
       "      <th>cust_id</th>\n",
       "      <th>no_of_account</th>\n",
       "      <th>no_active_account</th>\n",
       "      <th>no_nonactive_account</th>\n",
       "    </tr>\n",
       "  </thead>\n",
       "  <tbody>\n",
       "    <tr>\n",
       "      <th>0</th>\n",
       "      <td>1362480</td>\n",
       "      <td>3</td>\n",
       "      <td>2.0</td>\n",
       "      <td>1.0</td>\n",
       "    </tr>\n",
       "    <tr>\n",
       "      <th>1</th>\n",
       "      <td>1362484</td>\n",
       "      <td>3</td>\n",
       "      <td>3.0</td>\n",
       "      <td>0.0</td>\n",
       "    </tr>\n",
       "    <tr>\n",
       "      <th>2</th>\n",
       "      <td>1362485</td>\n",
       "      <td>2</td>\n",
       "      <td>2.0</td>\n",
       "      <td>0.0</td>\n",
       "    </tr>\n",
       "    <tr>\n",
       "      <th>3</th>\n",
       "      <td>1362486</td>\n",
       "      <td>2</td>\n",
       "      <td>2.0</td>\n",
       "      <td>0.0</td>\n",
       "    </tr>\n",
       "    <tr>\n",
       "      <th>4</th>\n",
       "      <td>1362487</td>\n",
       "      <td>3</td>\n",
       "      <td>2.0</td>\n",
       "      <td>1.0</td>\n",
       "    </tr>\n",
       "  </tbody>\n",
       "</table>\n",
       "</div>"
      ],
      "text/plain": [
       "   cust_id  no_of_account  no_active_account  no_nonactive_account\n",
       "0  1362480              3                2.0                   1.0\n",
       "1  1362484              3                3.0                   0.0\n",
       "2  1362485              2                2.0                   0.0\n",
       "3  1362486              2                2.0                   0.0\n",
       "4  1362487              3                2.0                   1.0"
      ]
     },
     "execution_count": 96,
     "metadata": {},
     "output_type": "execute_result"
    }
   ],
   "source": [
    "account_features.head()"
   ]
  },
  {
   "cell_type": "markdown",
   "id": "26c786cb",
   "metadata": {},
   "source": [
    "#### Checking"
   ]
  },
  {
   "cell_type": "code",
   "execution_count": 97,
   "id": "cf7ff609",
   "metadata": {},
   "outputs": [
    {
     "data": {
      "text/html": [
       "<div>\n",
       "<style scoped>\n",
       "    .dataframe tbody tr th:only-of-type {\n",
       "        vertical-align: middle;\n",
       "    }\n",
       "\n",
       "    .dataframe tbody tr th {\n",
       "        vertical-align: top;\n",
       "    }\n",
       "\n",
       "    .dataframe thead th {\n",
       "        text-align: right;\n",
       "    }\n",
       "</style>\n",
       "<table border=\"1\" class=\"dataframe\">\n",
       "  <thead>\n",
       "    <tr style=\"text-align: right;\">\n",
       "      <th></th>\n",
       "      <th>cust_id</th>\n",
       "      <th>checking_account_active</th>\n",
       "      <th>checking_starting_balance</th>\n",
       "      <th>checking_ending_balance</th>\n",
       "    </tr>\n",
       "  </thead>\n",
       "  <tbody>\n",
       "    <tr>\n",
       "      <th>0</th>\n",
       "      <td>1362548</td>\n",
       "      <td>Y</td>\n",
       "      <td>6004.34</td>\n",
       "      <td>569.65</td>\n",
       "    </tr>\n",
       "    <tr>\n",
       "      <th>1</th>\n",
       "      <td>1362487</td>\n",
       "      <td>Y</td>\n",
       "      <td>2781.07</td>\n",
       "      <td>1401.21</td>\n",
       "    </tr>\n",
       "    <tr>\n",
       "      <th>2</th>\n",
       "      <td>1363017</td>\n",
       "      <td>Y</td>\n",
       "      <td>2694.91</td>\n",
       "      <td>147.15</td>\n",
       "    </tr>\n",
       "    <tr>\n",
       "      <th>3</th>\n",
       "      <td>1362752</td>\n",
       "      <td>Y</td>\n",
       "      <td>487.69</td>\n",
       "      <td>3.76</td>\n",
       "    </tr>\n",
       "    <tr>\n",
       "      <th>4</th>\n",
       "      <td>1363282</td>\n",
       "      <td>Y</td>\n",
       "      <td>133.90</td>\n",
       "      <td>84.18</td>\n",
       "    </tr>\n",
       "  </tbody>\n",
       "</table>\n",
       "</div>"
      ],
      "text/plain": [
       "   cust_id checking_account_active  checking_starting_balance  \\\n",
       "0  1362548                      Y                     6004.34   \n",
       "1  1362487                      Y                     2781.07   \n",
       "2  1363017                      Y                     2694.91   \n",
       "3  1362752                      Y                      487.69   \n",
       "4  1363282                      Y                      133.90   \n",
       "\n",
       "   checking_ending_balance  \n",
       "0                   569.65  \n",
       "1                  1401.21  \n",
       "2                   147.15  \n",
       "3                     3.76  \n",
       "4                    84.18  "
      ]
     },
     "execution_count": 97,
     "metadata": {},
     "output_type": "execute_result"
    }
   ],
   "source": [
    "checking_account_features.head()\n",
    "## for checking account, starting and ending balance may not be important as number of transaction"
   ]
  },
  {
   "cell_type": "code",
   "execution_count": 98,
   "id": "f725fb7e",
   "metadata": {},
   "outputs": [
    {
     "data": {
      "text/html": [
       "<div>\n",
       "<style scoped>\n",
       "    .dataframe tbody tr th:only-of-type {\n",
       "        vertical-align: middle;\n",
       "    }\n",
       "\n",
       "    .dataframe tbody tr th {\n",
       "        vertical-align: top;\n",
       "    }\n",
       "\n",
       "    .dataframe thead th {\n",
       "        text-align: right;\n",
       "    }\n",
       "</style>\n",
       "<table border=\"1\" class=\"dataframe\">\n",
       "  <thead>\n",
       "    <tr style=\"text-align: right;\">\n",
       "      <th></th>\n",
       "      <th>cust_id</th>\n",
       "      <th>number_checking_tran</th>\n",
       "      <th>number_checking_spending</th>\n",
       "      <th>value_checking_tran</th>\n",
       "      <th>totalvalue_checking_tran</th>\n",
       "      <th>value_checking_spending</th>\n",
       "      <th>value_checking_deposit</th>\n",
       "    </tr>\n",
       "  </thead>\n",
       "  <tbody>\n",
       "    <tr>\n",
       "      <th>0</th>\n",
       "      <td>1362480</td>\n",
       "      <td>83</td>\n",
       "      <td>69</td>\n",
       "      <td>-2.951687</td>\n",
       "      <td>-244.99</td>\n",
       "      <td>102.566957</td>\n",
       "      <td>488.009286</td>\n",
       "    </tr>\n",
       "    <tr>\n",
       "      <th>1</th>\n",
       "      <td>1362484</td>\n",
       "      <td>85</td>\n",
       "      <td>72</td>\n",
       "      <td>-29.637882</td>\n",
       "      <td>-2519.22</td>\n",
       "      <td>71.081667</td>\n",
       "      <td>199.896923</td>\n",
       "    </tr>\n",
       "    <tr>\n",
       "      <th>2</th>\n",
       "      <td>1362485</td>\n",
       "      <td>83</td>\n",
       "      <td>67</td>\n",
       "      <td>-1.979398</td>\n",
       "      <td>-164.29</td>\n",
       "      <td>77.378060</td>\n",
       "      <td>313.752500</td>\n",
       "    </tr>\n",
       "    <tr>\n",
       "      <th>3</th>\n",
       "      <td>1362486</td>\n",
       "      <td>10</td>\n",
       "      <td>9</td>\n",
       "      <td>-99.522000</td>\n",
       "      <td>-995.22</td>\n",
       "      <td>112.306667</td>\n",
       "      <td>15.540000</td>\n",
       "    </tr>\n",
       "    <tr>\n",
       "      <th>4</th>\n",
       "      <td>1362487</td>\n",
       "      <td>34</td>\n",
       "      <td>32</td>\n",
       "      <td>-41.457353</td>\n",
       "      <td>-1409.55</td>\n",
       "      <td>72.242500</td>\n",
       "      <td>451.105000</td>\n",
       "    </tr>\n",
       "  </tbody>\n",
       "</table>\n",
       "</div>"
      ],
      "text/plain": [
       "   cust_id  number_checking_tran  number_checking_spending  \\\n",
       "0  1362480                    83                        69   \n",
       "1  1362484                    85                        72   \n",
       "2  1362485                    83                        67   \n",
       "3  1362486                    10                         9   \n",
       "4  1362487                    34                        32   \n",
       "\n",
       "   value_checking_tran  totalvalue_checking_tran  value_checking_spending  \\\n",
       "0            -2.951687                   -244.99               102.566957   \n",
       "1           -29.637882                  -2519.22                71.081667   \n",
       "2            -1.979398                   -164.29                77.378060   \n",
       "3           -99.522000                   -995.22               112.306667   \n",
       "4           -41.457353                  -1409.55                72.242500   \n",
       "\n",
       "   value_checking_deposit  \n",
       "0              488.009286  \n",
       "1              199.896923  \n",
       "2              313.752500  \n",
       "3               15.540000  \n",
       "4              451.105000  "
      ]
     },
     "execution_count": 98,
     "metadata": {},
     "output_type": "execute_result"
    }
   ],
   "source": [
    "checking_tran_features.head()\n",
    "# for checking trans: we only care about transaction made by customer, not the auto transaction by system (interest)"
   ]
  },
  {
   "cell_type": "code",
   "execution_count": 99,
   "id": "1f289429",
   "metadata": {},
   "outputs": [],
   "source": [
    "checking= checking_account_features.merge(checking_tran_features,how='outer')\n",
    "checking.fillna(0, inplace= True)"
   ]
  },
  {
   "cell_type": "code",
   "execution_count": 100,
   "id": "ee01b4f5",
   "metadata": {},
   "outputs": [
    {
     "data": {
      "text/html": [
       "<div>\n",
       "<style scoped>\n",
       "    .dataframe tbody tr th:only-of-type {\n",
       "        vertical-align: middle;\n",
       "    }\n",
       "\n",
       "    .dataframe tbody tr th {\n",
       "        vertical-align: top;\n",
       "    }\n",
       "\n",
       "    .dataframe thead th {\n",
       "        text-align: right;\n",
       "    }\n",
       "</style>\n",
       "<table border=\"1\" class=\"dataframe\">\n",
       "  <thead>\n",
       "    <tr style=\"text-align: right;\">\n",
       "      <th></th>\n",
       "      <th>cust_id</th>\n",
       "      <th>checking_starting_balance</th>\n",
       "      <th>checking_ending_balance</th>\n",
       "      <th>number_checking_tran</th>\n",
       "      <th>number_checking_spending</th>\n",
       "      <th>value_checking_tran</th>\n",
       "      <th>totalvalue_checking_tran</th>\n",
       "      <th>value_checking_spending</th>\n",
       "      <th>value_checking_deposit</th>\n",
       "      <th>checking_account_active_Y</th>\n",
       "    </tr>\n",
       "  </thead>\n",
       "  <tbody>\n",
       "    <tr>\n",
       "      <th>0</th>\n",
       "      <td>1362548</td>\n",
       "      <td>6004.34</td>\n",
       "      <td>569.65</td>\n",
       "      <td>78.0</td>\n",
       "      <td>63.0</td>\n",
       "      <td>-70.046795</td>\n",
       "      <td>-5463.65</td>\n",
       "      <td>176.604127</td>\n",
       "      <td>377.494000</td>\n",
       "      <td>1</td>\n",
       "    </tr>\n",
       "    <tr>\n",
       "      <th>1</th>\n",
       "      <td>1362487</td>\n",
       "      <td>2781.07</td>\n",
       "      <td>1401.21</td>\n",
       "      <td>34.0</td>\n",
       "      <td>32.0</td>\n",
       "      <td>-41.457353</td>\n",
       "      <td>-1409.55</td>\n",
       "      <td>72.242500</td>\n",
       "      <td>451.105000</td>\n",
       "      <td>1</td>\n",
       "    </tr>\n",
       "    <tr>\n",
       "      <th>2</th>\n",
       "      <td>1363017</td>\n",
       "      <td>2694.91</td>\n",
       "      <td>147.15</td>\n",
       "      <td>78.0</td>\n",
       "      <td>62.0</td>\n",
       "      <td>-32.673462</td>\n",
       "      <td>-2548.53</td>\n",
       "      <td>101.653548</td>\n",
       "      <td>234.624375</td>\n",
       "      <td>1</td>\n",
       "    </tr>\n",
       "    <tr>\n",
       "      <th>3</th>\n",
       "      <td>1362752</td>\n",
       "      <td>487.69</td>\n",
       "      <td>3.76</td>\n",
       "      <td>75.0</td>\n",
       "      <td>67.0</td>\n",
       "      <td>-6.452400</td>\n",
       "      <td>-483.93</td>\n",
       "      <td>93.810746</td>\n",
       "      <td>725.173750</td>\n",
       "      <td>1</td>\n",
       "    </tr>\n",
       "    <tr>\n",
       "      <th>4</th>\n",
       "      <td>1363282</td>\n",
       "      <td>133.90</td>\n",
       "      <td>84.18</td>\n",
       "      <td>76.0</td>\n",
       "      <td>62.0</td>\n",
       "      <td>-0.654211</td>\n",
       "      <td>-49.72</td>\n",
       "      <td>62.663710</td>\n",
       "      <td>273.959286</td>\n",
       "      <td>1</td>\n",
       "    </tr>\n",
       "  </tbody>\n",
       "</table>\n",
       "</div>"
      ],
      "text/plain": [
       "   cust_id  checking_starting_balance  checking_ending_balance  \\\n",
       "0  1362548                    6004.34                   569.65   \n",
       "1  1362487                    2781.07                  1401.21   \n",
       "2  1363017                    2694.91                   147.15   \n",
       "3  1362752                     487.69                     3.76   \n",
       "4  1363282                     133.90                    84.18   \n",
       "\n",
       "   number_checking_tran  number_checking_spending  value_checking_tran  \\\n",
       "0                  78.0                      63.0           -70.046795   \n",
       "1                  34.0                      32.0           -41.457353   \n",
       "2                  78.0                      62.0           -32.673462   \n",
       "3                  75.0                      67.0            -6.452400   \n",
       "4                  76.0                      62.0            -0.654211   \n",
       "\n",
       "   totalvalue_checking_tran  value_checking_spending  value_checking_deposit  \\\n",
       "0                  -5463.65               176.604127              377.494000   \n",
       "1                  -1409.55                72.242500              451.105000   \n",
       "2                  -2548.53               101.653548              234.624375   \n",
       "3                   -483.93                93.810746              725.173750   \n",
       "4                    -49.72                62.663710              273.959286   \n",
       "\n",
       "   checking_account_active_Y   \n",
       "0                           1  \n",
       "1                           1  \n",
       "2                           1  \n",
       "3                           1  \n",
       "4                           1  "
      ]
     },
     "execution_count": 100,
     "metadata": {},
     "output_type": "execute_result"
    }
   ],
   "source": [
    "checking= pd.get_dummies(data= checking, columns=['checking_account_active'],drop_first= True)\n",
    "checking.head()"
   ]
  },
  {
   "cell_type": "code",
   "execution_count": 101,
   "id": "fa6e99fd",
   "metadata": {},
   "outputs": [],
   "source": [
    "checking['number_checking_deposit']=checking['number_checking_tran']-checking['number_checking_spending']"
   ]
  },
  {
   "cell_type": "code",
   "execution_count": 102,
   "id": "63f5eea8",
   "metadata": {},
   "outputs": [
    {
     "data": {
      "image/png": "[encoded data removed]",
      "text/plain": [
       "<Figure size 720x432 with 2 Axes>"
      ]
     },
     "metadata": {
      "needs_background": "light"
     },
     "output_type": "display_data"
    }
   ],
   "source": [
    "plt.figure(figsize=(10,6))\n",
    "sns.heatmap(checking.iloc[:,1:].corr().round(3),\n",
    "            linewidths=0.5,cbar=True,cmap='YlGnBu',annot=True)\n",
    "plt.xticks(rotation=90)\n",
    "plt.show()\n",
    "# Checking_stating_balance vs checking_ending_balance: choose checking_ending_balance\n",
    "# number_checking_tran= number_checking_spending+ number_checking_deposit: choose number_checking_spending,number_checking_deposit\n",
    "# choose: value_checking_spending, value_checking_deposit"
   ]
  },
  {
   "cell_type": "markdown",
   "id": "44968345",
   "metadata": {},
   "source": [
    "### Credit"
   ]
  },
  {
   "cell_type": "code",
   "execution_count": 103,
   "id": "202e1fa9",
   "metadata": {},
   "outputs": [
    {
     "data": {
      "text/html": [
       "<div>\n",
       "<style scoped>\n",
       "    .dataframe tbody tr th:only-of-type {\n",
       "        vertical-align: middle;\n",
       "    }\n",
       "\n",
       "    .dataframe tbody tr th {\n",
       "        vertical-align: top;\n",
       "    }\n",
       "\n",
       "    .dataframe thead th {\n",
       "        text-align: right;\n",
       "    }\n",
       "</style>\n",
       "<table border=\"1\" class=\"dataframe\">\n",
       "  <thead>\n",
       "    <tr style=\"text-align: right;\">\n",
       "      <th></th>\n",
       "      <th>cust_id</th>\n",
       "      <th>credit_account_active</th>\n",
       "      <th>credit_starting_balance</th>\n",
       "      <th>credit_ending_balance</th>\n",
       "    </tr>\n",
       "  </thead>\n",
       "  <tbody>\n",
       "    <tr>\n",
       "      <th>0</th>\n",
       "      <td>1363160</td>\n",
       "      <td>Y</td>\n",
       "      <td>657.46</td>\n",
       "      <td>286.69</td>\n",
       "    </tr>\n",
       "    <tr>\n",
       "      <th>1</th>\n",
       "      <td>1362487</td>\n",
       "      <td>Y</td>\n",
       "      <td>0.00</td>\n",
       "      <td>1548.23</td>\n",
       "    </tr>\n",
       "    <tr>\n",
       "      <th>2</th>\n",
       "      <td>1362548</td>\n",
       "      <td>Y</td>\n",
       "      <td>6965.25</td>\n",
       "      <td>68.68</td>\n",
       "    </tr>\n",
       "    <tr>\n",
       "      <th>3</th>\n",
       "      <td>1362752</td>\n",
       "      <td>N</td>\n",
       "      <td>2302.14</td>\n",
       "      <td>0.00</td>\n",
       "    </tr>\n",
       "    <tr>\n",
       "      <th>4</th>\n",
       "      <td>1363017</td>\n",
       "      <td>Y</td>\n",
       "      <td>0.00</td>\n",
       "      <td>1000.00</td>\n",
       "    </tr>\n",
       "  </tbody>\n",
       "</table>\n",
       "</div>"
      ],
      "text/plain": [
       "   cust_id credit_account_active  credit_starting_balance  \\\n",
       "0  1363160                    Y                    657.46   \n",
       "1  1362487                    Y                      0.00   \n",
       "2  1362548                    Y                   6965.25   \n",
       "3  1362752                    N                   2302.14   \n",
       "4  1363017                    Y                      0.00   \n",
       "\n",
       "   credit_ending_balance  \n",
       "0                 286.69  \n",
       "1                1548.23  \n",
       "2                  68.68  \n",
       "3                   0.00  \n",
       "4                1000.00  "
      ]
     },
     "execution_count": 103,
     "metadata": {},
     "output_type": "execute_result"
    }
   ],
   "source": [
    "credit_account_features.head()"
   ]
  },
  {
   "cell_type": "code",
   "execution_count": 104,
   "id": "739c5092",
   "metadata": {},
   "outputs": [
    {
     "data": {
      "text/html": [
       "<div>\n",
       "<style scoped>\n",
       "    .dataframe tbody tr th:only-of-type {\n",
       "        vertical-align: middle;\n",
       "    }\n",
       "\n",
       "    .dataframe tbody tr th {\n",
       "        vertical-align: top;\n",
       "    }\n",
       "\n",
       "    .dataframe thead th {\n",
       "        text-align: right;\n",
       "    }\n",
       "</style>\n",
       "<table border=\"1\" class=\"dataframe\">\n",
       "  <thead>\n",
       "    <tr style=\"text-align: right;\">\n",
       "      <th></th>\n",
       "      <th>cust_id</th>\n",
       "      <th>number_credit_tran</th>\n",
       "      <th>number_credit_negative</th>\n",
       "      <th>number_credit_0</th>\n",
       "      <th>number_credit_positive</th>\n",
       "      <th>value_credit_tran</th>\n",
       "      <th>value_credit_spending</th>\n",
       "      <th>value_credit_deposit</th>\n",
       "    </tr>\n",
       "  </thead>\n",
       "  <tbody>\n",
       "    <tr>\n",
       "      <th>0</th>\n",
       "      <td>1362480</td>\n",
       "      <td>32</td>\n",
       "      <td>17.0</td>\n",
       "      <td>3.0</td>\n",
       "      <td>12.0</td>\n",
       "      <td>60.895625</td>\n",
       "      <td>191.321176</td>\n",
       "      <td>433.426667</td>\n",
       "    </tr>\n",
       "    <tr>\n",
       "      <th>1</th>\n",
       "      <td>1362484</td>\n",
       "      <td>55</td>\n",
       "      <td>39.0</td>\n",
       "      <td>4.0</td>\n",
       "      <td>12.0</td>\n",
       "      <td>16.797636</td>\n",
       "      <td>116.890513</td>\n",
       "      <td>456.883333</td>\n",
       "    </tr>\n",
       "    <tr>\n",
       "      <th>2</th>\n",
       "      <td>1362485</td>\n",
       "      <td>72</td>\n",
       "      <td>57.0</td>\n",
       "      <td>3.0</td>\n",
       "      <td>12.0</td>\n",
       "      <td>-10.572639</td>\n",
       "      <td>117.459474</td>\n",
       "      <td>494.496667</td>\n",
       "    </tr>\n",
       "    <tr>\n",
       "      <th>3</th>\n",
       "      <td>1362487</td>\n",
       "      <td>32</td>\n",
       "      <td>26.0</td>\n",
       "      <td>2.0</td>\n",
       "      <td>4.0</td>\n",
       "      <td>-47.987187</td>\n",
       "      <td>121.323077</td>\n",
       "      <td>404.702500</td>\n",
       "    </tr>\n",
       "    <tr>\n",
       "      <th>4</th>\n",
       "      <td>1362489</td>\n",
       "      <td>35</td>\n",
       "      <td>25.0</td>\n",
       "      <td>1.0</td>\n",
       "      <td>9.0</td>\n",
       "      <td>48.405143</td>\n",
       "      <td>244.068400</td>\n",
       "      <td>866.210000</td>\n",
       "    </tr>\n",
       "  </tbody>\n",
       "</table>\n",
       "</div>"
      ],
      "text/plain": [
       "   cust_id  number_credit_tran  number_credit_negative  number_credit_0  \\\n",
       "0  1362480                  32                    17.0              3.0   \n",
       "1  1362484                  55                    39.0              4.0   \n",
       "2  1362485                  72                    57.0              3.0   \n",
       "3  1362487                  32                    26.0              2.0   \n",
       "4  1362489                  35                    25.0              1.0   \n",
       "\n",
       "   number_credit_positive  value_credit_tran  value_credit_spending  \\\n",
       "0                    12.0          60.895625             191.321176   \n",
       "1                    12.0          16.797636             116.890513   \n",
       "2                    12.0         -10.572639             117.459474   \n",
       "3                     4.0         -47.987187             121.323077   \n",
       "4                     9.0          48.405143             244.068400   \n",
       "\n",
       "   value_credit_deposit  \n",
       "0            433.426667  \n",
       "1            456.883333  \n",
       "2            494.496667  \n",
       "3            404.702500  \n",
       "4            866.210000  "
      ]
     },
     "execution_count": 104,
     "metadata": {},
     "output_type": "execute_result"
    }
   ],
   "source": [
    "credit_tran_features.head()"
   ]
  },
  {
   "cell_type": "code",
   "execution_count": 105,
   "id": "7ffbb572",
   "metadata": {},
   "outputs": [
    {
     "data": {
      "text/plain": [
       "cust_id                     0\n",
       "credit_account_active       0\n",
       "credit_starting_balance     0\n",
       "credit_ending_balance       0\n",
       "number_credit_tran         11\n",
       "number_credit_negative     11\n",
       "number_credit_0            11\n",
       "number_credit_positive     11\n",
       "value_credit_tran          11\n",
       "value_credit_spending      11\n",
       "value_credit_deposit       11\n",
       "dtype: int64"
      ]
     },
     "execution_count": 105,
     "metadata": {},
     "output_type": "execute_result"
    }
   ],
   "source": [
    "credit= credit_account_features.merge(credit_tran_features,how='outer')\n",
    "credit.isna().sum()"
   ]
  },
  {
   "cell_type": "code",
   "execution_count": 106,
   "id": "f137de99",
   "metadata": {},
   "outputs": [],
   "source": [
    "credit.fillna(0, inplace= True)"
   ]
  },
  {
   "cell_type": "code",
   "execution_count": 107,
   "id": "8a3939ef",
   "metadata": {},
   "outputs": [],
   "source": [
    "credit= pd.get_dummies(data= credit, columns=['credit_account_active'],drop_first= True)"
   ]
  },
  {
   "cell_type": "code",
   "execution_count": 108,
   "id": "5535c84c",
   "metadata": {},
   "outputs": [
    {
     "data": {
      "image/png": "[encoded data removed]",
      "text/plain": [
       "<Figure size 720x432 with 2 Axes>"
      ]
     },
     "metadata": {
      "needs_background": "light"
     },
     "output_type": "display_data"
    }
   ],
   "source": [
    "plt.figure(figsize=(10,6))\n",
    "sns.heatmap(credit.iloc[:,1:].corr().round(3),\n",
    "            linewidths=0.5,cbar=True,cmap='YlGnBu',annot=True)\n",
    "plt.xticks(rotation=90)\n",
    "plt.show()\n",
    "# credit_stating_balance vs credit_ending_balance: keep both\n",
    "# choose: number_credit_negative & number_credit_positive (number_credit_0 transaction is hard to understand >> ignore)\n",
    "# choose: value_credit_spending & value_credit_deposit"
   ]
  },
  {
   "cell_type": "markdown",
   "id": "8791c57d",
   "metadata": {},
   "source": [
    "### Saving"
   ]
  },
  {
   "cell_type": "code",
   "execution_count": 109,
   "id": "f788caf4",
   "metadata": {},
   "outputs": [
    {
     "data": {
      "text/html": [
       "<div>\n",
       "<style scoped>\n",
       "    .dataframe tbody tr th:only-of-type {\n",
       "        vertical-align: middle;\n",
       "    }\n",
       "\n",
       "    .dataframe tbody tr th {\n",
       "        vertical-align: top;\n",
       "    }\n",
       "\n",
       "    .dataframe thead th {\n",
       "        text-align: right;\n",
       "    }\n",
       "</style>\n",
       "<table border=\"1\" class=\"dataframe\">\n",
       "  <thead>\n",
       "    <tr style=\"text-align: right;\">\n",
       "      <th></th>\n",
       "      <th>cust_id</th>\n",
       "      <th>saving_account_active</th>\n",
       "      <th>saving_starting_balance</th>\n",
       "      <th>saving_ending_balance</th>\n",
       "    </tr>\n",
       "  </thead>\n",
       "  <tbody>\n",
       "    <tr>\n",
       "      <th>0</th>\n",
       "      <td>1363160</td>\n",
       "      <td>Y</td>\n",
       "      <td>113.04</td>\n",
       "      <td>122.54</td>\n",
       "    </tr>\n",
       "    <tr>\n",
       "      <th>1</th>\n",
       "      <td>1362487</td>\n",
       "      <td>N</td>\n",
       "      <td>651.73</td>\n",
       "      <td>12.89</td>\n",
       "    </tr>\n",
       "    <tr>\n",
       "      <th>2</th>\n",
       "      <td>1362548</td>\n",
       "      <td>Y</td>\n",
       "      <td>250.24</td>\n",
       "      <td>254.02</td>\n",
       "    </tr>\n",
       "    <tr>\n",
       "      <th>3</th>\n",
       "      <td>1362752</td>\n",
       "      <td>Y</td>\n",
       "      <td>600.26</td>\n",
       "      <td>609.33</td>\n",
       "    </tr>\n",
       "    <tr>\n",
       "      <th>4</th>\n",
       "      <td>1363017</td>\n",
       "      <td>N</td>\n",
       "      <td>2011.02</td>\n",
       "      <td>2901.35</td>\n",
       "    </tr>\n",
       "  </tbody>\n",
       "</table>\n",
       "</div>"
      ],
      "text/plain": [
       "   cust_id saving_account_active  saving_starting_balance  \\\n",
       "0  1363160                    Y                    113.04   \n",
       "1  1362487                    N                    651.73   \n",
       "2  1362548                    Y                    250.24   \n",
       "3  1362752                    Y                    600.26   \n",
       "4  1363017                    N                   2011.02   \n",
       "\n",
       "   saving_ending_balance  \n",
       "0                 122.54  \n",
       "1                  12.89  \n",
       "2                 254.02  \n",
       "3                 609.33  \n",
       "4                2901.35  "
      ]
     },
     "execution_count": 109,
     "metadata": {},
     "output_type": "execute_result"
    }
   ],
   "source": [
    "saving_account_features.head()"
   ]
  },
  {
   "cell_type": "code",
   "execution_count": 110,
   "id": "ba2d5b6a",
   "metadata": {},
   "outputs": [
    {
     "data": {
      "text/html": [
       "<div>\n",
       "<style scoped>\n",
       "    .dataframe tbody tr th:only-of-type {\n",
       "        vertical-align: middle;\n",
       "    }\n",
       "\n",
       "    .dataframe tbody tr th {\n",
       "        vertical-align: top;\n",
       "    }\n",
       "\n",
       "    .dataframe thead th {\n",
       "        text-align: right;\n",
       "    }\n",
       "</style>\n",
       "<table border=\"1\" class=\"dataframe\">\n",
       "  <thead>\n",
       "    <tr style=\"text-align: right;\">\n",
       "      <th></th>\n",
       "      <th>cust_id</th>\n",
       "      <th>number_saving_tran</th>\n",
       "      <th>number_withdrawing_saving</th>\n",
       "      <th>number_deposit_saving</th>\n",
       "      <th>value_saving_tran</th>\n",
       "      <th>value_withdrawing_saving</th>\n",
       "      <th>value_deposit_saving</th>\n",
       "    </tr>\n",
       "  </thead>\n",
       "  <tbody>\n",
       "    <tr>\n",
       "      <th>0</th>\n",
       "      <td>1362480</td>\n",
       "      <td>26</td>\n",
       "      <td>4.0</td>\n",
       "      <td>18</td>\n",
       "      <td>18.550769</td>\n",
       "      <td>358.210000</td>\n",
       "      <td>106.397778</td>\n",
       "    </tr>\n",
       "    <tr>\n",
       "      <th>1</th>\n",
       "      <td>1362484</td>\n",
       "      <td>33</td>\n",
       "      <td>4.0</td>\n",
       "      <td>29</td>\n",
       "      <td>58.474545</td>\n",
       "      <td>257.342500</td>\n",
       "      <td>102.035517</td>\n",
       "    </tr>\n",
       "    <tr>\n",
       "      <th>2</th>\n",
       "      <td>1362486</td>\n",
       "      <td>25</td>\n",
       "      <td>9.0</td>\n",
       "      <td>16</td>\n",
       "      <td>-6.729600</td>\n",
       "      <td>85.782222</td>\n",
       "      <td>37.737500</td>\n",
       "    </tr>\n",
       "    <tr>\n",
       "      <th>3</th>\n",
       "      <td>1362487</td>\n",
       "      <td>19</td>\n",
       "      <td>7.0</td>\n",
       "      <td>8</td>\n",
       "      <td>-33.623158</td>\n",
       "      <td>109.025714</td>\n",
       "      <td>15.542500</td>\n",
       "    </tr>\n",
       "    <tr>\n",
       "      <th>4</th>\n",
       "      <td>1362489</td>\n",
       "      <td>22</td>\n",
       "      <td>4.0</td>\n",
       "      <td>15</td>\n",
       "      <td>-17.572273</td>\n",
       "      <td>315.612500</td>\n",
       "      <td>58.390667</td>\n",
       "    </tr>\n",
       "  </tbody>\n",
       "</table>\n",
       "</div>"
      ],
      "text/plain": [
       "   cust_id  number_saving_tran  number_withdrawing_saving  \\\n",
       "0  1362480                  26                        4.0   \n",
       "1  1362484                  33                        4.0   \n",
       "2  1362486                  25                        9.0   \n",
       "3  1362487                  19                        7.0   \n",
       "4  1362489                  22                        4.0   \n",
       "\n",
       "   number_deposit_saving  value_saving_tran  value_withdrawing_saving  \\\n",
       "0                     18          18.550769                358.210000   \n",
       "1                     29          58.474545                257.342500   \n",
       "2                     16          -6.729600                 85.782222   \n",
       "3                      8         -33.623158                109.025714   \n",
       "4                     15         -17.572273                315.612500   \n",
       "\n",
       "   value_deposit_saving  \n",
       "0            106.397778  \n",
       "1            102.035517  \n",
       "2             37.737500  \n",
       "3             15.542500  \n",
       "4             58.390667  "
      ]
     },
     "execution_count": 110,
     "metadata": {},
     "output_type": "execute_result"
    }
   ],
   "source": [
    "saving_tran_features.head()"
   ]
  },
  {
   "cell_type": "code",
   "execution_count": 111,
   "id": "d3481fc6",
   "metadata": {},
   "outputs": [
    {
     "data": {
      "text/plain": [
       "cust_id                      0\n",
       "saving_account_active        0\n",
       "saving_starting_balance      0\n",
       "saving_ending_balance        0\n",
       "number_saving_tran           1\n",
       "number_withdrawing_saving    1\n",
       "number_deposit_saving        1\n",
       "value_saving_tran            1\n",
       "value_withdrawing_saving     1\n",
       "value_deposit_saving         1\n",
       "dtype: int64"
      ]
     },
     "execution_count": 111,
     "metadata": {},
     "output_type": "execute_result"
    }
   ],
   "source": [
    "saving= saving_account_features.merge(saving_tran_features,how='outer')\n",
    "saving.isna().sum()"
   ]
  },
  {
   "cell_type": "code",
   "execution_count": 112,
   "id": "e5c99cb7",
   "metadata": {},
   "outputs": [],
   "source": [
    "saving.fillna(0, inplace=True)"
   ]
  },
  {
   "cell_type": "code",
   "execution_count": 113,
   "id": "769ef16c",
   "metadata": {},
   "outputs": [],
   "source": [
    "saving= pd.get_dummies(data= saving, columns=['saving_account_active'],drop_first= True)"
   ]
  },
  {
   "cell_type": "code",
   "execution_count": 114,
   "id": "f6c19fdb",
   "metadata": {},
   "outputs": [
    {
     "data": {
      "image/png": "[encoded data removed]",
      "text/plain": [
       "<Figure size 720x432 with 2 Axes>"
      ]
     },
     "metadata": {
      "needs_background": "light"
     },
     "output_type": "display_data"
    }
   ],
   "source": [
    "plt.figure(figsize=(10,6))\n",
    "sns.heatmap(saving.iloc[:,1:].corr().round(3),\n",
    "            linewidths=0.5,cbar=True,cmap='YlGnBu',annot=True)\n",
    "plt.xticks(rotation=90)\n",
    "plt.show()\n",
    "# saving_starting_balance vs saving_ending_balance: choose saving_ending_balance\n",
    "# choose number_deposit_saving & number_withdrawing_saving \n",
    "# choose value_withdrawing_saving & value_deposit_saving "
   ]
  },
  {
   "cell_type": "markdown",
   "id": "10ba05d8",
   "metadata": {},
   "source": [
    "### Final data"
   ]
  },
  {
   "cell_type": "code",
   "execution_count": 115,
   "id": "10dbcd44",
   "metadata": {},
   "outputs": [],
   "source": [
    "behavior= account_features.merge(checking, how='outer').merge(credit,how='outer').merge(saving,how='outer')"
   ]
  },
  {
   "cell_type": "code",
   "execution_count": 116,
   "id": "8f94dd87",
   "metadata": {},
   "outputs": [
    {
     "data": {
      "text/plain": [
       "cust_id                         0\n",
       "no_of_account                   0\n",
       "no_active_account               0\n",
       "no_nonactive_account            0\n",
       "checking_starting_balance     145\n",
       "checking_ending_balance       145\n",
       "number_checking_tran          145\n",
       "number_checking_spending      145\n",
       "value_checking_tran           145\n",
       "totalvalue_checking_tran      145\n",
       "value_checking_spending       145\n",
       "value_checking_deposit        145\n",
       "checking_account_active_Y     145\n",
       "number_checking_deposit       145\n",
       "credit_starting_balance       197\n",
       "credit_ending_balance         197\n",
       "number_credit_tran            197\n",
       "number_credit_negative        197\n",
       "number_credit_0               197\n",
       "number_credit_positive        197\n",
       "value_credit_tran             197\n",
       "value_credit_spending         197\n",
       "value_credit_deposit          197\n",
       "credit_account_active_Y       197\n",
       "saving_starting_balance       244\n",
       "saving_ending_balance         244\n",
       "number_saving_tran            244\n",
       "number_withdrawing_saving     244\n",
       "number_deposit_saving         244\n",
       "value_saving_tran             244\n",
       "value_withdrawing_saving      244\n",
       "value_deposit_saving          244\n",
       "saving_account_active_Y       244\n",
       "dtype: int64"
      ]
     },
     "execution_count": 116,
     "metadata": {},
     "output_type": "execute_result"
    }
   ],
   "source": [
    "behavior.isna().sum()"
   ]
  },
  {
   "cell_type": "code",
   "execution_count": 117,
   "id": "308f0e6e",
   "metadata": {},
   "outputs": [
    {
     "name": "stdout",
     "output_type": "stream",
     "text": [
      "(665, 4)\n",
      "(520, 11)\n",
      "(468, 11)\n",
      "(421, 10)\n"
     ]
    }
   ],
   "source": [
    "print(account_features.shape)\n",
    "print(checking.shape)\n",
    "print(credit.shape)\n",
    "print(saving.shape)\n",
    "# na value is customer without specific account"
   ]
  },
  {
   "cell_type": "code",
   "execution_count": 118,
   "id": "a6bed7db",
   "metadata": {},
   "outputs": [],
   "source": [
    "behavior.fillna(0,inplace= True)"
   ]
  },
  {
   "cell_type": "markdown",
   "id": "57dd7d16",
   "metadata": {},
   "source": [
    "### Choose features"
   ]
  },
  {
   "cell_type": "code",
   "execution_count": 119,
   "id": "7920609e",
   "metadata": {},
   "outputs": [
    {
     "data": {
      "text/plain": [
       "Index(['cust_id', 'no_of_account', 'no_active_account', 'no_nonactive_account',\n",
       "       'checking_starting_balance', 'checking_ending_balance',\n",
       "       'number_checking_tran', 'number_checking_spending',\n",
       "       'value_checking_tran', 'totalvalue_checking_tran',\n",
       "       'value_checking_spending', 'value_checking_deposit',\n",
       "       'checking_account_active_Y ', 'number_checking_deposit',\n",
       "       'credit_starting_balance', 'credit_ending_balance',\n",
       "       'number_credit_tran', 'number_credit_negative', 'number_credit_0',\n",
       "       'number_credit_positive', 'value_credit_tran', 'value_credit_spending',\n",
       "       'value_credit_deposit', 'credit_account_active_Y ',\n",
       "       'saving_starting_balance', 'saving_ending_balance',\n",
       "       'number_saving_tran', 'number_withdrawing_saving',\n",
       "       'number_deposit_saving', 'value_saving_tran',\n",
       "       'value_withdrawing_saving', 'value_deposit_saving',\n",
       "       'saving_account_active_Y '],\n",
       "      dtype='object')"
      ]
     },
     "execution_count": 119,
     "metadata": {},
     "output_type": "execute_result"
    }
   ],
   "source": [
    "behavior.columns"
   ]
  },
  {
   "cell_type": "markdown",
   "id": "9ae57f34",
   "metadata": {},
   "source": [
    "### Scale data"
   ]
  },
  {
   "cell_type": "code",
   "execution_count": 120,
   "id": "6a0dc3f6",
   "metadata": {},
   "outputs": [],
   "source": [
    "robust_scaler= RobustScaler()"
   ]
  },
  {
   "cell_type": "code",
   "execution_count": 121,
   "id": "4e930de5",
   "metadata": {},
   "outputs": [],
   "source": [
    "r_behavior= robust_scaler.fit_transform(behavior[['checking_starting_balance', 'checking_ending_balance',\n",
    "       'number_checking_tran', 'number_checking_spending',\n",
    "       'value_checking_tran', 'totalvalue_checking_tran',\n",
    "       'value_checking_spending', 'value_checking_deposit',\n",
    "       'number_checking_deposit',\n",
    "       'credit_starting_balance', 'credit_ending_balance',\n",
    "       'number_credit_tran', 'number_credit_negative', 'number_credit_0',\n",
    "       'number_credit_positive', 'value_credit_tran', 'value_credit_spending',\n",
    "       'value_credit_deposit', \n",
    "       'saving_starting_balance', 'saving_ending_balance',\n",
    "       'number_saving_tran', 'number_withdrawing_saving',\n",
    "       'number_deposit_saving', 'value_saving_tran',\n",
    "       'value_withdrawing_saving', 'value_deposit_saving']])"
   ]
  },
  {
   "cell_type": "code",
   "execution_count": 122,
   "id": "f6d3a30a",
   "metadata": {},
   "outputs": [
    {
     "data": {
      "text/html": [
       "<div>\n",
       "<style scoped>\n",
       "    .dataframe tbody tr th:only-of-type {\n",
       "        vertical-align: middle;\n",
       "    }\n",
       "\n",
       "    .dataframe tbody tr th {\n",
       "        vertical-align: top;\n",
       "    }\n",
       "\n",
       "    .dataframe thead th {\n",
       "        text-align: right;\n",
       "    }\n",
       "</style>\n",
       "<table border=\"1\" class=\"dataframe\">\n",
       "  <thead>\n",
       "    <tr style=\"text-align: right;\">\n",
       "      <th></th>\n",
       "      <th>Rchecking_starting_balance</th>\n",
       "      <th>Rchecking_ending_balance</th>\n",
       "      <th>Rnumber_checking_tran</th>\n",
       "      <th>Rnumber_checking_spending</th>\n",
       "      <th>Rvalue_checking_tran</th>\n",
       "      <th>Rtotalvalue_checking_tran</th>\n",
       "      <th>Rvalue_checking_spending</th>\n",
       "      <th>Rvalue_checking_deposit</th>\n",
       "      <th>Rnumber_checking_deposit</th>\n",
       "      <th>Rcredit_starting_balance</th>\n",
       "      <th>...</th>\n",
       "      <th>Rvalue_credit_spending</th>\n",
       "      <th>Rvalue_credit_deposit</th>\n",
       "      <th>Rsaving_starting_balance</th>\n",
       "      <th>Rsaving_ending_balance</th>\n",
       "      <th>Rnumber_saving_tran</th>\n",
       "      <th>Rnumber_withdrawing_saving</th>\n",
       "      <th>Rnumber_deposit_saving</th>\n",
       "      <th>Rvalue_saving_tran</th>\n",
       "      <th>Rvalue_withdrawing_saving</th>\n",
       "      <th>Rvalue_deposit_saving</th>\n",
       "    </tr>\n",
       "  </thead>\n",
       "  <tbody>\n",
       "    <tr>\n",
       "      <th>0</th>\n",
       "      <td>-0.007506</td>\n",
       "      <td>-0.056324</td>\n",
       "      <td>0.156250</td>\n",
       "      <td>0.211538</td>\n",
       "      <td>-0.013091</td>\n",
       "      <td>-0.026765</td>\n",
       "      <td>0.508112</td>\n",
       "      <td>1.401670</td>\n",
       "      <td>0.071429</td>\n",
       "      <td>1.586052</td>\n",
       "      <td>...</td>\n",
       "      <td>0.592773</td>\n",
       "      <td>0.394541</td>\n",
       "      <td>1.082464</td>\n",
       "      <td>1.099916</td>\n",
       "      <td>0.357143</td>\n",
       "      <td>0.250</td>\n",
       "      <td>0.333333</td>\n",
       "      <td>1.760547</td>\n",
       "      <td>2.488475</td>\n",
       "      <td>1.278242</td>\n",
       "    </tr>\n",
       "    <tr>\n",
       "      <th>1</th>\n",
       "      <td>0.881654</td>\n",
       "      <td>-0.040988</td>\n",
       "      <td>0.187500</td>\n",
       "      <td>0.269231</td>\n",
       "      <td>-0.842747</td>\n",
       "      <td>-1.042772</td>\n",
       "      <td>0.110607</td>\n",
       "      <td>-0.122186</td>\n",
       "      <td>0.000000</td>\n",
       "      <td>1.261796</td>\n",
       "      <td>...</td>\n",
       "      <td>0.064913</td>\n",
       "      <td>0.438225</td>\n",
       "      <td>0.055010</td>\n",
       "      <td>2.142027</td>\n",
       "      <td>0.607143</td>\n",
       "      <td>0.250</td>\n",
       "      <td>0.944444</td>\n",
       "      <td>5.549483</td>\n",
       "      <td>1.696508</td>\n",
       "      <td>1.216869</td>\n",
       "    </tr>\n",
       "    <tr>\n",
       "      <th>2</th>\n",
       "      <td>-0.055077</td>\n",
       "      <td>-0.131320</td>\n",
       "      <td>0.156250</td>\n",
       "      <td>0.173077</td>\n",
       "      <td>0.017137</td>\n",
       "      <td>0.009288</td>\n",
       "      <td>0.190099</td>\n",
       "      <td>0.480008</td>\n",
       "      <td>0.214286</td>\n",
       "      <td>0.278630</td>\n",
       "      <td>...</td>\n",
       "      <td>0.068948</td>\n",
       "      <td>0.508274</td>\n",
       "      <td>-0.335573</td>\n",
       "      <td>-0.225277</td>\n",
       "      <td>-0.571429</td>\n",
       "      <td>-0.250</td>\n",
       "      <td>-0.666667</td>\n",
       "      <td>0.000000</td>\n",
       "      <td>-0.324030</td>\n",
       "      <td>-0.218667</td>\n",
       "    </tr>\n",
       "    <tr>\n",
       "      <th>3</th>\n",
       "      <td>1.520356</td>\n",
       "      <td>5.790729</td>\n",
       "      <td>-0.984375</td>\n",
       "      <td>-0.942308</td>\n",
       "      <td>-3.015397</td>\n",
       "      <td>-0.361928</td>\n",
       "      <td>0.631077</td>\n",
       "      <td>-1.097268</td>\n",
       "      <td>-0.857143</td>\n",
       "      <td>0.000000</td>\n",
       "      <td>...</td>\n",
       "      <td>-0.764071</td>\n",
       "      <td>-0.412649</td>\n",
       "      <td>0.234939</td>\n",
       "      <td>-0.095610</td>\n",
       "      <td>0.321429</td>\n",
       "      <td>0.875</td>\n",
       "      <td>0.222222</td>\n",
       "      <td>-0.638668</td>\n",
       "      <td>0.349493</td>\n",
       "      <td>0.312261</td>\n",
       "    </tr>\n",
       "    <tr>\n",
       "      <th>4</th>\n",
       "      <td>0.946973</td>\n",
       "      <td>2.326342</td>\n",
       "      <td>-0.609375</td>\n",
       "      <td>-0.500000</td>\n",
       "      <td>-1.210206</td>\n",
       "      <td>-0.547029</td>\n",
       "      <td>0.125262</td>\n",
       "      <td>1.206480</td>\n",
       "      <td>-0.785714</td>\n",
       "      <td>0.000000</td>\n",
       "      <td>...</td>\n",
       "      <td>0.096349</td>\n",
       "      <td>0.341047</td>\n",
       "      <td>0.971442</td>\n",
       "      <td>-0.210899</td>\n",
       "      <td>0.107143</td>\n",
       "      <td>0.625</td>\n",
       "      <td>-0.222222</td>\n",
       "      <td>-3.190981</td>\n",
       "      <td>0.531991</td>\n",
       "      <td>0.000000</td>\n",
       "    </tr>\n",
       "  </tbody>\n",
       "</table>\n",
       "<p>5 rows × 26 columns</p>\n",
       "</div>"
      ],
      "text/plain": [
       "   Rchecking_starting_balance  Rchecking_ending_balance  \\\n",
       "0                   -0.007506                 -0.056324   \n",
       "1                    0.881654                 -0.040988   \n",
       "2                   -0.055077                 -0.131320   \n",
       "3                    1.520356                  5.790729   \n",
       "4                    0.946973                  2.326342   \n",
       "\n",
       "   Rnumber_checking_tran  Rnumber_checking_spending  Rvalue_checking_tran  \\\n",
       "0               0.156250                   0.211538             -0.013091   \n",
       "1               0.187500                   0.269231             -0.842747   \n",
       "2               0.156250                   0.173077              0.017137   \n",
       "3              -0.984375                  -0.942308             -3.015397   \n",
       "4              -0.609375                  -0.500000             -1.210206   \n",
       "\n",
       "   Rtotalvalue_checking_tran  Rvalue_checking_spending  \\\n",
       "0                  -0.026765                  0.508112   \n",
       "1                  -1.042772                  0.110607   \n",
       "2                   0.009288                  0.190099   \n",
       "3                  -0.361928                  0.631077   \n",
       "4                  -0.547029                  0.125262   \n",
       "\n",
       "   Rvalue_checking_deposit  Rnumber_checking_deposit  \\\n",
       "0                 1.401670                  0.071429   \n",
       "1                -0.122186                  0.000000   \n",
       "2                 0.480008                  0.214286   \n",
       "3                -1.097268                 -0.857143   \n",
       "4                 1.206480                 -0.785714   \n",
       "\n",
       "   Rcredit_starting_balance  ...  Rvalue_credit_spending  \\\n",
       "0                  1.586052  ...                0.592773   \n",
       "1                  1.261796  ...                0.064913   \n",
       "2                  0.278630  ...                0.068948   \n",
       "3                  0.000000  ...               -0.764071   \n",
       "4                  0.000000  ...                0.096349   \n",
       "\n",
       "   Rvalue_credit_deposit  Rsaving_starting_balance  Rsaving_ending_balance  \\\n",
       "0               0.394541                  1.082464                1.099916   \n",
       "1               0.438225                  0.055010                2.142027   \n",
       "2               0.508274                 -0.335573               -0.225277   \n",
       "3              -0.412649                  0.234939               -0.095610   \n",
       "4               0.341047                  0.971442               -0.210899   \n",
       "\n",
       "   Rnumber_saving_tran  Rnumber_withdrawing_saving  Rnumber_deposit_saving  \\\n",
       "0             0.357143                       0.250                0.333333   \n",
       "1             0.607143                       0.250                0.944444   \n",
       "2            -0.571429                      -0.250               -0.666667   \n",
       "3             0.321429                       0.875                0.222222   \n",
       "4             0.107143                       0.625               -0.222222   \n",
       "\n",
       "   Rvalue_saving_tran  Rvalue_withdrawing_saving  Rvalue_deposit_saving  \n",
       "0            1.760547                   2.488475               1.278242  \n",
       "1            5.549483                   1.696508               1.216869  \n",
       "2            0.000000                  -0.324030              -0.218667  \n",
       "3           -0.638668                   0.349493               0.312261  \n",
       "4           -3.190981                   0.531991               0.000000  \n",
       "\n",
       "[5 rows x 26 columns]"
      ]
     },
     "execution_count": 122,
     "metadata": {},
     "output_type": "execute_result"
    }
   ],
   "source": [
    "r_behavior= pd.DataFrame(r_behavior,columns=['Rchecking_starting_balance', 'Rchecking_ending_balance',\n",
    "       'Rnumber_checking_tran', 'Rnumber_checking_spending',\n",
    "       'Rvalue_checking_tran', 'Rtotalvalue_checking_tran',\n",
    "       'Rvalue_checking_spending', 'Rvalue_checking_deposit',\n",
    "        'Rnumber_checking_deposit',\n",
    "       'Rcredit_starting_balance', 'Rcredit_ending_balance',\n",
    "       'Rnumber_credit_tran', 'Rnumber_credit_negative', 'Rnumber_credit_0',\n",
    "       'Rnumber_credit_positive', 'Rvalue_credit_tran', 'Rvalue_credit_spending',\n",
    "       'Rvalue_credit_deposit', \n",
    "       'Rsaving_starting_balance', 'Rsaving_ending_balance',\n",
    "       'Rnumber_saving_tran', 'Rnumber_withdrawing_saving',\n",
    "       'Rnumber_deposit_saving', 'Rvalue_saving_tran',\n",
    "       'Rvalue_withdrawing_saving', 'Rvalue_deposit_saving'])\n",
    "r_behavior.head()"
   ]
  },
  {
   "cell_type": "code",
   "execution_count": 123,
   "id": "99f40583",
   "metadata": {},
   "outputs": [
    {
     "data": {
      "text/plain": [
       "Index(['cust_id', 'no_of_account', 'no_active_account', 'no_nonactive_account',\n",
       "       'checking_starting_balance', 'checking_ending_balance',\n",
       "       'number_checking_tran', 'number_checking_spending',\n",
       "       'value_checking_tran', 'totalvalue_checking_tran',\n",
       "       'value_checking_spending', 'value_checking_deposit',\n",
       "       'checking_account_active_Y ', 'number_checking_deposit',\n",
       "       'credit_starting_balance', 'credit_ending_balance',\n",
       "       'number_credit_tran', 'number_credit_negative', 'number_credit_0',\n",
       "       'number_credit_positive', 'value_credit_tran', 'value_credit_spending',\n",
       "       'value_credit_deposit', 'credit_account_active_Y ',\n",
       "       'saving_starting_balance', 'saving_ending_balance',\n",
       "       'number_saving_tran', 'number_withdrawing_saving',\n",
       "       'number_deposit_saving', 'value_saving_tran',\n",
       "       'value_withdrawing_saving', 'value_deposit_saving',\n",
       "       'saving_account_active_Y ', 'Rchecking_starting_balance',\n",
       "       'Rchecking_ending_balance', 'Rnumber_checking_tran',\n",
       "       'Rnumber_checking_spending', 'Rvalue_checking_tran',\n",
       "       'Rtotalvalue_checking_tran', 'Rvalue_checking_spending',\n",
       "       'Rvalue_checking_deposit', 'Rnumber_checking_deposit',\n",
       "       'Rcredit_starting_balance', 'Rcredit_ending_balance',\n",
       "       'Rnumber_credit_tran', 'Rnumber_credit_negative', 'Rnumber_credit_0',\n",
       "       'Rnumber_credit_positive', 'Rvalue_credit_tran',\n",
       "       'Rvalue_credit_spending', 'Rvalue_credit_deposit',\n",
       "       'Rsaving_starting_balance', 'Rsaving_ending_balance',\n",
       "       'Rnumber_saving_tran', 'Rnumber_withdrawing_saving',\n",
       "       'Rnumber_deposit_saving', 'Rvalue_saving_tran',\n",
       "       'Rvalue_withdrawing_saving', 'Rvalue_deposit_saving'],\n",
       "      dtype='object')"
      ]
     },
     "execution_count": 123,
     "metadata": {},
     "output_type": "execute_result"
    }
   ],
   "source": [
    "### concat scaled data into original df\n",
    "behavior_scale= pd.concat([behavior,r_behavior],axis=1)\n",
    "behavior_scale.columns"
   ]
  },
  {
   "cell_type": "code",
   "execution_count": 124,
   "id": "754bde92",
   "metadata": {},
   "outputs": [],
   "source": [
    "def kmean(number_of_clusters, dataframe,list_feature):\n",
    "    km = KMeans(n_clusters=number_of_clusters, n_init=20,random_state=0)\n",
    "    return km.fit_predict(dataframe[list_feature])"
   ]
  },
  {
   "cell_type": "code",
   "execution_count": 125,
   "id": "f50a07aa",
   "metadata": {},
   "outputs": [],
   "source": [
    "features2= [\n",
    "            'Rnumber_checking_spending', \n",
    "       'Rvalue_checking_spending', \n",
    "            'Rnumber_credit_negative', \n",
    "       'Rvalue_credit_spending', \n",
    "       'Rnumber_deposit_saving', \n",
    "       'Rvalue_deposit_saving']\n",
    "## original data\n",
    "# 'cust_id','no_of_account',\n",
    "# 'checking_starting_balance', 'checking_ending_balance',\n",
    "# 'number_checking_tran', 'number_checking_spending','number_checking_deposit',\n",
    "#'value_checking_tran', 'totalvalue_checking_tran',\n",
    "#'value_checking_spending', 'value_checking_deposit',\n",
    "# 'credit_starting_balance', 'credit_ending_balance',\n",
    "# 'number_credit_tran', 'number_credit_negative', 'number_credit_0',\n",
    "# 'number_credit_positive', 'value_credit_tran', 'value_credit_spending','value_credit_deposit',\n",
    "# 'saving_starting_balance', 'saving_ending_balance', \n",
    "# 'number_saving_tran', 'number_withdrawing_saving',\n",
    "# 'number_deposit_saving', 'value_saving_tran',\n",
    "# 'value_withdrawing_saving', 'value_deposit_saving',      \n",
    "## scaled data but not use in model\n",
    "#'Rchecking_starting_balance','Rnumber_checking_tran', 'Rtotalvalue_checking_tran','Rvalue_checking_tran',\n",
    "# 'Rnumber_credit_tran','Rnumber_credit_0','Rvalue_credit_tran',\n",
    "# 'Rsaving_starting_balance', 'Rnumber_saving_tran','Rvalue_saving_tran'"
   ]
  },
  {
   "cell_type": "code",
   "execution_count": 126,
   "id": "58a952f5",
   "metadata": {},
   "outputs": [
    {
     "data": {
      "text/plain": [
       "2    288\n",
       "1    273\n",
       "0     79\n",
       "3     25\n",
       "Name: Kcluster_4, dtype: int64"
      ]
     },
     "execution_count": 126,
     "metadata": {},
     "output_type": "execute_result"
    }
   ],
   "source": [
    "#4 clusters\n",
    "behavior_scale['Kcluster_4']= kmean(4, behavior_scale,features2)\n",
    "behavior_scale['Kcluster_4'].value_counts()"
   ]
  },
  {
   "cell_type": "code",
   "execution_count": 127,
   "id": "f7943404",
   "metadata": {},
   "outputs": [
    {
     "data": {
      "text/html": [
       "<div>\n",
       "<style scoped>\n",
       "    .dataframe tbody tr th:only-of-type {\n",
       "        vertical-align: middle;\n",
       "    }\n",
       "\n",
       "    .dataframe tbody tr th {\n",
       "        vertical-align: top;\n",
       "    }\n",
       "\n",
       "    .dataframe thead th {\n",
       "        text-align: right;\n",
       "    }\n",
       "</style>\n",
       "<table border=\"1\" class=\"dataframe\">\n",
       "  <thead>\n",
       "    <tr style=\"text-align: right;\">\n",
       "      <th></th>\n",
       "      <th>no_of_account</th>\n",
       "      <th>number_checking_tran</th>\n",
       "      <th>checking_starting_balance</th>\n",
       "      <th>checking_ending_balance</th>\n",
       "      <th>number_checking_spending</th>\n",
       "      <th>value_checking_spending</th>\n",
       "    </tr>\n",
       "    <tr>\n",
       "      <th>Kcluster_4</th>\n",
       "      <th></th>\n",
       "      <th></th>\n",
       "      <th></th>\n",
       "      <th></th>\n",
       "      <th></th>\n",
       "      <th></th>\n",
       "    </tr>\n",
       "  </thead>\n",
       "  <tbody>\n",
       "    <tr>\n",
       "      <th>0</th>\n",
       "      <td>2.0</td>\n",
       "      <td>69.0</td>\n",
       "      <td>5095.0</td>\n",
       "      <td>1335.0</td>\n",
       "      <td>55.0</td>\n",
       "      <td>216.0</td>\n",
       "    </tr>\n",
       "    <tr>\n",
       "      <th>1</th>\n",
       "      <td>3.0</td>\n",
       "      <td>66.0</td>\n",
       "      <td>1350.0</td>\n",
       "      <td>424.0</td>\n",
       "      <td>54.0</td>\n",
       "      <td>70.0</td>\n",
       "    </tr>\n",
       "    <tr>\n",
       "      <th>2</th>\n",
       "      <td>2.0</td>\n",
       "      <td>38.0</td>\n",
       "      <td>792.0</td>\n",
       "      <td>305.0</td>\n",
       "      <td>31.0</td>\n",
       "      <td>41.0</td>\n",
       "    </tr>\n",
       "    <tr>\n",
       "      <th>3</th>\n",
       "      <td>3.0</td>\n",
       "      <td>72.0</td>\n",
       "      <td>5190.0</td>\n",
       "      <td>1290.0</td>\n",
       "      <td>59.0</td>\n",
       "      <td>219.0</td>\n",
       "    </tr>\n",
       "  </tbody>\n",
       "</table>\n",
       "</div>"
      ],
      "text/plain": [
       "            no_of_account  number_checking_tran  checking_starting_balance  \\\n",
       "Kcluster_4                                                                   \n",
       "0                     2.0                  69.0                     5095.0   \n",
       "1                     3.0                  66.0                     1350.0   \n",
       "2                     2.0                  38.0                      792.0   \n",
       "3                     3.0                  72.0                     5190.0   \n",
       "\n",
       "            checking_ending_balance  number_checking_spending  \\\n",
       "Kcluster_4                                                      \n",
       "0                            1335.0                      55.0   \n",
       "1                             424.0                      54.0   \n",
       "2                             305.0                      31.0   \n",
       "3                            1290.0                      59.0   \n",
       "\n",
       "            value_checking_spending  \n",
       "Kcluster_4                           \n",
       "0                             216.0  \n",
       "1                              70.0  \n",
       "2                              41.0  \n",
       "3                             219.0  "
      ]
     },
     "execution_count": 127,
     "metadata": {},
     "output_type": "execute_result"
    }
   ],
   "source": [
    "# checking\n",
    "behavior_scale.groupby('Kcluster_4')[['no_of_account','number_checking_tran','checking_starting_balance', 'checking_ending_balance',\n",
    "                                    'number_checking_spending','value_checking_spending'\n",
    "                                                                         ]].mean().round()\n",
    "# 0 & 3: high spending volumne and value\n",
    "# 1: high spending volume but average value\n",
    "# 2: not active, low balance, low spending volumne and value"
   ]
  },
  {
   "cell_type": "code",
   "execution_count": 128,
   "id": "0bae446b",
   "metadata": {},
   "outputs": [
    {
     "data": {
      "text/html": [
       "<div>\n",
       "<style scoped>\n",
       "    .dataframe tbody tr th:only-of-type {\n",
       "        vertical-align: middle;\n",
       "    }\n",
       "\n",
       "    .dataframe tbody tr th {\n",
       "        vertical-align: top;\n",
       "    }\n",
       "\n",
       "    .dataframe thead th {\n",
       "        text-align: right;\n",
       "    }\n",
       "</style>\n",
       "<table border=\"1\" class=\"dataframe\">\n",
       "  <thead>\n",
       "    <tr style=\"text-align: right;\">\n",
       "      <th></th>\n",
       "      <th>credit_starting_balance</th>\n",
       "      <th>credit_ending_balance</th>\n",
       "      <th>number_credit_negative</th>\n",
       "      <th>value_credit_spending</th>\n",
       "    </tr>\n",
       "    <tr>\n",
       "      <th>Kcluster_4</th>\n",
       "      <th></th>\n",
       "      <th></th>\n",
       "      <th></th>\n",
       "      <th></th>\n",
       "    </tr>\n",
       "  </thead>\n",
       "  <tbody>\n",
       "    <tr>\n",
       "      <th>0</th>\n",
       "      <td>1887.0</td>\n",
       "      <td>1266.0</td>\n",
       "      <td>19.0</td>\n",
       "      <td>181.0</td>\n",
       "    </tr>\n",
       "    <tr>\n",
       "      <th>1</th>\n",
       "      <td>858.0</td>\n",
       "      <td>1251.0</td>\n",
       "      <td>39.0</td>\n",
       "      <td>144.0</td>\n",
       "    </tr>\n",
       "    <tr>\n",
       "      <th>2</th>\n",
       "      <td>336.0</td>\n",
       "      <td>236.0</td>\n",
       "      <td>5.0</td>\n",
       "      <td>35.0</td>\n",
       "    </tr>\n",
       "    <tr>\n",
       "      <th>3</th>\n",
       "      <td>1819.0</td>\n",
       "      <td>1809.0</td>\n",
       "      <td>21.0</td>\n",
       "      <td>206.0</td>\n",
       "    </tr>\n",
       "  </tbody>\n",
       "</table>\n",
       "</div>"
      ],
      "text/plain": [
       "            credit_starting_balance  credit_ending_balance  \\\n",
       "Kcluster_4                                                   \n",
       "0                            1887.0                 1266.0   \n",
       "1                             858.0                 1251.0   \n",
       "2                             336.0                  236.0   \n",
       "3                            1819.0                 1809.0   \n",
       "\n",
       "            number_credit_negative  value_credit_spending  \n",
       "Kcluster_4                                                 \n",
       "0                             19.0                  181.0  \n",
       "1                             39.0                  144.0  \n",
       "2                              5.0                   35.0  \n",
       "3                             21.0                  206.0  "
      ]
     },
     "execution_count": 128,
     "metadata": {},
     "output_type": "execute_result"
    }
   ],
   "source": [
    "# credit\n",
    "behavior_scale.groupby('Kcluster_4')[[\n",
    "                                     'credit_starting_balance', 'credit_ending_balance',\n",
    "                                    'number_credit_negative',\n",
    "                                    'value_credit_spending'\n",
    "                                         ]].mean().round()\n",
    "# 0& 3: average credit spending volumn but very high value\n",
    "# 1: high credit spending volumne but average value \n",
    "# 2: low spending capacity\n",
    "# in lign with checking account situation"
   ]
  },
  {
   "cell_type": "code",
   "execution_count": 129,
   "id": "2017363e",
   "metadata": {},
   "outputs": [
    {
     "data": {
      "text/html": [
       "<div>\n",
       "<style scoped>\n",
       "    .dataframe tbody tr th:only-of-type {\n",
       "        vertical-align: middle;\n",
       "    }\n",
       "\n",
       "    .dataframe tbody tr th {\n",
       "        vertical-align: top;\n",
       "    }\n",
       "\n",
       "    .dataframe thead th {\n",
       "        text-align: right;\n",
       "    }\n",
       "</style>\n",
       "<table border=\"1\" class=\"dataframe\">\n",
       "  <thead>\n",
       "    <tr style=\"text-align: right;\">\n",
       "      <th></th>\n",
       "      <th>saving_starting_balance</th>\n",
       "      <th>saving_ending_balance</th>\n",
       "      <th>number_deposit_saving</th>\n",
       "      <th>value_deposit_saving</th>\n",
       "    </tr>\n",
       "    <tr>\n",
       "      <th>Kcluster_4</th>\n",
       "      <th></th>\n",
       "      <th></th>\n",
       "      <th></th>\n",
       "      <th></th>\n",
       "    </tr>\n",
       "  </thead>\n",
       "  <tbody>\n",
       "    <tr>\n",
       "      <th>0</th>\n",
       "      <td>752.0</td>\n",
       "      <td>772.0</td>\n",
       "      <td>5.0</td>\n",
       "      <td>22.0</td>\n",
       "    </tr>\n",
       "    <tr>\n",
       "      <th>1</th>\n",
       "      <td>492.0</td>\n",
       "      <td>713.0</td>\n",
       "      <td>13.0</td>\n",
       "      <td>50.0</td>\n",
       "    </tr>\n",
       "    <tr>\n",
       "      <th>2</th>\n",
       "      <td>408.0</td>\n",
       "      <td>524.0</td>\n",
       "      <td>10.0</td>\n",
       "      <td>27.0</td>\n",
       "    </tr>\n",
       "    <tr>\n",
       "      <th>3</th>\n",
       "      <td>2268.0</td>\n",
       "      <td>4925.0</td>\n",
       "      <td>20.0</td>\n",
       "      <td>313.0</td>\n",
       "    </tr>\n",
       "  </tbody>\n",
       "</table>\n",
       "</div>"
      ],
      "text/plain": [
       "            saving_starting_balance  saving_ending_balance  \\\n",
       "Kcluster_4                                                   \n",
       "0                             752.0                  772.0   \n",
       "1                             492.0                  713.0   \n",
       "2                             408.0                  524.0   \n",
       "3                            2268.0                 4925.0   \n",
       "\n",
       "            number_deposit_saving  value_deposit_saving  \n",
       "Kcluster_4                                               \n",
       "0                             5.0                  22.0  \n",
       "1                            13.0                  50.0  \n",
       "2                            10.0                  27.0  \n",
       "3                            20.0                 313.0  "
      ]
     },
     "execution_count": 129,
     "metadata": {},
     "output_type": "execute_result"
    }
   ],
   "source": [
    "# saving\n",
    "behavior_scale.groupby('Kcluster_4')[[\n",
    "                                     'saving_starting_balance', 'saving_ending_balance', \n",
    "                                   'number_deposit_saving', 'value_deposit_saving'      \n",
    "                                         ]].mean().round()\n",
    "# 0& 3: they are 2 groups of active spending (high volumne & value) but are different in saving situation:\n",
    "# 0: low saving\n",
    "# 3: high spending power with high saving deposit and balance\n",
    "# 1: while this group have low starting saving balance, average deposit value is highest among 4 group which result in high ending balance"
   ]
  },
  {
   "cell_type": "code",
   "execution_count": 130,
   "id": "22a5676f",
   "metadata": {},
   "outputs": [],
   "source": [
    "# conclusion: \n",
    "# 0- 79 cus: spending group with low intention of saving (low number of deposit into saving account) >> spending promotions\n",
    "# 3- 25 cus: spending group with strong financial power >> most potentials group\n",
    "# 1- 273 cus: saving group (make many transaction but small value while putting more money into saving account) >> promotions emphasize on value saving\n",
    "# 2 -288 cus: low spending capacity and saving power >>  may not be potential ?!"
   ]
  },
  {
   "cell_type": "markdown",
   "id": "53642258",
   "metadata": {},
   "source": [
    "### PCA "
   ]
  },
  {
   "cell_type": "code",
   "execution_count": 132,
   "id": "089592e1",
   "metadata": {},
   "outputs": [],
   "source": [
    "pca= sklearn.decomposition.PCA()"
   ]
  },
  {
   "cell_type": "code",
   "execution_count": 134,
   "id": "782a25be",
   "metadata": {},
   "outputs": [],
   "source": [
    "pca_result= pca.fit_transform(behavior_scale[['Rnumber_checking_spending', \n",
    "       'Rvalue_checking_spending', \n",
    "            'Rnumber_credit_negative', \n",
    "       'Rvalue_credit_spending', \n",
    "       'Rnumber_deposit_saving', \n",
    "       'Rvalue_deposit_saving']])"
   ]
  },
  {
   "cell_type": "code",
   "execution_count": 135,
   "id": "1672bfeb",
   "metadata": {},
   "outputs": [
    {
     "data": {
      "text/plain": [
       "array([0.39883705, 0.27941262, 0.16796417, 0.07264543, 0.04350017,\n",
       "       0.03764056])"
      ]
     },
     "execution_count": 135,
     "metadata": {},
     "output_type": "execute_result"
    }
   ],
   "source": [
    "pca.explained_variance_ratio_ "
   ]
  },
  {
   "cell_type": "code",
   "execution_count": 138,
   "id": "0f536ff0",
   "metadata": {},
   "outputs": [
    {
     "data": {
      "application/vnd.plotly.v1+json": {
       "config": {
        "plotlyServerURL": "https://plot.ly"
       },
       "data": [
        {
         "hovertemplate": "PC 1=%{x}<br>PC 2=%{y}<br>color=%{marker.color}<extra></extra>",
         "legendgroup": "",
         "marker": {
          "color": [
           1,
           1,
           1,
           2,
           1,
           2,
           1,
           0,
           2,
           2,
           2,
           2,
           2,
           2,
           2,
           2,
           2,
           1,
           2,
           1,
           1,
           2,
           1,
           1,
           2,
           0,
           1,
           2,
           2,
           1,
           2,
           1,
           1,
           0,
           0,
           2,
           2,
           0,
           2,
           2,
           1,
           1,
           0,
           1,
           2,
           2,
           1,
           2,
           1,
           1,
           3,
           1,
           0,
           0,
           2,
           2,
           0,
           2,
           2,
           1,
           0,
           1,
           0,
           1,
           1,
           1,
           1,
           2,
           1,
           1,
           1,
           2,
           2,
           1,
           0,
           1,
           3,
           2,
           2,
           1,
           0,
           1,
           2,
           1,
           0,
           1,
           1,
           2,
           2,
           2,
           2,
           2,
           2,
           0,
           1,
           3,
           2,
           1,
           1,
           0,
           1,
           0,
           1,
           1,
           2,
           2,
           1,
           2,
           1,
           1,
           2,
           1,
           1,
           2,
           2,
           1,
           2,
           1,
           2,
           0,
           2,
           1,
           2,
           1,
           0,
           2,
           2,
           2,
           2,
           2,
           2,
           2,
           2,
           2,
           2,
           2,
           2,
           2,
           1,
           1,
           2,
           1,
           1,
           1,
           0,
           2,
           3,
           1,
           2,
           2,
           2,
           1,
           1,
           1,
           1,
           2,
           2,
           2,
           1,
           2,
           2,
           1,
           2,
           0,
           0,
           1,
           0,
           2,
           1,
           2,
           1,
           2,
           1,
           1,
           2,
           1,
           1,
           1,
           1,
           1,
           2,
           2,
           2,
           1,
           0,
           2,
           2,
           2,
           1,
           3,
           1,
           2,
           2,
           0,
           1,
           2,
           2,
           2,
           1,
           2,
           1,
           2,
           0,
           2,
           1,
           1,
           2,
           2,
           2,
           0,
           1,
           1,
           0,
           2,
           1,
           1,
           2,
           1,
           1,
           1,
           0,
           2,
           1,
           1,
           0,
           1,
           2,
           2,
           2,
           3,
           1,
           0,
           0,
           2,
           1,
           1,
           2,
           3,
           2,
           1,
           2,
           2,
           1,
           2,
           0,
           0,
           0,
           2,
           1,
           1,
           2,
           2,
           1,
           1,
           1,
           1,
           2,
           2,
           1,
           2,
           2,
           3,
           0,
           2,
           2,
           2,
           2,
           2,
           0,
           2,
           2,
           2,
           1,
           2,
           1,
           1,
           2,
           1,
           2,
           1,
           1,
           2,
           2,
           2,
           1,
           1,
           1,
           1,
           3,
           2,
           0,
           2,
           1,
           1,
           0,
           1,
           1,
           2,
           3,
           1,
           2,
           0,
           1,
           2,
           1,
           0,
           2,
           0,
           1,
           1,
           1,
           2,
           2,
           1,
           2,
           2,
           3,
           2,
           1,
           1,
           1,
           2,
           1,
           2,
           0,
           2,
           1,
           2,
           2,
           1,
           0,
           1,
           1,
           2,
           2,
           3,
           2,
           2,
           1,
           1,
           2,
           2,
           1,
           0,
           0,
           1,
           3,
           0,
           1,
           2,
           2,
           1,
           1,
           3,
           2,
           2,
           0,
           2,
           0,
           2,
           1,
           1,
           1,
           2,
           1,
           2,
           2,
           2,
           2,
           1,
           1,
           2,
           1,
           2,
           1,
           0,
           2,
           2,
           2,
           1,
           2,
           1,
           2,
           2,
           0,
           1,
           2,
           1,
           0,
           1,
           0,
           2,
           2,
           1,
           2,
           2,
           2,
           1,
           2,
           2,
           1,
           2,
           2,
           1,
           2,
           0,
           2,
           2,
           2,
           2,
           2,
           1,
           2,
           0,
           3,
           2,
           2,
           2,
           1,
           2,
           2,
           2,
           1,
           1,
           2,
           1,
           2,
           2,
           1,
           2,
           2,
           0,
           2,
           2,
           1,
           2,
           1,
           1,
           0,
           3,
           2,
           1,
           0,
           1,
           1,
           2,
           2,
           2,
           2,
           1,
           0,
           2,
           2,
           1,
           2,
           2,
           0,
           2,
           1,
           1,
           1,
           2,
           1,
           2,
           3,
           2,
           1,
           1,
           1,
           2,
           1,
           1,
           1,
           1,
           1,
           2,
           0,
           1,
           1,
           1,
           1,
           1,
           1,
           1,
           2,
           1,
           2,
           2,
           0,
           1,
           2,
           1,
           0,
           2,
           1,
           2,
           1,
           1,
           0,
           2,
           2,
           2,
           1,
           1,
           2,
           1,
           2,
           2,
           1,
           3,
           1,
           1,
           1,
           2,
           1,
           1,
           2,
           1,
           1,
           1,
           2,
           1,
           1,
           1,
           1,
           3,
           2,
           1,
           2,
           1,
           2,
           2,
           1,
           1,
           0,
           0,
           0,
           1,
           2,
           2,
           1,
           1,
           1,
           0,
           1,
           2,
           1,
           1,
           2,
           2,
           1,
           0,
           2,
           0,
           1,
           1,
           0,
           2,
           2,
           2,
           1,
           0,
           3,
           2,
           2,
           1,
           2,
           1,
           1,
           0,
           2,
           1,
           2,
           1,
           1,
           1,
           2,
           1,
           1,
           1,
           0,
           3,
           2,
           2,
           2,
           2,
           2,
           1,
           1,
           2,
           3,
           1,
           1,
           2,
           1,
           2,
           1,
           1,
           2,
           1,
           1,
           2,
           1,
           0,
           0,
           2,
           2,
           1,
           2,
           2,
           2,
           1,
           2,
           2,
           1,
           1,
           1,
           0,
           0,
           2,
           2,
           2,
           3,
           1,
           2,
           1,
           1,
           0,
           1,
           2,
           1,
           1,
           1,
           2,
           2,
           2,
           1,
           1,
           2,
           3,
           1,
           2,
           1,
           1,
           2,
           2,
           1,
           1,
           2,
           1,
           1,
           1,
           1,
           2,
           2,
           1,
           1,
           1,
           2,
           2,
           2,
           2,
           3,
           2,
           2
          ],
          "coloraxis": "coloraxis",
          "symbol": "circle"
         },
         "mode": "markers",
         "name": "",
         "orientation": "v",
         "showlegend": false,
         "type": "scatter",
         "x": [
          1.0230636884787327,
          0.7336935093146256,
          -0.2656284917353101,
          -0.20007767418246564,
          -0.34376986173005597,
          -0.6527345335727276,
          0.708322028582904,
          1.0773013665416995,
          -1.5366533904390143,
          -1.1089246267375037,
          -1.0074441746884713,
          -1.2261865584158573,
          -0.13840122115830908,
          -0.6826823346572833,
          -1.112532765676222,
          -0.8538423165586096,
          -0.3259928543324686,
          -0.5082514695737759,
          -0.9935948511966005,
          0.7483011506638657,
          0.6986645913158431,
          -0.6403510970857247,
          0.3838700290675849,
          1.0959452033803856,
          -0.37623830778787193,
          0.06635542948664801,
          0.2794874678687841,
          -1.2894403634047544,
          -1.0309767282894338,
          0.2414857373283343,
          0.6916816339293991,
          0.41340557817833945,
          0.47446288067773906,
          2.1333806864096547,
          0.5834704349560511,
          -1.6285554144631043,
          -0.724559696952115,
          0.787700567006672,
          -1.2575776623579624,
          0.6412631581124377,
          0.5286620938181197,
          -1.0925578878221134,
          0.9065209831742617,
          -0.18717272150217223,
          -1.265800013931773,
          -0.7637608587522187,
          -0.6799973504852939,
          -0.008038401170477784,
          -0.36278402560761996,
          0.17112586519454212,
          4.378965946310412,
          -0.5273997396826294,
          1.6130286982279276,
          5.016177583523129,
          0.08418074906079354,
          -0.007798458395078156,
          0.5336489261274335,
          -1.537464360900572,
          -0.4678650465926547,
          0.07950066066190425,
          1.967430435402461,
          -1.0515013507906292,
          1.2058872461833086,
          0.3384749052918262,
          -0.47317902111526644,
          -0.05916782703269331,
          -0.08206031135996637,
          -0.8168579091137168,
          -0.6445092445569462,
          0.670018009848763,
          -0.03360386062045351,
          -0.5198049980932187,
          -0.9396246569434518,
          0.42098801921530793,
          0.5772125472271648,
          0.12413767827309884,
          7.5267833633775645,
          -0.5190214488522741,
          -1.174779459042275,
          -0.1360757008359775,
          0.5511705019997297,
          0.8892918765414747,
          -0.8069977718532947,
          -0.5180567190293213,
          0.8903543251655546,
          -0.37906425223613427,
          0.520457646260061,
          -1.2314019083638712,
          -1.179858745601818,
          -0.9190421494345132,
          -0.5331489770590739,
          -0.587146998356858,
          -0.07180552917032107,
          0.086989352613067,
          0.41084847250482803,
          2.5996206628942113,
          -1.099485965760144,
          -0.21739191332373548,
          -0.5816214069258122,
          0.18202390492913587,
          0.33459222825911006,
          0.35115321958113593,
          0.6202835244824735,
          -0.36824257823280954,
          -0.5779572538356289,
          -1.0531472793206922,
          -0.25048639396436473,
          -0.5949548619475917,
          -0.1242573908571485,
          0.3620307330871622,
          -0.5224434825985832,
          0.031153327008541502,
          -0.5236434106709181,
          -0.7006309348099293,
          -1.1614891020870088,
          -0.27224145220385965,
          -1.2089590212207963,
          -0.31736055491405324,
          -0.7711366283947383,
          1.381647449064216,
          -0.8177169475930677,
          0.0660665572140069,
          -0.5883436817315029,
          -0.4431707269321868,
          0.8484146744139642,
          -1.009964312306889,
          -1.2990538758093195,
          -0.7496803827413349,
          -0.5516114219934996,
          -0.4557832977124817,
          -0.7454645298401764,
          -0.9403374567557706,
          -0.1132102132765958,
          -0.48900293603904227,
          -0.8991956334953217,
          -0.7091430909843477,
          -0.28786647721878195,
          -0.3222245601587729,
          -0.6130909691901517,
          1.3290728653479895,
          -0.3835179295157163,
          0.3684875123338529,
          0.1668039882347586,
          -0.25478224670871896,
          0.36567446177930807,
          -0.3305993509880677,
          5.568228047730128,
          -0.5711680621924305,
          -0.9451860509932399,
          0.6100333820682945,
          -0.4987445009055848,
          1.289629123332065,
          1.9476974267105351,
          -0.30026466379357014,
          0.25660907019377405,
          -0.6220880927298102,
          -1.0152939952083566,
          -1.1949022399699918,
          -0.007334549816702915,
          -0.6324344695866886,
          -1.4980044378116277,
          0.3009283895669922,
          -1.051435717807187,
          1.479496357807604,
          2.566547650098867,
          -0.7149248466083569,
          0.9571727522707677,
          -1.5380561501563033,
          -0.6222727500456695,
          -1.4806954692591265,
          0.272969954784602,
          -0.5852875413423468,
          0.3534163267438993,
          -0.37119262192765856,
          -0.6012344540964665,
          1.0258873061680909,
          0.7105219785899753,
          0.1871061064519291,
          0.15016640090784608,
          -0.06207470408338056,
          -0.8987406123505429,
          -0.1466868738977822,
          -0.4340815412987519,
          0.7849032740465254,
          0.360310572989557,
          -0.5369826030372126,
          -0.756061212287482,
          -1.019175653406188,
          1.3827907858800979,
          7.9348422115001345,
          0.14209777153947212,
          -1.5049241678616325,
          -1.1842409247574635,
          0.6210467444979427,
          1.1846479708602196,
          -0.3353263055051986,
          -1.2611521340605205,
          -0.6169482771151306,
          -0.0006474578058829793,
          0.6797433835447947,
          0.05706794734356841,
          -0.4294030483266494,
          1.6556809730448887,
          -0.9673559979719535,
          0.7564010896213567,
          0.4517906914221858,
          -1.0231274625184272,
          -1.2875124928984292,
          -0.7542685983709525,
          2.847797135512655,
          0.10799111537035802,
          1.095443542076795,
          0.4933932510179356,
          -0.4738938913961105,
          0.2413971496476933,
          -0.2028420109138496,
          -0.6118783876599954,
          0.10752794513447188,
          0.24372795868572814,
          0.11105142024723233,
          5.220251828840467,
          -0.8198070165518403,
          0.7317206757088136,
          0.1571933234196482,
          1.0523046593702208,
          0.4841550691425738,
          -1.1400670823328596,
          0.5099396269258399,
          -1.341016292415688,
          2.3773399099183457,
          -0.4211389810688586,
          0.5030336779542651,
          0.49199218014950336,
          -0.7444076608089643,
          0.4577064809983257,
          0.6528798302078446,
          -0.7208164602711971,
          3.1536299298647505,
          0.2328571615910839,
          0.5108341683885605,
          -1.5801344715383705,
          -1.1942688208338685,
          -0.358988728011711,
          -0.5096440882622082,
          0.7995473344106965,
          -0.011989247991002977,
          0.7052931733674926,
          -0.5175155550595038,
          -0.19999403155710377,
          2.2804561927480704,
          -0.4249964170568444,
          -1.014018550993677,
          -0.4098566502152441,
          -1.1575945582092915,
          -0.18632457492891494,
          0.04598568405011588,
          -1.013379289765185,
          -0.8726969038707765,
          -0.037944409543175434,
          -0.3804923371470229,
          -0.8604502256497745,
          6.148237495130936,
          1.3346709844322704,
          -1.6285554144631043,
          -0.6712110835981003,
          -0.9108268389057488,
          -0.4292927836330207,
          -0.7914377859708912,
          0.5022707703899911,
          -1.044477284612863,
          -0.9889524581505742,
          -1.500035516985619,
          1.06541314499406,
          -0.7535896728473017,
          -0.4287373212238948,
          0.0016187637328737158,
          -1.5268779086591575,
          -0.030595915887179997,
          -0.6050967845195167,
          0.07795393711916021,
          -0.29175399568042476,
          -1.5359081743392047,
          -0.8774560513907591,
          -0.8414674798414622,
          -0.12185871609774732,
          -0.16294530372851412,
          1.0342023388106771,
          -0.3898342825459325,
          3.5566764731437197,
          -0.7847835330487173,
          0.2869978880200366,
          -0.12718027419484842,
          -0.34977182071325785,
          -0.20108590526901388,
          0.37012084259114825,
          -0.024088751397511397,
          2.1411766495139455,
          -0.7089147813562781,
          1.4464855633498863,
          0.7323367818307513,
          -1.307739018722076,
          0.26547815537307795,
          0.5457572652815785,
          -0.756319053712065,
          -0.4897791960285336,
          0.9459608140954177,
          -0.7734981192991206,
          0.9446882516264503,
          1.1233559373029611,
          -0.3065076730406194,
          -0.5416745268338918,
          -1.0455587901136494,
          -0.3959220507079203,
          0.12034198919302332,
          -0.8464246819458777,
          -0.4614979140901487,
          3.4338158592572214,
          -0.9496527272837838,
          -0.030719656453853186,
          0.16416238466330943,
          0.24158814212941615,
          -0.8781209861276017,
          -0.10967073335855915,
          -0.8079783841552948,
          2.4443627371508154,
          -1.001982975129064,
          0.5598608009735287,
          -1.0292528916061812,
          -0.2254857525909449,
          0.5863438894087817,
          1.4287121281118011,
          1.0604719364827988,
          -0.14792367735948037,
          -1.0909855982589374,
          0.2314569339226134,
          2.593355386691121,
          -0.88431802036832,
          -0.9909683339310302,
          0.412657540624312,
          0.6575439785426955,
          -0.800054859594874,
          -0.5826470090176603,
          -0.11492865369191063,
          1.0031949533669844,
          2.6260170632781485,
          -0.16266424580690844,
          4.964383768862209,
          0.12210250052881971,
          -0.6015454075570422,
          -1.5374497488201837,
          -0.8615604491920403,
          -0.7678016719034504,
          0.840348125460531,
          2.2302317091889767,
          -0.5776196021379698,
          0.33763032574744806,
          0.32870518940562143,
          -1.1898413604761755,
          -0.080820014299808,
          -0.9275375086362311,
          -0.01733013755622086,
          1.211337499544689,
          0.9152611835555947,
          -0.5885838414916101,
          1.191073801791579,
          -1.1995126524020767,
          0.05355337411337087,
          -1.0580849547340658,
          -0.4717369290290428,
          -0.6155850712131242,
          -0.14970109897228137,
          -1.1889958293128782,
          -0.7806091872225239,
          -0.8016127610411388,
          -0.14152360945627326,
          2.1113138788369112,
          -0.7458710634008086,
          -1.194027713785572,
          -0.9299414199984727,
          -0.8275809697085099,
          -0.8669598426992261,
          0.42466039899568336,
          -0.4508608749768095,
          -1.2118120607131444,
          0.44997487114746243,
          0.2990036027627662,
          -1.146111326408825,
          0.03299910692243791,
          0.2911046304769105,
          0.01513892487793423,
          0.41434604903943123,
          -0.555903457042655,
          -0.6983085313499106,
          0.782283870237806,
          -1.1735112138875115,
          -1.5139462175154006,
          -0.412684194245295,
          -0.22639148563394124,
          -0.5105112333314895,
          -1.6285554144631043,
          -0.3825649063345387,
          -0.6311140058918242,
          -0.6891998181303524,
          -0.711480438480219,
          -1.331864366458328,
          0.13913442368233883,
          -1.0451538243175176,
          -0.7354305394104096,
          -0.9370568016273432,
          -0.6053422663242617,
          -1.1590867740964192,
          -0.24342391430658722,
          -1.5380561501563033,
          1.6545408733006963,
          3.7245083871152005,
          -1.2405192476821891,
          -0.1653922183877159,
          -0.5714663810364169,
          0.026600955603290163,
          -0.24051359363896,
          -1.4663968928897169,
          -1.2344678777892073,
          0.11589082208547122,
          -0.04285461478208827,
          -0.5008785776876127,
          0.4539574135108329,
          -0.2979069608893769,
          -1.6285554144631043,
          -0.03940731277831893,
          -0.7697162635170884,
          -1.0399506612653306,
          1.685282430628426,
          0.12985058526081003,
          -1.0836976688930555,
          -0.4799434085169235,
          -0.7392236800444688,
          0.30640037537495274,
          -0.24952619980627014,
          1.552092455673316,
          4.806838880355288,
          -1.1953346072637747,
          -0.18798506381878877,
          0.5512572495900092,
          -0.15748929496117725,
          -0.3065481565208558,
          -1.1761593862993243,
          -0.8632532778967068,
          -0.6774128229160318,
          -1.0074126874043918,
          0.2496239483622915,
          0.8058064242232741,
          -1.0594951378046504,
          -0.3668607200859421,
          0.018300607920572323,
          -1.1663534873011818,
          -0.6839826607037398,
          1.187239588678594,
          -0.4944336159889742,
          -0.24331985092737032,
          -0.18904683224428478,
          0.16333999647745756,
          0.14198493881191804,
          0.8239432407148481,
          0.08725940643168208,
          2.1974355394369303,
          -1.1917013368743345,
          0.8132489236512657,
          -0.9741804008593921,
          -1.1474150465527584,
          -0.05449118941168465,
          0.8344296559816625,
          -0.19570599989583568,
          -0.9454606872779215,
          -0.679667289735988,
          -0.8838484207021035,
          -0.5028123112825744,
          3.9343118213247132,
          0.35070410550193387,
          -0.046280368838664,
          -0.0820163029037218,
          -0.008986549566847787,
          -0.5739295049886105,
          0.6810207198117851,
          -0.3873023034458679,
          0.5171880864316012,
          -0.8516997665686954,
          -0.6838704842972433,
          -1.2593393006527054,
          1.4703428060819923,
          0.11158975828113891,
          -0.5884417798533564,
          1.3177808214153188,
          0.8259028136384728,
          -1.5372670978153284,
          1.4943630426823513,
          -1.0068066670904996,
          0.5758106728769645,
          0.06475559805256731,
          0.6661454740320087,
          -0.6956451269147458,
          0.4077930806394698,
          -0.6484743250859375,
          1.454739842071102,
          -0.48090256360238165,
          -0.9485979594322622,
          0.014432541212998914,
          -0.5775295045005049,
          -1.215076381410684,
          0.8910163281213854,
          1.8482451557435005,
          -1.1186459074768444,
          0.27257236191356327,
          1.0749352795054916,
          -0.6019246581827352,
          1.7082963351800426,
          -0.1837713382488892,
          -0.23863277042004624,
          0.837903016566248,
          0.5806943243683014,
          -0.588653758839782,
          -0.5077736296276937,
          0.6207725139400169,
          -0.43847023194468326,
          -0.3344303193662768,
          0.9737562526779379,
          1.344804546524568,
          -1.3935479197898935,
          0.9794770566574355,
          -1.0964770611205579,
          1.1827847694454314,
          -1.0609420497331847,
          -0.4671490654565429,
          0.6322435301646154,
          -0.6557359138843305,
          0.8596441472250046,
          1.351869480040771,
          0.32122374381166563,
          -0.16249302253702777,
          -0.9926135720464287,
          -0.8720308040904993,
          0.18527413708236554,
          0.6811864788714659,
          0.018874521622773262,
          2.4771478411252272,
          -1.0528841419240065,
          -0.6963605247719721,
          -0.40964615465194015,
          -0.2613993507543657,
          -0.6177123245214058,
          -0.8550346031018308,
          1.0108878186445371,
          2.6999881251311693,
          -0.7670417397448231,
          0.13459533693920017,
          0.3647387830938866,
          0.09003006270805353,
          1.3201897149834672,
          -1.1146301967673908,
          -0.25400246015745553,
          -0.11826027228204032,
          -0.6313735672782076,
          1.1997033761492395,
          5.510845782809523,
          -0.9543668076369674,
          -0.9120059837763583,
          1.135141011772437,
          -0.4108498426635955,
          -0.09924440789411532,
          0.21351592562291627,
          0.18539089881380155,
          -1.1051853953661057,
          2.069414809234478,
          -1.5964601984162319,
          0.4525645545058913,
          2.152100680755494,
          0.32704195631217775,
          -0.8162258028342065,
          -0.10383909738263745,
          0.9097488784764405,
          -0.2286026289791128,
          0.8689479864424733,
          3.1885086295665035,
          -1.1586684278066255,
          0.06557472008219425,
          -1.319061425352445,
          -1.081803763984391,
          -0.2691852246837871,
          0.9379407706610695,
          -0.036187487110799714,
          -1.6285554144631043,
          3.7893472295339548,
          -0.25232508177873575,
          0.14279670119771742,
          -0.11454794937253451,
          0.3754686718955544,
          -1.0383106033689755,
          0.270396337097376,
          -0.557431387278902,
          -0.7093323452908874,
          -0.5396362495712883,
          -0.1343323879823353,
          -0.9912249680848911,
          1.800189782354692,
          -0.03740547543746416,
          1.2325539597712811,
          -0.43115987961171975,
          -0.9898384055447855,
          0.548050213993092,
          -1.2803733054205817,
          -0.4610533318689989,
          -1.101332740735997,
          0.8495855185632594,
          -0.7507682230531053,
          -1.067281310137361,
          -0.38770970263520016,
          0.5364393631097956,
          0.7657952406628912,
          0.8204312286119756,
          1.34284194158193,
          -0.8185152818565441,
          -1.1110839151027203,
          -0.4106910337826295,
          3.0316725441087655,
          -0.14066321786806685,
          -1.1326716366599199,
          -0.049126308636824406,
          0.08262695569300259,
          0.5351176058327467,
          -0.6439770941556763,
          -0.9688221859674114,
          0.2699681318013452,
          1.3291370612926068,
          -0.24597703879964725,
          -0.0257683138184869,
          -0.18079151273618027,
          -1.3097029746697026,
          0.7342584851159689,
          -0.8861992310524786,
          -1.244679372128077,
          5.3690984149863485,
          -0.003918823745996771,
          -1.2334583180156622,
          0.09666348245830253,
          -0.024131815615136134,
          -0.595217706162158,
          -0.981599426338125,
          0.31727172007237914,
          0.2599262448342662,
          -0.9543344777847038,
          -0.10379240273107891,
          0.6503991937976825,
          0.13640034722878155,
          -0.49568512784357877,
          -0.8777951240294377,
          -0.24659610493769243,
          -0.4916346018606905,
          -0.6364347730179645,
          -0.2856538952841936,
          -1.2735292521895965,
          -1.6285554144631043,
          -1.5143553557662766,
          -0.23266381200938427,
          3.3993190490227816,
          0.6801433001633626,
          0.07449701726565632
         ],
         "xaxis": "x",
         "y": [
          0.3436923408752459,
          0.7452200826388711,
          -0.8757776051948839,
          0.16611192790745966,
          -0.3078143115442549,
          -0.5479349463844998,
          -0.2847887122135075,
          -1.9255508710443308,
          0.5182846862320444,
          1.0787274748941538,
          0.0907087878692617,
          -0.01216656753106585,
          -0.617987263338512,
          -0.5239060782005076,
          1.0463615512960722,
          -0.3900453582598683,
          0.7674357224178515,
          -0.5548986731572717,
          -0.28485558606348055,
          0.016083615362485683,
          0.9008110707366696,
          -0.5567139265967954,
          0.7050816500922181,
          0.4382494445858861,
          0.6914343929792455,
          -1.0580052354786718,
          -1.2873655479564143,
          0.8457482283473543,
          1.138846147078104,
          0.3416933673864955,
          0.5550263356671511,
          -0.004390678866023293,
          0.21463965182506423,
          -0.5651020934095251,
          -1.5306755407577604,
          0.3009705679115938,
          1.5145975380189847,
          -1.7083079667894623,
          0.01149606076434974,
          0.7700794709843061,
          -0.1425277137994026,
          -0.13100622837443793,
          -1.485374761386838,
          1.3120457768532958,
          0.8537068710604148,
          -0.4495962602325382,
          -0.5449128468458964,
          0.5113628165945848,
          0.6541753928944353,
          0.0008291897816839539,
          -0.16473865115080213,
          -0.6597531823683109,
          -0.6225354707759716,
          -5.051664458142381,
          2.535382096996598,
          0.042793488251004756,
          -1.483371713388897,
          0.5173650452375633,
          0.07151978679569553,
          0.26114271667342565,
          0.34261666890012493,
          -0.16557672623574662,
          -1.9882107115341463,
          0.019093032508547318,
          -0.7048383393719071,
          0.014914058708015468,
          0.4189421939388559,
          -0.4255049734015048,
          -0.5660367247131634,
          0.11127903474133703,
          0.20852579648310451,
          1.746789490512059,
          0.0017848416563865112,
          -1.4245008024759618,
          -1.5190660354878767,
          -1.1845433555181555,
          1.9154007385793432,
          -0.6494358889478755,
          0.9851985272783629,
          -0.9655522866401053,
          -1.5051225787699327,
          0.7929735704400064,
          1.4493870030182283,
          -0.32565644769799296,
          -1.7740553974102986,
          -0.7765627825374934,
          0.18889062445305968,
          -0.015479357886729661,
          -0.05520108078571594,
          0.7607243218059602,
          1.8164802858545812,
          -0.27366489055385174,
          -0.6809363309551989,
          -1.1414585811757343,
          -0.01371701898892702,
          0.41811320607050056,
          0.12476214549782919,
          1.0900799534685985,
          -0.546748388373806,
          -1.2094791268568004,
          -1.0266839395347753,
          -1.3603545054263733,
          -0.13619821284801878,
          -0.7857849928572339,
          -0.2528069715774482,
          -0.2000500487662037,
          1.149498993199611,
          -0.2929015061933661,
          0.20245339122632863,
          -0.20483718785320806,
          -0.3096922620651321,
          -1.095101477379232,
          -0.6764352778824732,
          0.9692158613121928,
          -0.14435936528732118,
          -0.8491313258191425,
          0.9181645912141365,
          1.2077662508266043,
          -0.4587189043718355,
          -1.8350344404034458,
          1.4843552709996126,
          1.6592906827876126,
          -0.6053843509578252,
          -0.7293179803385063,
          -1.7372716695422887,
          1.1909485313828634,
          0.8254217355069803,
          1.5426592488358453,
          1.729570514453559,
          -0.7071173879129745,
          1.0037506539657215,
          -0.3075743269494639,
          -0.04816318129541295,
          0.09391405235417832,
          -0.3605975863663334,
          -0.5123668987901898,
          2.0569317333928105,
          -0.4991002049588167,
          -0.5270969129760817,
          0.6943829666845446,
          0.26627640639597133,
          0.5551032433311632,
          -0.5020961190538082,
          -0.34072743015924345,
          -1.3526811328993433,
          0.08499502209339482,
          3.6483088954538094,
          -0.628620456433936,
          0.045790034835268466,
          1.6606052232482482,
          0.35059699730339416,
          -0.21238269657403117,
          0.7101386412660446,
          0.37255162886717286,
          0.3232045390447987,
          0.4110147465567565,
          0.08835366130914726,
          -0.04920207307881145,
          -0.3273020289981219,
          -0.2796874501580601,
          0.5621126219149735,
          0.5012357603482369,
          0.5354125932799588,
          -1.9474039594518187,
          -0.24141277960298047,
          -0.5158846017571316,
          -1.3348732250844677,
          0.5166939558632122,
          -0.5835666897910419,
          0.3559949858255998,
          -0.16042180641144477,
          -0.23034965406263255,
          -1.3631466260846752,
          -0.5939992552004448,
          0.8882160439542739,
          0.6475357421398711,
          0.9470706150077962,
          0.4782778584532774,
          -0.5005525121582839,
          -0.7176735667356899,
          -0.33945813798605784,
          -0.1410221092870297,
          -0.7222160264799233,
          0.75805230104558,
          -1.3341497551486459,
          0.0823986421650455,
          -0.44759177612273804,
          -0.2527608816642637,
          0.6607655776525825,
          3.2950233794841917,
          0.2577394365116304,
          0.1878903241533128,
          -0.0515467659711111,
          -1.5705060095740364,
          1.4471891263153747,
          -0.8083949547893456,
          0.014190499144283835,
          -0.5835901885016627,
          0.8115341168426303,
          1.0505796910597134,
          -0.452682902277793,
          0.4762724244274913,
          -2.3790241415422764,
          1.2015673298307656,
          0.3423864162574448,
          -0.49827281848454336,
          1.1477472192154667,
          0.03923532343942361,
          -0.4534416733862307,
          -1.533796418537779,
          0.42665152894858493,
          -0.07202450617604453,
          -1.44747214078495,
          -0.39408259074709073,
          0.10350037887792514,
          -0.9290318864747524,
          -0.5697193046509746,
          -0.104359815971065,
          -1.2781434012875996,
          0.6573037705011655,
          -5.218460882941966,
          -0.3872725563640255,
          0.4562879934664618,
          0.38439941152802526,
          -1.8921719626970794,
          -0.3164121130615216,
          1.0151376195343254,
          0.7076369314563555,
          0.07490957508931546,
          1.6826993912834873,
          -0.21464219817039581,
          -1.4006650161311385,
          -1.4521605004066562,
          -0.0766334975355122,
          1.1335979234391451,
          0.5996485329303758,
          1.6036652462519343,
          0.1601150842948933,
          -0.18428444659248447,
          0.4969876368651806,
          0.2639534019253599,
          0.9442480513006458,
          -0.795029897795231,
          -0.33393119607670113,
          -1.7224412131909208,
          -1.0727932138017355,
          -0.5456913691828466,
          0.3342704533254809,
          0.23235598540295546,
          -0.08176220065591658,
          1.8731520067221301,
          0.049980461356829126,
          -0.7551362185091037,
          -0.08146411954048262,
          0.12296660304158165,
          0.6672780983230369,
          1.1682264169727827,
          1.4125832033359136,
          0.025068746398890666,
          -0.7756265325509099,
          0.6464606615516751,
          5.55843429525782,
          -2.139294914321416,
          0.3009705679115938,
          1.5279710781059643,
          1.2845209583469572,
          1.0623098695124438,
          0.7269434807352368,
          -1.471192172950267,
          -0.24171569403706517,
          -0.2758537412386808,
          0.5598093769017685,
          1.0461419807751038,
          0.9897724054673994,
          -0.4373153356248149,
          -0.14677926498210347,
          0.5293700884898438,
          -1.051822338564738,
          -0.5970099125132511,
          -1.1210351109521328,
          0.10942767499578845,
          0.5191297617404864,
          -0.01506038831804621,
          -0.36895572708489216,
          -0.44582656023678935,
          1.4449539872565715,
          0.44376117812747395,
          -0.7785200105172592,
          1.1683603603880035,
          1.4086046156085796,
          -1.3077219662018824,
          0.6029181092894434,
          -0.12762387475591172,
          0.24840298375351366,
          -1.3527295498790712,
          -1.0556942933999351,
          0.9616336985629932,
          0.9441862368422536,
          2.6156314686270616,
          0.9298214552100704,
          0.05448208771873313,
          -1.277202796604912,
          0.3095103408703681,
          0.9118221799406104,
          -0.5859849655777178,
          -1.8081544213313367,
          1.430827045586622,
          -1.8267175668240574,
          1.8913411862315188,
          -0.8214956998474289,
          -0.646658411977769,
          -0.2524176732861183,
          -0.6084567227407962,
          -0.2682525907482283,
          -0.4075666935240228,
          0.34590720917019707,
          4.401188687458723,
          0.01895550050034265,
          -1.0430773120574415,
          0.6837018606604406,
          -0.2125484794871955,
          -0.3318964372705818,
          -0.9774888275468177,
          1.3823016404083188,
          -0.978330436791008,
          -0.2688695174357125,
          0.28223202360356503,
          -0.25740203311340015,
          2.127671512894779,
          0.5323884427294259,
          -0.619117388031516,
          0.10204547642782874,
          -0.09047552055836777,
          -0.2032423869419539,
          0.4177005840115309,
          2.0949030229411756,
          -0.05523629429915916,
          -0.2534107648915746,
          -1.412120582027026,
          -1.6280993322234494,
          -0.43898704044333575,
          -0.27604493858341705,
          -0.6822222555374552,
          -1.1778344211277618,
          -3.1358606423014996,
          0.3175397784657752,
          -0.27416982488503,
          -0.8794835460453269,
          -0.6110013168775047,
          0.5173816153455719,
          -0.09454205763694148,
          -0.37684248504418444,
          0.2330685200719729,
          1.1255741527309804,
          -0.2549826672811467,
          2.6719978471972765,
          -1.329138669003403,
          0.9492687940272723,
          -1.012600201982782,
          -0.023933761476363044,
          -1.067910394367056,
          0.1388659306600697,
          1.1029594498807171,
          0.5170063010388238,
          0.09211152699948479,
          -0.04003493079163557,
          -0.12551281073940093,
          1.051556818161378,
          -0.708200539714442,
          -0.46829874456178155,
          -0.9581622808386749,
          -0.04227070545626509,
          0.6612134585861383,
          -0.44005099205668324,
          -0.9577228359334071,
          -0.43879275548169105,
          1.4715809076568198,
          -0.10321108410099694,
          -0.0463410933518048,
          -0.32039720078691186,
          0.006719557218878898,
          -0.013450446930939433,
          -0.709909961462438,
          -0.03490313040579337,
          -1.4126699483710627,
          0.5132258026477167,
          1.0082834430921512,
          0.40969036445403545,
          -1.2876705583647285,
          0.42584327377792947,
          -1.386988453451371,
          1.064242125334965,
          -0.5218363210680952,
          0.6125000058042613,
          0.20075066840397424,
          0.5440346340775158,
          0.4764323290154802,
          0.05839513580394402,
          0.13403839769618503,
          0.3009705679115938,
          -0.23678716457971297,
          -0.5722241977718484,
          -0.5267755348830826,
          -0.005000141883163717,
          0.07266778571245239,
          -1.17768902178665,
          -0.1837023778786941,
          0.7160827110408137,
          -0.33831817602711395,
          -0.5882744744526603,
          0.2788140240155703,
          -0.5578898938806905,
          0.5166939558632122,
          -2.3827996634270123,
          -0.38128030556240716,
          0.2877535681839678,
          -0.5501743058135273,
          -0.5986000063654632,
          0.22319659828984112,
          0.5892615929356511,
          0.15350672321562048,
          0.13456351525159752,
          0.5122149995063007,
          0.7699950834145617,
          0.612294899933007,
          -1.1386116664088224,
          0.6630471395065687,
          0.3009705679115938,
          0.2422688726642034,
          1.5387880758080899,
          -0.24187674780053606,
          -2.4215484269379104,
          0.8415974309596268,
          -0.18519438266261326,
          0.9089889939306014,
          -0.48663847171123886,
          0.3051785019259713,
          -0.3172146583273281,
          0.19952121506902487,
          -0.4749824970951777,
          0.20420740379179533,
          -0.9195499639381851,
          -1.516811125915969,
          0.19992990036346142,
          -0.8332295309033225,
          0.94593463312433,
          -0.39406412908924354,
          -0.5235062212462759,
          1.2126916034718744,
          0.5027629292128253,
          -1.7251492993055957,
          -0.17527063451935487,
          -0.7776293864588362,
          -0.7949101012669001,
          -0.12888665099088356,
          -0.5231483328369226,
          -0.437339814024955,
          1.0496738813344566,
          0.26287959954272955,
          -0.936273888243677,
          -0.1332667527905865,
          0.05173974620682129,
          0.687258199197818,
          -0.44077135516132515,
          1.5880133552891158,
          -0.04126616742261493,
          0.624178201726566,
          -0.2057509843914536,
          -0.0948292513323109,
          1.0727417911725863,
          0.9925029921881909,
          -0.3722229847096189,
          -0.2248127304663944,
          -0.5367117993762099,
          0.011504425156495357,
          -0.6728541865734912,
          -1.6431294674171733,
          0.7264105745934797,
          -1.0449602974420835,
          -1.0146661869277696,
          -1.075753544284524,
          -0.625328698127194,
          -0.5123695531356476,
          -0.7499032811709916,
          0.7800229300865095,
          0.5326347275926312,
          -0.5171678893113836,
          0.01127167232687682,
          0.29912297280343697,
          0.27324088142413017,
          -0.6087765613754834,
          -0.00732786573675088,
          -1.432626711539093,
          0.5175887416956803,
          1.3324087124631603,
          -0.2823537892484855,
          0.12540099711191663,
          0.31514853452260244,
          -1.6138893815918598,
          -0.5343307952156937,
          0.6410123764869406,
          -0.2688924149217376,
          -0.31143226570899224,
          -0.48565215517055493,
          -0.32327316461699024,
          1.6365644804244595,
          0.8188312681441935,
          -0.03140760920799336,
          0.15498670966583808,
          2.4823007419104717,
          -0.11703287872281182,
          0.14193215122506705,
          -0.4595855309176863,
          -0.5906998898958077,
          0.4272655964081683,
          0.07736544626049918,
          0.7111869390803768,
          0.3603148670488291,
          1.0254612318564749,
          -0.6161456841445522,
          1.7981321254463727,
          0.6256383284060419,
          -0.7157980775915971,
          0.08560538222706142,
          0.6457519979292993,
          1.5981804505311648,
          0.11502537686570759,
          0.37014763108125764,
          1.1211173136979682,
          -0.7863000763036008,
          0.1763503859935408,
          0.5897863792656493,
          -0.30697772219695296,
          -0.5491205652004897,
          -1.7729743394427064,
          0.10236270349148172,
          -1.3176177290803774,
          -0.951818324658668,
          -0.27985805647302986,
          -0.3835504874142736,
          0.5750935590948782,
          -0.19819766312106207,
          1.6016402817727462,
          -1.4619786232979706,
          -0.16401694026376812,
          -0.518260137303803,
          -0.7553756304295798,
          0.2238195259479067,
          -0.26327572265716276,
          -0.3983445045717435,
          0.8760339525462996,
          -3.2069418148216915,
          -0.4203534292864256,
          -0.8527750373384091,
          0.10478655902530766,
          0.5054097877400782,
          -0.588248807049183,
          -0.09108342927954668,
          1.0220740571912628,
          0.8610661612999627,
          -0.5752493349935285,
          0.2738164950094654,
          3.3540568049341055,
          1.2539961353450475,
          1.358581918967543,
          0.6741281769034686,
          1.9268932864593238,
          -0.07016098918619518,
          -1.2291926876044708,
          -0.9265047813449616,
          1.082967765533572,
          0.51250238011239,
          0.3750656181526109,
          0.3158197010134436,
          0.42087781382829187,
          0.5783233903983618,
          0.6930185801815768,
          0.06900706527370543,
          -0.05737943005949226,
          -0.9126539642773156,
          -1.756765749840809,
          5.970868917713538,
          0.21731978893216666,
          0.5978577786472232,
          0.3392499191085716,
          -0.21292345515887712,
          2.0781162850797332,
          0.37591209507038403,
          -0.12204180528831816,
          0.3009705679115938,
          -0.6099082306243416,
          1.3395380603504101,
          0.39148306427355484,
          0.4713264974245705,
          0.02443935837399756,
          -0.2570763430020951,
          -0.21116529952934915,
          -0.6345386621731014,
          0.982520736330533,
          -0.35072651907258834,
          -0.9532881579096156,
          -0.28907102840338267,
          0.40443940780260335,
          -1.0431623160308685,
          -0.5353862790721485,
          0.7895020451888899,
          -0.2913405218530424,
          0.11828531443155865,
          0.024539927635188606,
          -0.35656888794660957,
          -0.1984111910691863,
          0.0853943598899809,
          -0.47274771757618317,
          -0.23151750775574081,
          -0.7547290059283472,
          -0.11325791434823632,
          2.3100257935291255,
          -1.6682664069678235,
          -2.1231904649237117,
          -0.4276460868112648,
          0.19066076800183826,
          -0.7215329883318569,
          1.737433446328395,
          -0.9599005746871476,
          -0.16516735237822058,
          0.09750092735916949,
          0.7020338187432211,
          -1.5230005208243371,
          -0.5664683865911352,
          1.2187541996605504,
          -0.014964384259786382,
          0.15519000698898378,
          -0.8811310565159777,
          0.46743598282931514,
          0.690658837582239,
          0.035880863908618554,
          -0.17878303648439003,
          0.017257578421843143,
          -0.05562846269525191,
          -1.8164151975217386,
          0.07079261219637993,
          -0.010307173616479532,
          -1.1610056838069123,
          1.416781218416613,
          -0.2604822664880083,
          1.2513886211042082,
          -1.3307060540564162,
          1.5359138362545155,
          0.2094433311435639,
          -0.9820590144788023,
          0.4072524959314137,
          -0.23432617522552396,
          -0.6857608718440136,
          -0.3858672777238255,
          0.9315379656579305,
          0.9961631936214829,
          -0.5830731350388068,
          -0.8340960996407237,
          0.3113391465066463,
          0.30097056791159377,
          0.5435706710532731,
          1.9593106019796818,
          -0.20725781302265284,
          0.18182313748051732,
          0.44540197482284105
         ],
         "yaxis": "y"
        }
       ],
       "layout": {
        "coloraxis": {
         "colorbar": {
          "title": {
           "text": "color"
          }
         },
         "colorscale": [
          [
           0,
           "#0d0887"
          ],
          [
           0.1111111111111111,
           "#46039f"
          ],
          [
           0.2222222222222222,
           "#7201a8"
          ],
          [
           0.3333333333333333,
           "#9c179e"
          ],
          [
           0.4444444444444444,
           "#bd3786"
          ],
          [
           0.5555555555555556,
           "#d8576b"
          ],
          [
           0.6666666666666666,
           "#ed7953"
          ],
          [
           0.7777777777777778,
           "#fb9f3a"
          ],
          [
           0.8888888888888888,
           "#fdca26"
          ],
          [
           1,
           "#f0f921"
          ]
         ]
        },
        "legend": {
         "tracegroupgap": 0
        },
        "margin": {
         "t": 60
        },
        "template": {
         "data": {
          "bar": [
           {
            "error_x": {
             "color": "#2a3f5f"
            },
            "error_y": {
             "color": "#2a3f5f"
            },
            "marker": {
             "line": {
              "color": "#E5ECF6",
              "width": 0.5
             }
            },
            "type": "bar"
           }
          ],
          "barpolar": [
           {
            "marker": {
             "line": {
              "color": "#E5ECF6",
              "width": 0.5
             }
            },
            "type": "barpolar"
           }
          ],
          "carpet": [
           {
            "aaxis": {
             "endlinecolor": "#2a3f5f",
             "gridcolor": "white",
             "linecolor": "white",
             "minorgridcolor": "white",
             "startlinecolor": "#2a3f5f"
            },
            "baxis": {
             "endlinecolor": "#2a3f5f",
             "gridcolor": "white",
             "linecolor": "white",
             "minorgridcolor": "white",
             "startlinecolor": "#2a3f5f"
            },
            "type": "carpet"
           }
          ],
          "choropleth": [
           {
            "colorbar": {
             "outlinewidth": 0,
             "ticks": ""
            },
            "type": "choropleth"
           }
          ],
          "contour": [
           {
            "colorbar": {
             "outlinewidth": 0,
             "ticks": ""
            },
            "colorscale": [
             [
              0,
              "#0d0887"
             ],
             [
              0.1111111111111111,
              "#46039f"
             ],
             [
              0.2222222222222222,
              "#7201a8"
             ],
             [
              0.3333333333333333,
              "#9c179e"
             ],
             [
              0.4444444444444444,
              "#bd3786"
             ],
             [
              0.5555555555555556,
              "#d8576b"
             ],
             [
              0.6666666666666666,
              "#ed7953"
             ],
             [
              0.7777777777777778,
              "#fb9f3a"
             ],
             [
              0.8888888888888888,
              "#fdca26"
             ],
             [
              1,
              "#f0f921"
             ]
            ],
            "type": "contour"
           }
          ],
          "contourcarpet": [
           {
            "colorbar": {
             "outlinewidth": 0,
             "ticks": ""
            },
            "type": "contourcarpet"
           }
          ],
          "heatmap": [
           {
            "colorbar": {
             "outlinewidth": 0,
             "ticks": ""
            },
            "colorscale": [
             [
              0,
              "#0d0887"
             ],
             [
              0.1111111111111111,
              "#46039f"
             ],
             [
              0.2222222222222222,
              "#7201a8"
             ],
             [
              0.3333333333333333,
              "#9c179e"
             ],
             [
              0.4444444444444444,
              "#bd3786"
             ],
             [
              0.5555555555555556,
              "#d8576b"
             ],
             [
              0.6666666666666666,
              "#ed7953"
             ],
             [
              0.7777777777777778,
              "#fb9f3a"
             ],
             [
              0.8888888888888888,
              "#fdca26"
             ],
             [
              1,
              "#f0f921"
             ]
            ],
            "type": "heatmap"
           }
          ],
          "heatmapgl": [
           {
            "colorbar": {
             "outlinewidth": 0,
             "ticks": ""
            },
            "colorscale": [
             [
              0,
              "#0d0887"
             ],
             [
              0.1111111111111111,
              "#46039f"
             ],
             [
              0.2222222222222222,
              "#7201a8"
             ],
             [
              0.3333333333333333,
              "#9c179e"
             ],
             [
              0.4444444444444444,
              "#bd3786"
             ],
             [
              0.5555555555555556,
              "#d8576b"
             ],
             [
              0.6666666666666666,
              "#ed7953"
             ],
             [
              0.7777777777777778,
              "#fb9f3a"
             ],
             [
              0.8888888888888888,
              "#fdca26"
             ],
             [
              1,
              "#f0f921"
             ]
            ],
            "type": "heatmapgl"
           }
          ],
          "histogram": [
           {
            "marker": {
             "colorbar": {
              "outlinewidth": 0,
              "ticks": ""
             }
            },
            "type": "histogram"
           }
          ],
          "histogram2d": [
           {
            "colorbar": {
             "outlinewidth": 0,
             "ticks": ""
            },
            "colorscale": [
             [
              0,
              "#0d0887"
             ],
             [
              0.1111111111111111,
              "#46039f"
             ],
             [
              0.2222222222222222,
              "#7201a8"
             ],
             [
              0.3333333333333333,
              "#9c179e"
             ],
             [
              0.4444444444444444,
              "#bd3786"
             ],
             [
              0.5555555555555556,
              "#d8576b"
             ],
             [
              0.6666666666666666,
              "#ed7953"
             ],
             [
              0.7777777777777778,
              "#fb9f3a"
             ],
             [
              0.8888888888888888,
              "#fdca26"
             ],
             [
              1,
              "#f0f921"
             ]
            ],
            "type": "histogram2d"
           }
          ],
          "histogram2dcontour": [
           {
            "colorbar": {
             "outlinewidth": 0,
             "ticks": ""
            },
            "colorscale": [
             [
              0,
              "#0d0887"
             ],
             [
              0.1111111111111111,
              "#46039f"
             ],
             [
              0.2222222222222222,
              "#7201a8"
             ],
             [
              0.3333333333333333,
              "#9c179e"
             ],
             [
              0.4444444444444444,
              "#bd3786"
             ],
             [
              0.5555555555555556,
              "#d8576b"
             ],
             [
              0.6666666666666666,
              "#ed7953"
             ],
             [
              0.7777777777777778,
              "#fb9f3a"
             ],
             [
              0.8888888888888888,
              "#fdca26"
             ],
             [
              1,
              "#f0f921"
             ]
            ],
            "type": "histogram2dcontour"
           }
          ],
          "mesh3d": [
           {
            "colorbar": {
             "outlinewidth": 0,
             "ticks": ""
            },
            "type": "mesh3d"
           }
          ],
          "parcoords": [
           {
            "line": {
             "colorbar": {
              "outlinewidth": 0,
              "ticks": ""
             }
            },
            "type": "parcoords"
           }
          ],
          "pie": [
           {
            "automargin": true,
            "type": "pie"
           }
          ],
          "scatter": [
           {
            "marker": {
             "colorbar": {
              "outlinewidth": 0,
              "ticks": ""
             }
            },
            "type": "scatter"
           }
          ],
          "scatter3d": [
           {
            "line": {
             "colorbar": {
              "outlinewidth": 0,
              "ticks": ""
             }
            },
            "marker": {
             "colorbar": {
              "outlinewidth": 0,
              "ticks": ""
             }
            },
            "type": "scatter3d"
           }
          ],
          "scattercarpet": [
           {
            "marker": {
             "colorbar": {
              "outlinewidth": 0,
              "ticks": ""
             }
            },
            "type": "scattercarpet"
           }
          ],
          "scattergeo": [
           {
            "marker": {
             "colorbar": {
              "outlinewidth": 0,
              "ticks": ""
             }
            },
            "type": "scattergeo"
           }
          ],
          "scattergl": [
           {
            "marker": {
             "colorbar": {
              "outlinewidth": 0,
              "ticks": ""
             }
            },
            "type": "scattergl"
           }
          ],
          "scattermapbox": [
           {
            "marker": {
             "colorbar": {
              "outlinewidth": 0,
              "ticks": ""
             }
            },
            "type": "scattermapbox"
           }
          ],
          "scatterpolar": [
           {
            "marker": {
             "colorbar": {
              "outlinewidth": 0,
              "ticks": ""
             }
            },
            "type": "scatterpolar"
           }
          ],
          "scatterpolargl": [
           {
            "marker": {
             "colorbar": {
              "outlinewidth": 0,
              "ticks": ""
             }
            },
            "type": "scatterpolargl"
           }
          ],
          "scatterternary": [
           {
            "marker": {
             "colorbar": {
              "outlinewidth": 0,
              "ticks": ""
             }
            },
            "type": "scatterternary"
           }
          ],
          "surface": [
           {
            "colorbar": {
             "outlinewidth": 0,
             "ticks": ""
            },
            "colorscale": [
             [
              0,
              "#0d0887"
             ],
             [
              0.1111111111111111,
              "#46039f"
             ],
             [
              0.2222222222222222,
              "#7201a8"
             ],
             [
              0.3333333333333333,
              "#9c179e"
             ],
             [
              0.4444444444444444,
              "#bd3786"
             ],
             [
              0.5555555555555556,
              "#d8576b"
             ],
             [
              0.6666666666666666,
              "#ed7953"
             ],
             [
              0.7777777777777778,
              "#fb9f3a"
             ],
             [
              0.8888888888888888,
              "#fdca26"
             ],
             [
              1,
              "#f0f921"
             ]
            ],
            "type": "surface"
           }
          ],
          "table": [
           {
            "cells": {
             "fill": {
              "color": "#EBF0F8"
             },
             "line": {
              "color": "white"
             }
            },
            "header": {
             "fill": {
              "color": "#C8D4E3"
             },
             "line": {
              "color": "white"
             }
            },
            "type": "table"
           }
          ]
         },
         "layout": {
          "annotationdefaults": {
           "arrowcolor": "#2a3f5f",
           "arrowhead": 0,
           "arrowwidth": 1
          },
          "autotypenumbers": "strict",
          "coloraxis": {
           "colorbar": {
            "outlinewidth": 0,
            "ticks": ""
           }
          },
          "colorscale": {
           "diverging": [
            [
             0,
             "#8e0152"
            ],
            [
             0.1,
             "#c51b7d"
            ],
            [
             0.2,
             "#de77ae"
            ],
            [
             0.3,
             "#f1b6da"
            ],
            [
             0.4,
             "#fde0ef"
            ],
            [
             0.5,
             "#f7f7f7"
            ],
            [
             0.6,
             "#e6f5d0"
            ],
            [
             0.7,
             "#b8e186"
            ],
            [
             0.8,
             "#7fbc41"
            ],
            [
             0.9,
             "#4d9221"
            ],
            [
             1,
             "#276419"
            ]
           ],
           "sequential": [
            [
             0,
             "#0d0887"
            ],
            [
             0.1111111111111111,
             "#46039f"
            ],
            [
             0.2222222222222222,
             "#7201a8"
            ],
            [
             0.3333333333333333,
             "#9c179e"
            ],
            [
             0.4444444444444444,
             "#bd3786"
            ],
            [
             0.5555555555555556,
             "#d8576b"
            ],
            [
             0.6666666666666666,
             "#ed7953"
            ],
            [
             0.7777777777777778,
             "#fb9f3a"
            ],
            [
             0.8888888888888888,
             "#fdca26"
            ],
            [
             1,
             "#f0f921"
            ]
           ],
           "sequentialminus": [
            [
             0,
             "#0d0887"
            ],
            [
             0.1111111111111111,
             "#46039f"
            ],
            [
             0.2222222222222222,
             "#7201a8"
            ],
            [
             0.3333333333333333,
             "#9c179e"
            ],
            [
             0.4444444444444444,
             "#bd3786"
            ],
            [
             0.5555555555555556,
             "#d8576b"
            ],
            [
             0.6666666666666666,
             "#ed7953"
            ],
            [
             0.7777777777777778,
             "#fb9f3a"
            ],
            [
             0.8888888888888888,
             "#fdca26"
            ],
            [
             1,
             "#f0f921"
            ]
           ]
          },
          "colorway": [
           "#636efa",
           "#EF553B",
           "#00cc96",
           "#ab63fa",
           "#FFA15A",
           "#19d3f3",
           "#FF6692",
           "#B6E880",
           "#FF97FF",
           "#FECB52"
          ],
          "font": {
           "color": "#2a3f5f"
          },
          "geo": {
           "bgcolor": "white",
           "lakecolor": "white",
           "landcolor": "#E5ECF6",
           "showlakes": true,
           "showland": true,
           "subunitcolor": "white"
          },
          "hoverlabel": {
           "align": "left"
          },
          "hovermode": "closest",
          "mapbox": {
           "style": "light"
          },
          "paper_bgcolor": "white",
          "plot_bgcolor": "#E5ECF6",
          "polar": {
           "angularaxis": {
            "gridcolor": "white",
            "linecolor": "white",
            "ticks": ""
           },
           "bgcolor": "#E5ECF6",
           "radialaxis": {
            "gridcolor": "white",
            "linecolor": "white",
            "ticks": ""
           }
          },
          "scene": {
           "xaxis": {
            "backgroundcolor": "#E5ECF6",
            "gridcolor": "white",
            "gridwidth": 2,
            "linecolor": "white",
            "showbackground": true,
            "ticks": "",
            "zerolinecolor": "white"
           },
           "yaxis": {
            "backgroundcolor": "#E5ECF6",
            "gridcolor": "white",
            "gridwidth": 2,
            "linecolor": "white",
            "showbackground": true,
            "ticks": "",
            "zerolinecolor": "white"
           },
           "zaxis": {
            "backgroundcolor": "#E5ECF6",
            "gridcolor": "white",
            "gridwidth": 2,
            "linecolor": "white",
            "showbackground": true,
            "ticks": "",
            "zerolinecolor": "white"
           }
          },
          "shapedefaults": {
           "line": {
            "color": "#2a3f5f"
           }
          },
          "ternary": {
           "aaxis": {
            "gridcolor": "white",
            "linecolor": "white",
            "ticks": ""
           },
           "baxis": {
            "gridcolor": "white",
            "linecolor": "white",
            "ticks": ""
           },
           "bgcolor": "#E5ECF6",
           "caxis": {
            "gridcolor": "white",
            "linecolor": "white",
            "ticks": ""
           }
          },
          "title": {
           "x": 0.05
          },
          "xaxis": {
           "automargin": true,
           "gridcolor": "white",
           "linecolor": "white",
           "ticks": "",
           "title": {
            "standoff": 15
           },
           "zerolinecolor": "white",
           "zerolinewidth": 2
          },
          "yaxis": {
           "automargin": true,
           "gridcolor": "white",
           "linecolor": "white",
           "ticks": "",
           "title": {
            "standoff": 15
           },
           "zerolinecolor": "white",
           "zerolinewidth": 2
          }
         }
        },
        "xaxis": {
         "anchor": "y",
         "domain": [
          0,
          1
         ],
         "title": {
          "text": "PC 1"
         }
        },
        "yaxis": {
         "anchor": "x",
         "domain": [
          0,
          1
         ],
         "title": {
          "text": "PC 2"
         }
        }
       }
      },
      "text/html": [
       "<div>                            <div id=\"859393ac-f04d-40cd-b73a-eb2fc0e40fc6\" class=\"plotly-graph-div\" style=\"height:525px; width:100%;\"></div>            <script type=\"text/javascript\">                require([\"plotly\"], function(Plotly) {                    window.PLOTLYENV=window.PLOTLYENV || {};                                    if (document.getElementById(\"859393ac-f04d-40cd-b73a-eb2fc0e40fc6\")) {                    Plotly.newPlot(                        \"859393ac-f04d-40cd-b73a-eb2fc0e40fc6\",                        [{\"hovertemplate\": \"PC 1=%{x}<br>PC 2=%{y}<br>color=%{marker.color}<extra></extra>\", \"legendgroup\": \"\", \"marker\": {\"color\": [1, 1, 1, 2, 1, 2, 1, 0, 2, 2, 2, 2, 2, 2, 2, 2, 2, 1, 2, 1, 1, 2, 1, 1, 2, 0, 1, 2, 2, 1, 2, 1, 1, 0, 0, 2, 2, 0, 2, 2, 1, 1, 0, 1, 2, 2, 1, 2, 1, 1, 3, 1, 0, 0, 2, 2, 0, 2, 2, 1, 0, 1, 0, 1, 1, 1, 1, 2, 1, 1, 1, 2, 2, 1, 0, 1, 3, 2, 2, 1, 0, 1, 2, 1, 0, 1, 1, 2, 2, 2, 2, 2, 2, 0, 1, 3, 2, 1, 1, 0, 1, 0, 1, 1, 2, 2, 1, 2, 1, 1, 2, 1, 1, 2, 2, 1, 2, 1, 2, 0, 2, 1, 2, 1, 0, 2, 2, 2, 2, 2, 2, 2, 2, 2, 2, 2, 2, 2, 1, 1, 2, 1, 1, 1, 0, 2, 3, 1, 2, 2, 2, 1, 1, 1, 1, 2, 2, 2, 1, 2, 2, 1, 2, 0, 0, 1, 0, 2, 1, 2, 1, 2, 1, 1, 2, 1, 1, 1, 1, 1, 2, 2, 2, 1, 0, 2, 2, 2, 1, 3, 1, 2, 2, 0, 1, 2, 2, 2, 1, 2, 1, 2, 0, 2, 1, 1, 2, 2, 2, 0, 1, 1, 0, 2, 1, 1, 2, 1, 1, 1, 0, 2, 1, 1, 0, 1, 2, 2, 2, 3, 1, 0, 0, 2, 1, 1, 2, 3, 2, 1, 2, 2, 1, 2, 0, 0, 0, 2, 1, 1, 2, 2, 1, 1, 1, 1, 2, 2, 1, 2, 2, 3, 0, 2, 2, 2, 2, 2, 0, 2, 2, 2, 1, 2, 1, 1, 2, 1, 2, 1, 1, 2, 2, 2, 1, 1, 1, 1, 3, 2, 0, 2, 1, 1, 0, 1, 1, 2, 3, 1, 2, 0, 1, 2, 1, 0, 2, 0, 1, 1, 1, 2, 2, 1, 2, 2, 3, 2, 1, 1, 1, 2, 1, 2, 0, 2, 1, 2, 2, 1, 0, 1, 1, 2, 2, 3, 2, 2, 1, 1, 2, 2, 1, 0, 0, 1, 3, 0, 1, 2, 2, 1, 1, 3, 2, 2, 0, 2, 0, 2, 1, 1, 1, 2, 1, 2, 2, 2, 2, 1, 1, 2, 1, 2, 1, 0, 2, 2, 2, 1, 2, 1, 2, 2, 0, 1, 2, 1, 0, 1, 0, 2, 2, 1, 2, 2, 2, 1, 2, 2, 1, 2, 2, 1, 2, 0, 2, 2, 2, 2, 2, 1, 2, 0, 3, 2, 2, 2, 1, 2, 2, 2, 1, 1, 2, 1, 2, 2, 1, 2, 2, 0, 2, 2, 1, 2, 1, 1, 0, 3, 2, 1, 0, 1, 1, 2, 2, 2, 2, 1, 0, 2, 2, 1, 2, 2, 0, 2, 1, 1, 1, 2, 1, 2, 3, 2, 1, 1, 1, 2, 1, 1, 1, 1, 1, 2, 0, 1, 1, 1, 1, 1, 1, 1, 2, 1, 2, 2, 0, 1, 2, 1, 0, 2, 1, 2, 1, 1, 0, 2, 2, 2, 1, 1, 2, 1, 2, 2, 1, 3, 1, 1, 1, 2, 1, 1, 2, 1, 1, 1, 2, 1, 1, 1, 1, 3, 2, 1, 2, 1, 2, 2, 1, 1, 0, 0, 0, 1, 2, 2, 1, 1, 1, 0, 1, 2, 1, 1, 2, 2, 1, 0, 2, 0, 1, 1, 0, 2, 2, 2, 1, 0, 3, 2, 2, 1, 2, 1, 1, 0, 2, 1, 2, 1, 1, 1, 2, 1, 1, 1, 0, 3, 2, 2, 2, 2, 2, 1, 1, 2, 3, 1, 1, 2, 1, 2, 1, 1, 2, 1, 1, 2, 1, 0, 0, 2, 2, 1, 2, 2, 2, 1, 2, 2, 1, 1, 1, 0, 0, 2, 2, 2, 3, 1, 2, 1, 1, 0, 1, 2, 1, 1, 1, 2, 2, 2, 1, 1, 2, 3, 1, 2, 1, 1, 2, 2, 1, 1, 2, 1, 1, 1, 1, 2, 2, 1, 1, 1, 2, 2, 2, 2, 3, 2, 2], \"coloraxis\": \"coloraxis\", \"symbol\": \"circle\"}, \"mode\": \"markers\", \"name\": \"\", \"orientation\": \"v\", \"showlegend\": false, \"type\": \"scatter\", \"x\": [1.0230636884787327, 0.7336935093146256, -0.2656284917353101, -0.20007767418246564, -0.34376986173005597, -0.6527345335727276, 0.708322028582904, 1.0773013665416995, -1.5366533904390143, -1.1089246267375037, -1.0074441746884713, -1.2261865584158573, -0.13840122115830908, -0.6826823346572833, -1.112532765676222, -0.8538423165586096, -0.3259928543324686, -0.5082514695737759, -0.9935948511966005, 0.7483011506638657, 0.6986645913158431, -0.6403510970857247, 0.3838700290675849, 1.0959452033803856, -0.37623830778787193, 0.06635542948664801, 0.2794874678687841, -1.2894403634047544, -1.0309767282894338, 0.2414857373283343, 0.6916816339293991, 0.41340557817833945, 0.47446288067773906, 2.1333806864096547, 0.5834704349560511, -1.6285554144631043, -0.724559696952115, 0.787700567006672, -1.2575776623579624, 0.6412631581124377, 0.5286620938181197, -1.0925578878221134, 0.9065209831742617, -0.18717272150217223, -1.265800013931773, -0.7637608587522187, -0.6799973504852939, -0.008038401170477784, -0.36278402560761996, 0.17112586519454212, 4.378965946310412, -0.5273997396826294, 1.6130286982279276, 5.016177583523129, 0.08418074906079354, -0.007798458395078156, 0.5336489261274335, -1.537464360900572, -0.4678650465926547, 0.07950066066190425, 1.967430435402461, -1.0515013507906292, 1.2058872461833086, 0.3384749052918262, -0.47317902111526644, -0.05916782703269331, -0.08206031135996637, -0.8168579091137168, -0.6445092445569462, 0.670018009848763, -0.03360386062045351, -0.5198049980932187, -0.9396246569434518, 0.42098801921530793, 0.5772125472271648, 0.12413767827309884, 7.5267833633775645, -0.5190214488522741, -1.174779459042275, -0.1360757008359775, 0.5511705019997297, 0.8892918765414747, -0.8069977718532947, -0.5180567190293213, 0.8903543251655546, -0.37906425223613427, 0.520457646260061, -1.2314019083638712, -1.179858745601818, -0.9190421494345132, -0.5331489770590739, -0.587146998356858, -0.07180552917032107, 0.086989352613067, 0.41084847250482803, 2.5996206628942113, -1.099485965760144, -0.21739191332373548, -0.5816214069258122, 0.18202390492913587, 0.33459222825911006, 0.35115321958113593, 0.6202835244824735, -0.36824257823280954, -0.5779572538356289, -1.0531472793206922, -0.25048639396436473, -0.5949548619475917, -0.1242573908571485, 0.3620307330871622, -0.5224434825985832, 0.031153327008541502, -0.5236434106709181, -0.7006309348099293, -1.1614891020870088, -0.27224145220385965, -1.2089590212207963, -0.31736055491405324, -0.7711366283947383, 1.381647449064216, -0.8177169475930677, 0.0660665572140069, -0.5883436817315029, -0.4431707269321868, 0.8484146744139642, -1.009964312306889, -1.2990538758093195, -0.7496803827413349, -0.5516114219934996, -0.4557832977124817, -0.7454645298401764, -0.9403374567557706, -0.1132102132765958, -0.48900293603904227, -0.8991956334953217, -0.7091430909843477, -0.28786647721878195, -0.3222245601587729, -0.6130909691901517, 1.3290728653479895, -0.3835179295157163, 0.3684875123338529, 0.1668039882347586, -0.25478224670871896, 0.36567446177930807, -0.3305993509880677, 5.568228047730128, -0.5711680621924305, -0.9451860509932399, 0.6100333820682945, -0.4987445009055848, 1.289629123332065, 1.9476974267105351, -0.30026466379357014, 0.25660907019377405, -0.6220880927298102, -1.0152939952083566, -1.1949022399699918, -0.007334549816702915, -0.6324344695866886, -1.4980044378116277, 0.3009283895669922, -1.051435717807187, 1.479496357807604, 2.566547650098867, -0.7149248466083569, 0.9571727522707677, -1.5380561501563033, -0.6222727500456695, -1.4806954692591265, 0.272969954784602, -0.5852875413423468, 0.3534163267438993, -0.37119262192765856, -0.6012344540964665, 1.0258873061680909, 0.7105219785899753, 0.1871061064519291, 0.15016640090784608, -0.06207470408338056, -0.8987406123505429, -0.1466868738977822, -0.4340815412987519, 0.7849032740465254, 0.360310572989557, -0.5369826030372126, -0.756061212287482, -1.019175653406188, 1.3827907858800979, 7.9348422115001345, 0.14209777153947212, -1.5049241678616325, -1.1842409247574635, 0.6210467444979427, 1.1846479708602196, -0.3353263055051986, -1.2611521340605205, -0.6169482771151306, -0.0006474578058829793, 0.6797433835447947, 0.05706794734356841, -0.4294030483266494, 1.6556809730448887, -0.9673559979719535, 0.7564010896213567, 0.4517906914221858, -1.0231274625184272, -1.2875124928984292, -0.7542685983709525, 2.847797135512655, 0.10799111537035802, 1.095443542076795, 0.4933932510179356, -0.4738938913961105, 0.2413971496476933, -0.2028420109138496, -0.6118783876599954, 0.10752794513447188, 0.24372795868572814, 0.11105142024723233, 5.220251828840467, -0.8198070165518403, 0.7317206757088136, 0.1571933234196482, 1.0523046593702208, 0.4841550691425738, -1.1400670823328596, 0.5099396269258399, -1.341016292415688, 2.3773399099183457, -0.4211389810688586, 0.5030336779542651, 0.49199218014950336, -0.7444076608089643, 0.4577064809983257, 0.6528798302078446, -0.7208164602711971, 3.1536299298647505, 0.2328571615910839, 0.5108341683885605, -1.5801344715383705, -1.1942688208338685, -0.358988728011711, -0.5096440882622082, 0.7995473344106965, -0.011989247991002977, 0.7052931733674926, -0.5175155550595038, -0.19999403155710377, 2.2804561927480704, -0.4249964170568444, -1.014018550993677, -0.4098566502152441, -1.1575945582092915, -0.18632457492891494, 0.04598568405011588, -1.013379289765185, -0.8726969038707765, -0.037944409543175434, -0.3804923371470229, -0.8604502256497745, 6.148237495130936, 1.3346709844322704, -1.6285554144631043, -0.6712110835981003, -0.9108268389057488, -0.4292927836330207, -0.7914377859708912, 0.5022707703899911, -1.044477284612863, -0.9889524581505742, -1.500035516985619, 1.06541314499406, -0.7535896728473017, -0.4287373212238948, 0.0016187637328737158, -1.5268779086591575, -0.030595915887179997, -0.6050967845195167, 0.07795393711916021, -0.29175399568042476, -1.5359081743392047, -0.8774560513907591, -0.8414674798414622, -0.12185871609774732, -0.16294530372851412, 1.0342023388106771, -0.3898342825459325, 3.5566764731437197, -0.7847835330487173, 0.2869978880200366, -0.12718027419484842, -0.34977182071325785, -0.20108590526901388, 0.37012084259114825, -0.024088751397511397, 2.1411766495139455, -0.7089147813562781, 1.4464855633498863, 0.7323367818307513, -1.307739018722076, 0.26547815537307795, 0.5457572652815785, -0.756319053712065, -0.4897791960285336, 0.9459608140954177, -0.7734981192991206, 0.9446882516264503, 1.1233559373029611, -0.3065076730406194, -0.5416745268338918, -1.0455587901136494, -0.3959220507079203, 0.12034198919302332, -0.8464246819458777, -0.4614979140901487, 3.4338158592572214, -0.9496527272837838, -0.030719656453853186, 0.16416238466330943, 0.24158814212941615, -0.8781209861276017, -0.10967073335855915, -0.8079783841552948, 2.4443627371508154, -1.001982975129064, 0.5598608009735287, -1.0292528916061812, -0.2254857525909449, 0.5863438894087817, 1.4287121281118011, 1.0604719364827988, -0.14792367735948037, -1.0909855982589374, 0.2314569339226134, 2.593355386691121, -0.88431802036832, -0.9909683339310302, 0.412657540624312, 0.6575439785426955, -0.800054859594874, -0.5826470090176603, -0.11492865369191063, 1.0031949533669844, 2.6260170632781485, -0.16266424580690844, 4.964383768862209, 0.12210250052881971, -0.6015454075570422, -1.5374497488201837, -0.8615604491920403, -0.7678016719034504, 0.840348125460531, 2.2302317091889767, -0.5776196021379698, 0.33763032574744806, 0.32870518940562143, -1.1898413604761755, -0.080820014299808, -0.9275375086362311, -0.01733013755622086, 1.211337499544689, 0.9152611835555947, -0.5885838414916101, 1.191073801791579, -1.1995126524020767, 0.05355337411337087, -1.0580849547340658, -0.4717369290290428, -0.6155850712131242, -0.14970109897228137, -1.1889958293128782, -0.7806091872225239, -0.8016127610411388, -0.14152360945627326, 2.1113138788369112, -0.7458710634008086, -1.194027713785572, -0.9299414199984727, -0.8275809697085099, -0.8669598426992261, 0.42466039899568336, -0.4508608749768095, -1.2118120607131444, 0.44997487114746243, 0.2990036027627662, -1.146111326408825, 0.03299910692243791, 0.2911046304769105, 0.01513892487793423, 0.41434604903943123, -0.555903457042655, -0.6983085313499106, 0.782283870237806, -1.1735112138875115, -1.5139462175154006, -0.412684194245295, -0.22639148563394124, -0.5105112333314895, -1.6285554144631043, -0.3825649063345387, -0.6311140058918242, -0.6891998181303524, -0.711480438480219, -1.331864366458328, 0.13913442368233883, -1.0451538243175176, -0.7354305394104096, -0.9370568016273432, -0.6053422663242617, -1.1590867740964192, -0.24342391430658722, -1.5380561501563033, 1.6545408733006963, 3.7245083871152005, -1.2405192476821891, -0.1653922183877159, -0.5714663810364169, 0.026600955603290163, -0.24051359363896, -1.4663968928897169, -1.2344678777892073, 0.11589082208547122, -0.04285461478208827, -0.5008785776876127, 0.4539574135108329, -0.2979069608893769, -1.6285554144631043, -0.03940731277831893, -0.7697162635170884, -1.0399506612653306, 1.685282430628426, 0.12985058526081003, -1.0836976688930555, -0.4799434085169235, -0.7392236800444688, 0.30640037537495274, -0.24952619980627014, 1.552092455673316, 4.806838880355288, -1.1953346072637747, -0.18798506381878877, 0.5512572495900092, -0.15748929496117725, -0.3065481565208558, -1.1761593862993243, -0.8632532778967068, -0.6774128229160318, -1.0074126874043918, 0.2496239483622915, 0.8058064242232741, -1.0594951378046504, -0.3668607200859421, 0.018300607920572323, -1.1663534873011818, -0.6839826607037398, 1.187239588678594, -0.4944336159889742, -0.24331985092737032, -0.18904683224428478, 0.16333999647745756, 0.14198493881191804, 0.8239432407148481, 0.08725940643168208, 2.1974355394369303, -1.1917013368743345, 0.8132489236512657, -0.9741804008593921, -1.1474150465527584, -0.05449118941168465, 0.8344296559816625, -0.19570599989583568, -0.9454606872779215, -0.679667289735988, -0.8838484207021035, -0.5028123112825744, 3.9343118213247132, 0.35070410550193387, -0.046280368838664, -0.0820163029037218, -0.008986549566847787, -0.5739295049886105, 0.6810207198117851, -0.3873023034458679, 0.5171880864316012, -0.8516997665686954, -0.6838704842972433, -1.2593393006527054, 1.4703428060819923, 0.11158975828113891, -0.5884417798533564, 1.3177808214153188, 0.8259028136384728, -1.5372670978153284, 1.4943630426823513, -1.0068066670904996, 0.5758106728769645, 0.06475559805256731, 0.6661454740320087, -0.6956451269147458, 0.4077930806394698, -0.6484743250859375, 1.454739842071102, -0.48090256360238165, -0.9485979594322622, 0.014432541212998914, -0.5775295045005049, -1.215076381410684, 0.8910163281213854, 1.8482451557435005, -1.1186459074768444, 0.27257236191356327, 1.0749352795054916, -0.6019246581827352, 1.7082963351800426, -0.1837713382488892, -0.23863277042004624, 0.837903016566248, 0.5806943243683014, -0.588653758839782, -0.5077736296276937, 0.6207725139400169, -0.43847023194468326, -0.3344303193662768, 0.9737562526779379, 1.344804546524568, -1.3935479197898935, 0.9794770566574355, -1.0964770611205579, 1.1827847694454314, -1.0609420497331847, -0.4671490654565429, 0.6322435301646154, -0.6557359138843305, 0.8596441472250046, 1.351869480040771, 0.32122374381166563, -0.16249302253702777, -0.9926135720464287, -0.8720308040904993, 0.18527413708236554, 0.6811864788714659, 0.018874521622773262, 2.4771478411252272, -1.0528841419240065, -0.6963605247719721, -0.40964615465194015, -0.2613993507543657, -0.6177123245214058, -0.8550346031018308, 1.0108878186445371, 2.6999881251311693, -0.7670417397448231, 0.13459533693920017, 0.3647387830938866, 0.09003006270805353, 1.3201897149834672, -1.1146301967673908, -0.25400246015745553, -0.11826027228204032, -0.6313735672782076, 1.1997033761492395, 5.510845782809523, -0.9543668076369674, -0.9120059837763583, 1.135141011772437, -0.4108498426635955, -0.09924440789411532, 0.21351592562291627, 0.18539089881380155, -1.1051853953661057, 2.069414809234478, -1.5964601984162319, 0.4525645545058913, 2.152100680755494, 0.32704195631217775, -0.8162258028342065, -0.10383909738263745, 0.9097488784764405, -0.2286026289791128, 0.8689479864424733, 3.1885086295665035, -1.1586684278066255, 0.06557472008219425, -1.319061425352445, -1.081803763984391, -0.2691852246837871, 0.9379407706610695, -0.036187487110799714, -1.6285554144631043, 3.7893472295339548, -0.25232508177873575, 0.14279670119771742, -0.11454794937253451, 0.3754686718955544, -1.0383106033689755, 0.270396337097376, -0.557431387278902, -0.7093323452908874, -0.5396362495712883, -0.1343323879823353, -0.9912249680848911, 1.800189782354692, -0.03740547543746416, 1.2325539597712811, -0.43115987961171975, -0.9898384055447855, 0.548050213993092, -1.2803733054205817, -0.4610533318689989, -1.101332740735997, 0.8495855185632594, -0.7507682230531053, -1.067281310137361, -0.38770970263520016, 0.5364393631097956, 0.7657952406628912, 0.8204312286119756, 1.34284194158193, -0.8185152818565441, -1.1110839151027203, -0.4106910337826295, 3.0316725441087655, -0.14066321786806685, -1.1326716366599199, -0.049126308636824406, 0.08262695569300259, 0.5351176058327467, -0.6439770941556763, -0.9688221859674114, 0.2699681318013452, 1.3291370612926068, -0.24597703879964725, -0.0257683138184869, -0.18079151273618027, -1.3097029746697026, 0.7342584851159689, -0.8861992310524786, -1.244679372128077, 5.3690984149863485, -0.003918823745996771, -1.2334583180156622, 0.09666348245830253, -0.024131815615136134, -0.595217706162158, -0.981599426338125, 0.31727172007237914, 0.2599262448342662, -0.9543344777847038, -0.10379240273107891, 0.6503991937976825, 0.13640034722878155, -0.49568512784357877, -0.8777951240294377, -0.24659610493769243, -0.4916346018606905, -0.6364347730179645, -0.2856538952841936, -1.2735292521895965, -1.6285554144631043, -1.5143553557662766, -0.23266381200938427, 3.3993190490227816, 0.6801433001633626, 0.07449701726565632], \"xaxis\": \"x\", \"y\": [0.3436923408752459, 0.7452200826388711, -0.8757776051948839, 0.16611192790745966, -0.3078143115442549, -0.5479349463844998, -0.2847887122135075, -1.9255508710443308, 0.5182846862320444, 1.0787274748941538, 0.0907087878692617, -0.01216656753106585, -0.617987263338512, -0.5239060782005076, 1.0463615512960722, -0.3900453582598683, 0.7674357224178515, -0.5548986731572717, -0.28485558606348055, 0.016083615362485683, 0.9008110707366696, -0.5567139265967954, 0.7050816500922181, 0.4382494445858861, 0.6914343929792455, -1.0580052354786718, -1.2873655479564143, 0.8457482283473543, 1.138846147078104, 0.3416933673864955, 0.5550263356671511, -0.004390678866023293, 0.21463965182506423, -0.5651020934095251, -1.5306755407577604, 0.3009705679115938, 1.5145975380189847, -1.7083079667894623, 0.01149606076434974, 0.7700794709843061, -0.1425277137994026, -0.13100622837443793, -1.485374761386838, 1.3120457768532958, 0.8537068710604148, -0.4495962602325382, -0.5449128468458964, 0.5113628165945848, 0.6541753928944353, 0.0008291897816839539, -0.16473865115080213, -0.6597531823683109, -0.6225354707759716, -5.051664458142381, 2.535382096996598, 0.042793488251004756, -1.483371713388897, 0.5173650452375633, 0.07151978679569553, 0.26114271667342565, 0.34261666890012493, -0.16557672623574662, -1.9882107115341463, 0.019093032508547318, -0.7048383393719071, 0.014914058708015468, 0.4189421939388559, -0.4255049734015048, -0.5660367247131634, 0.11127903474133703, 0.20852579648310451, 1.746789490512059, 0.0017848416563865112, -1.4245008024759618, -1.5190660354878767, -1.1845433555181555, 1.9154007385793432, -0.6494358889478755, 0.9851985272783629, -0.9655522866401053, -1.5051225787699327, 0.7929735704400064, 1.4493870030182283, -0.32565644769799296, -1.7740553974102986, -0.7765627825374934, 0.18889062445305968, -0.015479357886729661, -0.05520108078571594, 0.7607243218059602, 1.8164802858545812, -0.27366489055385174, -0.6809363309551989, -1.1414585811757343, -0.01371701898892702, 0.41811320607050056, 0.12476214549782919, 1.0900799534685985, -0.546748388373806, -1.2094791268568004, -1.0266839395347753, -1.3603545054263733, -0.13619821284801878, -0.7857849928572339, -0.2528069715774482, -0.2000500487662037, 1.149498993199611, -0.2929015061933661, 0.20245339122632863, -0.20483718785320806, -0.3096922620651321, -1.095101477379232, -0.6764352778824732, 0.9692158613121928, -0.14435936528732118, -0.8491313258191425, 0.9181645912141365, 1.2077662508266043, -0.4587189043718355, -1.8350344404034458, 1.4843552709996126, 1.6592906827876126, -0.6053843509578252, -0.7293179803385063, -1.7372716695422887, 1.1909485313828634, 0.8254217355069803, 1.5426592488358453, 1.729570514453559, -0.7071173879129745, 1.0037506539657215, -0.3075743269494639, -0.04816318129541295, 0.09391405235417832, -0.3605975863663334, -0.5123668987901898, 2.0569317333928105, -0.4991002049588167, -0.5270969129760817, 0.6943829666845446, 0.26627640639597133, 0.5551032433311632, -0.5020961190538082, -0.34072743015924345, -1.3526811328993433, 0.08499502209339482, 3.6483088954538094, -0.628620456433936, 0.045790034835268466, 1.6606052232482482, 0.35059699730339416, -0.21238269657403117, 0.7101386412660446, 0.37255162886717286, 0.3232045390447987, 0.4110147465567565, 0.08835366130914726, -0.04920207307881145, -0.3273020289981219, -0.2796874501580601, 0.5621126219149735, 0.5012357603482369, 0.5354125932799588, -1.9474039594518187, -0.24141277960298047, -0.5158846017571316, -1.3348732250844677, 0.5166939558632122, -0.5835666897910419, 0.3559949858255998, -0.16042180641144477, -0.23034965406263255, -1.3631466260846752, -0.5939992552004448, 0.8882160439542739, 0.6475357421398711, 0.9470706150077962, 0.4782778584532774, -0.5005525121582839, -0.7176735667356899, -0.33945813798605784, -0.1410221092870297, -0.7222160264799233, 0.75805230104558, -1.3341497551486459, 0.0823986421650455, -0.44759177612273804, -0.2527608816642637, 0.6607655776525825, 3.2950233794841917, 0.2577394365116304, 0.1878903241533128, -0.0515467659711111, -1.5705060095740364, 1.4471891263153747, -0.8083949547893456, 0.014190499144283835, -0.5835901885016627, 0.8115341168426303, 1.0505796910597134, -0.452682902277793, 0.4762724244274913, -2.3790241415422764, 1.2015673298307656, 0.3423864162574448, -0.49827281848454336, 1.1477472192154667, 0.03923532343942361, -0.4534416733862307, -1.533796418537779, 0.42665152894858493, -0.07202450617604453, -1.44747214078495, -0.39408259074709073, 0.10350037887792514, -0.9290318864747524, -0.5697193046509746, -0.104359815971065, -1.2781434012875996, 0.6573037705011655, -5.218460882941966, -0.3872725563640255, 0.4562879934664618, 0.38439941152802526, -1.8921719626970794, -0.3164121130615216, 1.0151376195343254, 0.7076369314563555, 0.07490957508931546, 1.6826993912834873, -0.21464219817039581, -1.4006650161311385, -1.4521605004066562, -0.0766334975355122, 1.1335979234391451, 0.5996485329303758, 1.6036652462519343, 0.1601150842948933, -0.18428444659248447, 0.4969876368651806, 0.2639534019253599, 0.9442480513006458, -0.795029897795231, -0.33393119607670113, -1.7224412131909208, -1.0727932138017355, -0.5456913691828466, 0.3342704533254809, 0.23235598540295546, -0.08176220065591658, 1.8731520067221301, 0.049980461356829126, -0.7551362185091037, -0.08146411954048262, 0.12296660304158165, 0.6672780983230369, 1.1682264169727827, 1.4125832033359136, 0.025068746398890666, -0.7756265325509099, 0.6464606615516751, 5.55843429525782, -2.139294914321416, 0.3009705679115938, 1.5279710781059643, 1.2845209583469572, 1.0623098695124438, 0.7269434807352368, -1.471192172950267, -0.24171569403706517, -0.2758537412386808, 0.5598093769017685, 1.0461419807751038, 0.9897724054673994, -0.4373153356248149, -0.14677926498210347, 0.5293700884898438, -1.051822338564738, -0.5970099125132511, -1.1210351109521328, 0.10942767499578845, 0.5191297617404864, -0.01506038831804621, -0.36895572708489216, -0.44582656023678935, 1.4449539872565715, 0.44376117812747395, -0.7785200105172592, 1.1683603603880035, 1.4086046156085796, -1.3077219662018824, 0.6029181092894434, -0.12762387475591172, 0.24840298375351366, -1.3527295498790712, -1.0556942933999351, 0.9616336985629932, 0.9441862368422536, 2.6156314686270616, 0.9298214552100704, 0.05448208771873313, -1.277202796604912, 0.3095103408703681, 0.9118221799406104, -0.5859849655777178, -1.8081544213313367, 1.430827045586622, -1.8267175668240574, 1.8913411862315188, -0.8214956998474289, -0.646658411977769, -0.2524176732861183, -0.6084567227407962, -0.2682525907482283, -0.4075666935240228, 0.34590720917019707, 4.401188687458723, 0.01895550050034265, -1.0430773120574415, 0.6837018606604406, -0.2125484794871955, -0.3318964372705818, -0.9774888275468177, 1.3823016404083188, -0.978330436791008, -0.2688695174357125, 0.28223202360356503, -0.25740203311340015, 2.127671512894779, 0.5323884427294259, -0.619117388031516, 0.10204547642782874, -0.09047552055836777, -0.2032423869419539, 0.4177005840115309, 2.0949030229411756, -0.05523629429915916, -0.2534107648915746, -1.412120582027026, -1.6280993322234494, -0.43898704044333575, -0.27604493858341705, -0.6822222555374552, -1.1778344211277618, -3.1358606423014996, 0.3175397784657752, -0.27416982488503, -0.8794835460453269, -0.6110013168775047, 0.5173816153455719, -0.09454205763694148, -0.37684248504418444, 0.2330685200719729, 1.1255741527309804, -0.2549826672811467, 2.6719978471972765, -1.329138669003403, 0.9492687940272723, -1.012600201982782, -0.023933761476363044, -1.067910394367056, 0.1388659306600697, 1.1029594498807171, 0.5170063010388238, 0.09211152699948479, -0.04003493079163557, -0.12551281073940093, 1.051556818161378, -0.708200539714442, -0.46829874456178155, -0.9581622808386749, -0.04227070545626509, 0.6612134585861383, -0.44005099205668324, -0.9577228359334071, -0.43879275548169105, 1.4715809076568198, -0.10321108410099694, -0.0463410933518048, -0.32039720078691186, 0.006719557218878898, -0.013450446930939433, -0.709909961462438, -0.03490313040579337, -1.4126699483710627, 0.5132258026477167, 1.0082834430921512, 0.40969036445403545, -1.2876705583647285, 0.42584327377792947, -1.386988453451371, 1.064242125334965, -0.5218363210680952, 0.6125000058042613, 0.20075066840397424, 0.5440346340775158, 0.4764323290154802, 0.05839513580394402, 0.13403839769618503, 0.3009705679115938, -0.23678716457971297, -0.5722241977718484, -0.5267755348830826, -0.005000141883163717, 0.07266778571245239, -1.17768902178665, -0.1837023778786941, 0.7160827110408137, -0.33831817602711395, -0.5882744744526603, 0.2788140240155703, -0.5578898938806905, 0.5166939558632122, -2.3827996634270123, -0.38128030556240716, 0.2877535681839678, -0.5501743058135273, -0.5986000063654632, 0.22319659828984112, 0.5892615929356511, 0.15350672321562048, 0.13456351525159752, 0.5122149995063007, 0.7699950834145617, 0.612294899933007, -1.1386116664088224, 0.6630471395065687, 0.3009705679115938, 0.2422688726642034, 1.5387880758080899, -0.24187674780053606, -2.4215484269379104, 0.8415974309596268, -0.18519438266261326, 0.9089889939306014, -0.48663847171123886, 0.3051785019259713, -0.3172146583273281, 0.19952121506902487, -0.4749824970951777, 0.20420740379179533, -0.9195499639381851, -1.516811125915969, 0.19992990036346142, -0.8332295309033225, 0.94593463312433, -0.39406412908924354, -0.5235062212462759, 1.2126916034718744, 0.5027629292128253, -1.7251492993055957, -0.17527063451935487, -0.7776293864588362, -0.7949101012669001, -0.12888665099088356, -0.5231483328369226, -0.437339814024955, 1.0496738813344566, 0.26287959954272955, -0.936273888243677, -0.1332667527905865, 0.05173974620682129, 0.687258199197818, -0.44077135516132515, 1.5880133552891158, -0.04126616742261493, 0.624178201726566, -0.2057509843914536, -0.0948292513323109, 1.0727417911725863, 0.9925029921881909, -0.3722229847096189, -0.2248127304663944, -0.5367117993762099, 0.011504425156495357, -0.6728541865734912, -1.6431294674171733, 0.7264105745934797, -1.0449602974420835, -1.0146661869277696, -1.075753544284524, -0.625328698127194, -0.5123695531356476, -0.7499032811709916, 0.7800229300865095, 0.5326347275926312, -0.5171678893113836, 0.01127167232687682, 0.29912297280343697, 0.27324088142413017, -0.6087765613754834, -0.00732786573675088, -1.432626711539093, 0.5175887416956803, 1.3324087124631603, -0.2823537892484855, 0.12540099711191663, 0.31514853452260244, -1.6138893815918598, -0.5343307952156937, 0.6410123764869406, -0.2688924149217376, -0.31143226570899224, -0.48565215517055493, -0.32327316461699024, 1.6365644804244595, 0.8188312681441935, -0.03140760920799336, 0.15498670966583808, 2.4823007419104717, -0.11703287872281182, 0.14193215122506705, -0.4595855309176863, -0.5906998898958077, 0.4272655964081683, 0.07736544626049918, 0.7111869390803768, 0.3603148670488291, 1.0254612318564749, -0.6161456841445522, 1.7981321254463727, 0.6256383284060419, -0.7157980775915971, 0.08560538222706142, 0.6457519979292993, 1.5981804505311648, 0.11502537686570759, 0.37014763108125764, 1.1211173136979682, -0.7863000763036008, 0.1763503859935408, 0.5897863792656493, -0.30697772219695296, -0.5491205652004897, -1.7729743394427064, 0.10236270349148172, -1.3176177290803774, -0.951818324658668, -0.27985805647302986, -0.3835504874142736, 0.5750935590948782, -0.19819766312106207, 1.6016402817727462, -1.4619786232979706, -0.16401694026376812, -0.518260137303803, -0.7553756304295798, 0.2238195259479067, -0.26327572265716276, -0.3983445045717435, 0.8760339525462996, -3.2069418148216915, -0.4203534292864256, -0.8527750373384091, 0.10478655902530766, 0.5054097877400782, -0.588248807049183, -0.09108342927954668, 1.0220740571912628, 0.8610661612999627, -0.5752493349935285, 0.2738164950094654, 3.3540568049341055, 1.2539961353450475, 1.358581918967543, 0.6741281769034686, 1.9268932864593238, -0.07016098918619518, -1.2291926876044708, -0.9265047813449616, 1.082967765533572, 0.51250238011239, 0.3750656181526109, 0.3158197010134436, 0.42087781382829187, 0.5783233903983618, 0.6930185801815768, 0.06900706527370543, -0.05737943005949226, -0.9126539642773156, -1.756765749840809, 5.970868917713538, 0.21731978893216666, 0.5978577786472232, 0.3392499191085716, -0.21292345515887712, 2.0781162850797332, 0.37591209507038403, -0.12204180528831816, 0.3009705679115938, -0.6099082306243416, 1.3395380603504101, 0.39148306427355484, 0.4713264974245705, 0.02443935837399756, -0.2570763430020951, -0.21116529952934915, -0.6345386621731014, 0.982520736330533, -0.35072651907258834, -0.9532881579096156, -0.28907102840338267, 0.40443940780260335, -1.0431623160308685, -0.5353862790721485, 0.7895020451888899, -0.2913405218530424, 0.11828531443155865, 0.024539927635188606, -0.35656888794660957, -0.1984111910691863, 0.0853943598899809, -0.47274771757618317, -0.23151750775574081, -0.7547290059283472, -0.11325791434823632, 2.3100257935291255, -1.6682664069678235, -2.1231904649237117, -0.4276460868112648, 0.19066076800183826, -0.7215329883318569, 1.737433446328395, -0.9599005746871476, -0.16516735237822058, 0.09750092735916949, 0.7020338187432211, -1.5230005208243371, -0.5664683865911352, 1.2187541996605504, -0.014964384259786382, 0.15519000698898378, -0.8811310565159777, 0.46743598282931514, 0.690658837582239, 0.035880863908618554, -0.17878303648439003, 0.017257578421843143, -0.05562846269525191, -1.8164151975217386, 0.07079261219637993, -0.010307173616479532, -1.1610056838069123, 1.416781218416613, -0.2604822664880083, 1.2513886211042082, -1.3307060540564162, 1.5359138362545155, 0.2094433311435639, -0.9820590144788023, 0.4072524959314137, -0.23432617522552396, -0.6857608718440136, -0.3858672777238255, 0.9315379656579305, 0.9961631936214829, -0.5830731350388068, -0.8340960996407237, 0.3113391465066463, 0.30097056791159377, 0.5435706710532731, 1.9593106019796818, -0.20725781302265284, 0.18182313748051732, 0.44540197482284105], \"yaxis\": \"y\"}],                        {\"coloraxis\": {\"colorbar\": {\"title\": {\"text\": \"color\"}}, \"colorscale\": [[0.0, \"#0d0887\"], [0.1111111111111111, \"#46039f\"], [0.2222222222222222, \"#7201a8\"], [0.3333333333333333, \"#9c179e\"], [0.4444444444444444, \"#bd3786\"], [0.5555555555555556, \"#d8576b\"], [0.6666666666666666, \"#ed7953\"], [0.7777777777777778, \"#fb9f3a\"], [0.8888888888888888, \"#fdca26\"], [1.0, \"#f0f921\"]]}, \"legend\": {\"tracegroupgap\": 0}, \"margin\": {\"t\": 60}, \"template\": {\"data\": {\"bar\": [{\"error_x\": {\"color\": \"#2a3f5f\"}, \"error_y\": {\"color\": \"#2a3f5f\"}, \"marker\": {\"line\": {\"color\": \"#E5ECF6\", \"width\": 0.5}}, \"type\": \"bar\"}], \"barpolar\": [{\"marker\": {\"line\": {\"color\": \"#E5ECF6\", \"width\": 0.5}}, \"type\": \"barpolar\"}], \"carpet\": [{\"aaxis\": {\"endlinecolor\": \"#2a3f5f\", \"gridcolor\": \"white\", \"linecolor\": \"white\", \"minorgridcolor\": \"white\", \"startlinecolor\": \"#2a3f5f\"}, \"baxis\": {\"endlinecolor\": \"#2a3f5f\", \"gridcolor\": \"white\", \"linecolor\": \"white\", \"minorgridcolor\": \"white\", \"startlinecolor\": \"#2a3f5f\"}, \"type\": \"carpet\"}], \"choropleth\": [{\"colorbar\": {\"outlinewidth\": 0, \"ticks\": \"\"}, \"type\": \"choropleth\"}], \"contour\": [{\"colorbar\": {\"outlinewidth\": 0, \"ticks\": \"\"}, \"colorscale\": [[0.0, \"#0d0887\"], [0.1111111111111111, \"#46039f\"], [0.2222222222222222, \"#7201a8\"], [0.3333333333333333, \"#9c179e\"], [0.4444444444444444, \"#bd3786\"], [0.5555555555555556, \"#d8576b\"], [0.6666666666666666, \"#ed7953\"], [0.7777777777777778, \"#fb9f3a\"], [0.8888888888888888, \"#fdca26\"], [1.0, \"#f0f921\"]], \"type\": \"contour\"}], \"contourcarpet\": [{\"colorbar\": {\"outlinewidth\": 0, \"ticks\": \"\"}, \"type\": \"contourcarpet\"}], \"heatmap\": [{\"colorbar\": {\"outlinewidth\": 0, \"ticks\": \"\"}, \"colorscale\": [[0.0, \"#0d0887\"], [0.1111111111111111, \"#46039f\"], [0.2222222222222222, \"#7201a8\"], [0.3333333333333333, \"#9c179e\"], [0.4444444444444444, \"#bd3786\"], [0.5555555555555556, \"#d8576b\"], [0.6666666666666666, \"#ed7953\"], [0.7777777777777778, \"#fb9f3a\"], [0.8888888888888888, \"#fdca26\"], [1.0, \"#f0f921\"]], \"type\": \"heatmap\"}], \"heatmapgl\": [{\"colorbar\": {\"outlinewidth\": 0, \"ticks\": \"\"}, \"colorscale\": [[0.0, \"#0d0887\"], [0.1111111111111111, \"#46039f\"], [0.2222222222222222, \"#7201a8\"], [0.3333333333333333, \"#9c179e\"], [0.4444444444444444, \"#bd3786\"], [0.5555555555555556, \"#d8576b\"], [0.6666666666666666, \"#ed7953\"], [0.7777777777777778, \"#fb9f3a\"], [0.8888888888888888, \"#fdca26\"], [1.0, \"#f0f921\"]], \"type\": \"heatmapgl\"}], \"histogram\": [{\"marker\": {\"colorbar\": {\"outlinewidth\": 0, \"ticks\": \"\"}}, \"type\": \"histogram\"}], \"histogram2d\": [{\"colorbar\": {\"outlinewidth\": 0, \"ticks\": \"\"}, \"colorscale\": [[0.0, \"#0d0887\"], [0.1111111111111111, \"#46039f\"], [0.2222222222222222, \"#7201a8\"], [0.3333333333333333, \"#9c179e\"], [0.4444444444444444, \"#bd3786\"], [0.5555555555555556, \"#d8576b\"], [0.6666666666666666, \"#ed7953\"], [0.7777777777777778, \"#fb9f3a\"], [0.8888888888888888, \"#fdca26\"], [1.0, \"#f0f921\"]], \"type\": \"histogram2d\"}], \"histogram2dcontour\": [{\"colorbar\": {\"outlinewidth\": 0, \"ticks\": \"\"}, \"colorscale\": [[0.0, \"#0d0887\"], [0.1111111111111111, \"#46039f\"], [0.2222222222222222, \"#7201a8\"], [0.3333333333333333, \"#9c179e\"], [0.4444444444444444, \"#bd3786\"], [0.5555555555555556, \"#d8576b\"], [0.6666666666666666, \"#ed7953\"], [0.7777777777777778, \"#fb9f3a\"], [0.8888888888888888, \"#fdca26\"], [1.0, \"#f0f921\"]], \"type\": \"histogram2dcontour\"}], \"mesh3d\": [{\"colorbar\": {\"outlinewidth\": 0, \"ticks\": \"\"}, \"type\": \"mesh3d\"}], \"parcoords\": [{\"line\": {\"colorbar\": {\"outlinewidth\": 0, \"ticks\": \"\"}}, \"type\": \"parcoords\"}], \"pie\": [{\"automargin\": true, \"type\": \"pie\"}], \"scatter\": [{\"marker\": {\"colorbar\": {\"outlinewidth\": 0, \"ticks\": \"\"}}, \"type\": \"scatter\"}], \"scatter3d\": [{\"line\": {\"colorbar\": {\"outlinewidth\": 0, \"ticks\": \"\"}}, \"marker\": {\"colorbar\": {\"outlinewidth\": 0, \"ticks\": \"\"}}, \"type\": \"scatter3d\"}], \"scattercarpet\": [{\"marker\": {\"colorbar\": {\"outlinewidth\": 0, \"ticks\": \"\"}}, \"type\": \"scattercarpet\"}], \"scattergeo\": [{\"marker\": {\"colorbar\": {\"outlinewidth\": 0, \"ticks\": \"\"}}, \"type\": \"scattergeo\"}], \"scattergl\": [{\"marker\": {\"colorbar\": {\"outlinewidth\": 0, \"ticks\": \"\"}}, \"type\": \"scattergl\"}], \"scattermapbox\": [{\"marker\": {\"colorbar\": {\"outlinewidth\": 0, \"ticks\": \"\"}}, \"type\": \"scattermapbox\"}], \"scatterpolar\": [{\"marker\": {\"colorbar\": {\"outlinewidth\": 0, \"ticks\": \"\"}}, \"type\": \"scatterpolar\"}], \"scatterpolargl\": [{\"marker\": {\"colorbar\": {\"outlinewidth\": 0, \"ticks\": \"\"}}, \"type\": \"scatterpolargl\"}], \"scatterternary\": [{\"marker\": {\"colorbar\": {\"outlinewidth\": 0, \"ticks\": \"\"}}, \"type\": \"scatterternary\"}], \"surface\": [{\"colorbar\": {\"outlinewidth\": 0, \"ticks\": \"\"}, \"colorscale\": [[0.0, \"#0d0887\"], [0.1111111111111111, \"#46039f\"], [0.2222222222222222, \"#7201a8\"], [0.3333333333333333, \"#9c179e\"], [0.4444444444444444, \"#bd3786\"], [0.5555555555555556, \"#d8576b\"], [0.6666666666666666, \"#ed7953\"], [0.7777777777777778, \"#fb9f3a\"], [0.8888888888888888, \"#fdca26\"], [1.0, \"#f0f921\"]], \"type\": \"surface\"}], \"table\": [{\"cells\": {\"fill\": {\"color\": \"#EBF0F8\"}, \"line\": {\"color\": \"white\"}}, \"header\": {\"fill\": {\"color\": \"#C8D4E3\"}, \"line\": {\"color\": \"white\"}}, \"type\": \"table\"}]}, \"layout\": {\"annotationdefaults\": {\"arrowcolor\": \"#2a3f5f\", \"arrowhead\": 0, \"arrowwidth\": 1}, \"autotypenumbers\": \"strict\", \"coloraxis\": {\"colorbar\": {\"outlinewidth\": 0, \"ticks\": \"\"}}, \"colorscale\": {\"diverging\": [[0, \"#8e0152\"], [0.1, \"#c51b7d\"], [0.2, \"#de77ae\"], [0.3, \"#f1b6da\"], [0.4, \"#fde0ef\"], [0.5, \"#f7f7f7\"], [0.6, \"#e6f5d0\"], [0.7, \"#b8e186\"], [0.8, \"#7fbc41\"], [0.9, \"#4d9221\"], [1, \"#276419\"]], \"sequential\": [[0.0, \"#0d0887\"], [0.1111111111111111, \"#46039f\"], [0.2222222222222222, \"#7201a8\"], [0.3333333333333333, \"#9c179e\"], [0.4444444444444444, \"#bd3786\"], [0.5555555555555556, \"#d8576b\"], [0.6666666666666666, \"#ed7953\"], [0.7777777777777778, \"#fb9f3a\"], [0.8888888888888888, \"#fdca26\"], [1.0, \"#f0f921\"]], \"sequentialminus\": [[0.0, \"#0d0887\"], [0.1111111111111111, \"#46039f\"], [0.2222222222222222, \"#7201a8\"], [0.3333333333333333, \"#9c179e\"], [0.4444444444444444, \"#bd3786\"], [0.5555555555555556, \"#d8576b\"], [0.6666666666666666, \"#ed7953\"], [0.7777777777777778, \"#fb9f3a\"], [0.8888888888888888, \"#fdca26\"], [1.0, \"#f0f921\"]]}, \"colorway\": [\"#636efa\", \"#EF553B\", \"#00cc96\", \"#ab63fa\", \"#FFA15A\", \"#19d3f3\", \"#FF6692\", \"#B6E880\", \"#FF97FF\", \"#FECB52\"], \"font\": {\"color\": \"#2a3f5f\"}, \"geo\": {\"bgcolor\": \"white\", \"lakecolor\": \"white\", \"landcolor\": \"#E5ECF6\", \"showlakes\": true, \"showland\": true, \"subunitcolor\": \"white\"}, \"hoverlabel\": {\"align\": \"left\"}, \"hovermode\": \"closest\", \"mapbox\": {\"style\": \"light\"}, \"paper_bgcolor\": \"white\", \"plot_bgcolor\": \"#E5ECF6\", \"polar\": {\"angularaxis\": {\"gridcolor\": \"white\", \"linecolor\": \"white\", \"ticks\": \"\"}, \"bgcolor\": \"#E5ECF6\", \"radialaxis\": {\"gridcolor\": \"white\", \"linecolor\": \"white\", \"ticks\": \"\"}}, \"scene\": {\"xaxis\": {\"backgroundcolor\": \"#E5ECF6\", \"gridcolor\": \"white\", \"gridwidth\": 2, \"linecolor\": \"white\", \"showbackground\": true, \"ticks\": \"\", \"zerolinecolor\": \"white\"}, \"yaxis\": {\"backgroundcolor\": \"#E5ECF6\", \"gridcolor\": \"white\", \"gridwidth\": 2, \"linecolor\": \"white\", \"showbackground\": true, \"ticks\": \"\", \"zerolinecolor\": \"white\"}, \"zaxis\": {\"backgroundcolor\": \"#E5ECF6\", \"gridcolor\": \"white\", \"gridwidth\": 2, \"linecolor\": \"white\", \"showbackground\": true, \"ticks\": \"\", \"zerolinecolor\": \"white\"}}, \"shapedefaults\": {\"line\": {\"color\": \"#2a3f5f\"}}, \"ternary\": {\"aaxis\": {\"gridcolor\": \"white\", \"linecolor\": \"white\", \"ticks\": \"\"}, \"baxis\": {\"gridcolor\": \"white\", \"linecolor\": \"white\", \"ticks\": \"\"}, \"bgcolor\": \"#E5ECF6\", \"caxis\": {\"gridcolor\": \"white\", \"linecolor\": \"white\", \"ticks\": \"\"}}, \"title\": {\"x\": 0.05}, \"xaxis\": {\"automargin\": true, \"gridcolor\": \"white\", \"linecolor\": \"white\", \"ticks\": \"\", \"title\": {\"standoff\": 15}, \"zerolinecolor\": \"white\", \"zerolinewidth\": 2}, \"yaxis\": {\"automargin\": true, \"gridcolor\": \"white\", \"linecolor\": \"white\", \"ticks\": \"\", \"title\": {\"standoff\": 15}, \"zerolinecolor\": \"white\", \"zerolinewidth\": 2}}}, \"xaxis\": {\"anchor\": \"y\", \"domain\": [0.0, 1.0], \"title\": {\"text\": \"PC 1\"}}, \"yaxis\": {\"anchor\": \"x\", \"domain\": [0.0, 1.0], \"title\": {\"text\": \"PC 2\"}}},                        {\"responsive\": true}                    ).then(function(){\n",
       "                            \n",
       "var gd = document.getElementById('859393ac-f04d-40cd-b73a-eb2fc0e40fc6');\n",
       "var x = new MutationObserver(function (mutations, observer) {{\n",
       "        var display = window.getComputedStyle(gd).display;\n",
       "        if (!display || display === 'none') {{\n",
       "            console.log([gd, 'removed!']);\n",
       "            Plotly.purge(gd);\n",
       "            observer.disconnect();\n",
       "        }}\n",
       "}});\n",
       "\n",
       "// Listen for the removal of the full notebook cells\n",
       "var notebookContainer = gd.closest('#notebook-container');\n",
       "if (notebookContainer) {{\n",
       "    x.observe(notebookContainer, {childList: true});\n",
       "}}\n",
       "\n",
       "// Listen for the clearing of the current output cell\n",
       "var outputEl = gd.closest('.output');\n",
       "if (outputEl) {{\n",
       "    x.observe(outputEl, {childList: true});\n",
       "}}\n",
       "\n",
       "                        })                };                });            </script>        </div>"
      ]
     },
     "metadata": {},
     "output_type": "display_data"
    }
   ],
   "source": [
    "fig = px.scatter(pca_result, x=0, y=1, color=behavior_scale['Kcluster_4'],\n",
    "                labels={'0': 'PC 1', '1': 'PC 2'})\n",
    "fig.show()"
   ]
  },
  {
   "cell_type": "markdown",
   "id": "852391a8",
   "metadata": {},
   "source": [
    "### Check loading of 2 PC vs original feature"
   ]
  },
  {
   "cell_type": "code",
   "execution_count": 142,
   "id": "d6d3bfb2",
   "metadata": {},
   "outputs": [],
   "source": [
    "df_comp = pd.DataFrame(pca.components_.round(1),columns=['Rnumber_checking_spending','Rvalue_checking_spending', \n",
    "            'Rnumber_credit_negative', \n",
    "       'Rvalue_credit_spending', \n",
    "       'Rnumber_deposit_saving', \n",
    "       'Rvalue_deposit_saving'], \n",
    "                       index=['pc1','pc2','pc3','pc4','pc5','pc6'])"
   ]
  },
  {
   "cell_type": "code",
   "execution_count": 143,
   "id": "387f0b43",
   "metadata": {},
   "outputs": [
    {
     "data": {
      "text/plain": [
       "<AxesSubplot:>"
      ]
     },
     "execution_count": 143,
     "metadata": {},
     "output_type": "execute_result"
    },
    {
     "data": {
      "image/png": "[encoded data removed]",
      "text/plain": [
       "<Figure size 864x432 with 2 Axes>"
      ]
     },
     "metadata": {
      "needs_background": "light"
     },
     "output_type": "display_data"
    }
   ],
   "source": [
    "plt.figure(figsize=(12,6)) # visualize relationship of each new component vs. original features\n",
    "sns.heatmap(df_comp,cmap='PuBuGn',annot=True)\n",
    "# 2 original features that have high impact on clusters are:  avg value of checking spending & avg value of deposit saving "
   ]
  },
  {
   "cell_type": "markdown",
   "id": "5ecab264",
   "metadata": {},
   "source": [
    "### Hierachical Model"
   ]
  },
  {
   "cell_type": "code",
   "execution_count": 144,
   "id": "a0a624e6",
   "metadata": {},
   "outputs": [
    {
     "data": {
      "image/png": "[encoded data removed]",
      "text/plain": [
       "<Figure size 2160x720 with 1 Axes>"
      ]
     },
     "metadata": {
      "needs_background": "light"
     },
     "output_type": "display_data"
    }
   ],
   "source": [
    "plt.figure(figsize=(30,10))\n",
    "sch.dendrogram(sch.linkage(behavior_scale[['Rnumber_checking_spending', \n",
    "       'Rvalue_checking_spending', \n",
    "            'Rnumber_credit_negative', \n",
    "       'Rvalue_credit_spending', \n",
    "       'Rnumber_deposit_saving', \n",
    "       'Rvalue_deposit_saving']], method='ward'))\n",
    "plt.title(\"Dendrogram\")\n",
    "plt.ylabel(\"Euclidean distances\")\n",
    "plt.xlabel('Points');\n",
    "#{'ward', 'complete', 'average', 'single'}"
   ]
  },
  {
   "cell_type": "code",
   "execution_count": 145,
   "id": "9129e7cd",
   "metadata": {},
   "outputs": [
    {
     "data": {
      "text/plain": [
       "0    439\n",
       "3    145\n",
       "1     74\n",
       "2      7\n",
       "Name: Hcluster_4, dtype: int64"
      ]
     },
     "execution_count": 145,
     "metadata": {},
     "output_type": "execute_result"
    }
   ],
   "source": [
    "ac = AgglomerativeClustering(affinity='euclidean',linkage='ward', n_clusters = 4)\n",
    "behavior_scale['Hcluster_4']= ac.fit_predict(behavior_scale[['Rnumber_checking_spending', \n",
    "       'Rvalue_checking_spending', \n",
    "            'Rnumber_credit_negative', \n",
    "       'Rvalue_credit_spending', \n",
    "       'Rnumber_deposit_saving', \n",
    "       'Rvalue_deposit_saving']])\n",
    "behavior_scale['Hcluster_4'].value_counts()"
   ]
  },
  {
   "cell_type": "code",
   "execution_count": null,
   "id": "eb76d888",
   "metadata": {},
   "outputs": [],
   "source": []
  }
 ],
 "metadata": {
  "kernelspec": {
   "display_name": "Python 3",
   "language": "python",
   "name": "python3"
  },
  "language_info": {
   "codemirror_mode": {
    "name": "ipython",
    "version": 3
   },
   "file_extension": ".py",
   "mimetype": "text/x-python",
   "name": "python",
   "nbconvert_exporter": "python",
   "pygments_lexer": "ipython3",
   "version": "3.8.6"
  }
 },
 "nbformat": 4,
 "nbformat_minor": 5
}
